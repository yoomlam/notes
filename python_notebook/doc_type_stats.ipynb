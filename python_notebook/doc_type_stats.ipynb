{
 "cells": [
  {
   "cell_type": "code",
   "execution_count": 1,
   "metadata": {},
   "outputs": [],
   "source": [
    "import pandas as pd\n",
    "task_types=[\"HearingTask\", \"JudgeAssignTask\", \"AttorneyTask\", \"JudgeDecisionReviewTask\"]"
   ]
  },
  {
   "cell_type": "code",
   "execution_count": 2,
   "metadata": {},
   "outputs": [],
   "source": [
    "#for task_type in task_types:"
   ]
  },
  {
   "cell_type": "code",
   "execution_count": 3,
   "metadata": {},
   "outputs": [],
   "source": [
    "task_type=\"JudgeAssignTask\""
   ]
  },
  {
   "cell_type": "code",
   "execution_count": 4,
   "metadata": {},
   "outputs": [
    {
     "name": "stdout",
     "output_type": "stream",
     "text": [
      "/Users/yoomlam/dev/notes\r\n"
     ]
    }
   ],
   "source": [
    "!pwd"
   ]
  },
  {
   "cell_type": "code",
   "execution_count": 5,
   "metadata": {},
   "outputs": [
    {
     "name": "stdout",
     "output_type": "stream",
     "text": [
      "                                                 doctype  spent\n",
      "0      Medical Treatment Record - Non-Government Faci...   2511\n",
      "1                                   RAMP Opt-in Election     25\n",
      "2                                            BVA-General     16\n",
      "3                                        Hearing Related     22\n",
      "4                                         Correspondence     43\n",
      "...                                                  ...    ...\n",
      "12947               VA Form 10182 Notice of Disagreement     12\n",
      "12948                                         BVA Letter  74831\n",
      "12949               VA Form 10182 Notice of Disagreement     14\n",
      "12950               VA Form 10182 Notice of Disagreement    243\n",
      "12951                         Third Party Correspondence     18\n",
      "\n",
      "[12952 rows x 2 columns]\n"
     ]
    }
   ],
   "source": [
    "df = pd.read_csv (f'./type-{task_type}.csv', sep=\"\\t\", header = 0, names=[\"doctype\",\"spent\"])\n",
    "print (df)"
   ]
  },
  {
   "cell_type": "code",
   "execution_count": 6,
   "metadata": {},
   "outputs": [],
   "source": [
    "x=df['spent']\n",
    "x.size\n",
    "remove_outliers=df[df['spent'].between(x.quantile(.15), x.quantile(.85))]\n",
    "remove_outliers.size\n",
    "grouped=remove_outliers.groupby(['doctype'])\n",
    "#grouped.median() # stdev, var\n",
    "#grouped.agg(['count', 'mean', 'median'])\n",
    "\n",
    "stats=grouped.agg({'doctype':'count', 'spent':['mean', 'median', 'min', 'max', 'std', 'var']})\n",
    "#stats.columns.set_levels(['Count', 'Mean', 'Median', 'Min', 'Max', 'Std', 'Var', 'DocType'], level=1, inplace=True)"
   ]
  },
  {
   "cell_type": "code",
   "execution_count": 7,
   "metadata": {},
   "outputs": [
    {
     "data": {
      "text/plain": [
       "1757"
      ]
     },
     "execution_count": 7,
     "metadata": {},
     "output_type": "execute_result"
    }
   ],
   "source": [
    "stats.size"
   ]
  },
  {
   "cell_type": "code",
   "execution_count": 8,
   "metadata": {
    "scrolled": false
   },
   "outputs": [
    {
     "data": {
      "text/plain": [
       "336"
      ]
     },
     "execution_count": 8,
     "metadata": {},
     "output_type": "execute_result"
    }
   ],
   "source": [
    "stats2=stats[stats['doctype','count']>=20]\n",
    "stats2.size\n",
    "#  stats2.to_csv(f'stats-{task_type}.csv')"
   ]
  },
  {
   "cell_type": "code",
   "execution_count": null,
   "metadata": {},
   "outputs": [],
   "source": []
  }
 ],
 "metadata": {
  "kernelspec": {
   "display_name": "Python 3",
   "language": "python",
   "name": "python3"
  },
  "language_info": {
   "codemirror_mode": {
    "name": "ipython",
    "version": 3
   },
   "file_extension": ".py",
   "mimetype": "text/x-python",
   "name": "python",
   "nbconvert_exporter": "python",
   "pygments_lexer": "ipython3",
   "version": "3.7.6"
  }
 },
 "nbformat": 4,
 "nbformat_minor": 4
}
