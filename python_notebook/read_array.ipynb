{
 "cells": [
  {
   "cell_type": "code",
   "execution_count": 2,
   "metadata": {},
   "outputs": [],
   "source": [
    "arr=[[], [], [], [[\"JudgeDecisionReviewTask\", \"2018-10-17T00:00:00.000000000Z\", \"2018-10-17T00:00:00.000000000Z\", [], 878422]]]\n",
    "\n"
   ]
  },
  {
   "cell_type": "code",
   "execution_count": 3,
   "metadata": {},
   "outputs": [
    {
     "data": {
      "text/plain": [
       "[[],\n",
       " [],\n",
       " [],\n",
       " [['JudgeDecisionReviewTask',\n",
       "   '2018-10-17T00:00:00.000000000Z',\n",
       "   '2018-10-17T00:00:00.000000000Z',\n",
       "   [],\n",
       "   878422]]]"
      ]
     },
     "execution_count": 3,
     "metadata": {},
     "output_type": "execute_result"
    }
   ],
   "source": [
    "arr"
   ]
  },
  {
   "cell_type": "code",
   "execution_count": 4,
   "metadata": {},
   "outputs": [],
   "source": [
    "task_type_index=3"
   ]
  },
  {
   "cell_type": "code",
   "execution_count": 5,
   "metadata": {},
   "outputs": [],
   "source": [
    "taskTypeArr=arr[task_type_index]"
   ]
  },
  {
   "cell_type": "code",
   "execution_count": 9,
   "metadata": {},
   "outputs": [],
   "source": [
    "firstTask=taskTypeArr[0]\n",
    "firstTask"
   ]
  },
  {
   "cell_type": "code",
   "execution_count": 11,
   "metadata": {},
   "outputs": [
    {
     "data": {
      "text/plain": [
       "'JudgeDecisionReviewTask'"
      ]
     },
     "execution_count": 11,
     "metadata": {},
     "output_type": "execute_result"
    }
   ],
   "source": [
    "task_type=firstTask[0]\n",
    "task_type"
   ]
  },
  {
   "cell_type": "code",
   "execution_count": 18,
   "metadata": {},
   "outputs": [
    {
     "data": {
      "text/plain": [
       "(datetime.datetime(2018, 10, 17, 0, 0, tzinfo=tzutc()),\n",
       " datetime.datetime(2018, 10, 17, 0, 0, tzinfo=tzutc()))"
      ]
     },
     "execution_count": 18,
     "metadata": {},
     "output_type": "execute_result"
    }
   ],
   "source": [
    "import dateutil.parser\n",
    "assigned_at=dateutil.parser.isoparse(firstTask[1])\n",
    "completed_at=dateutil.parser.isoparse(firstTask[2])\n",
    "assigned_at, completed_at"
   ]
  },
  {
   "cell_type": "code",
   "execution_count": 26,
   "metadata": {},
   "outputs": [
    {
     "data": {
      "text/plain": [
       "tzutc()"
      ]
     },
     "execution_count": 26,
     "metadata": {},
     "output_type": "execute_result"
    }
   ],
   "source": [
    "tz=completed_at.tzinfo\n",
    "tz"
   ]
  },
  {
   "cell_type": "code",
   "execution_count": 24,
   "metadata": {},
   "outputs": [
    {
     "data": {
      "text/plain": [
       "[('_TzSingleton__instance', tzutc()),\n",
       " ('__class__', dateutil.tz.tz.tzutc),\n",
       " ('__delattr__',\n",
       "  <method-wrapper '__delattr__' of tzutc object at 0x7fb4b83f8190>),\n",
       " ('__dict__', {}),\n",
       " ('__dir__', <function tzutc.__dir__()>),\n",
       " ('__doc__',\n",
       "  \"\\n    This is a tzinfo object that represents the UTC time zone.\\n\\n    **Examples:**\\n\\n    .. doctest::\\n\\n        >>> from datetime import *\\n        >>> from dateutil.tz import *\\n\\n        >>> datetime.now()\\n        datetime.datetime(2003, 9, 27, 9, 40, 1, 521290)\\n\\n        >>> datetime.now(tzutc())\\n        datetime.datetime(2003, 9, 27, 12, 40, 12, 156379, tzinfo=tzutc())\\n\\n        >>> datetime.now(tzutc()).tzname()\\n        'UTC'\\n\\n    .. versionchanged:: 2.7.0\\n        ``tzutc()`` is now a singleton, so the result of ``tzutc()`` will\\n        always return the same object.\\n\\n        .. doctest::\\n\\n            >>> from dateutil.tz import tzutc, UTC\\n            >>> tzutc() is tzutc()\\n            True\\n            >>> tzutc() is UTC\\n            True\\n    \"),\n",
       " ('__eq__', <bound method tzutc.__eq__ of tzutc()>),\n",
       " ('__format__', <function tzutc.__format__(format_spec, /)>),\n",
       " ('__ge__', <method-wrapper '__ge__' of tzutc object at 0x7fb4b83f8190>),\n",
       " ('__getattribute__',\n",
       "  <method-wrapper '__getattribute__' of tzutc object at 0x7fb4b83f8190>),\n",
       " ('__gt__', <method-wrapper '__gt__' of tzutc object at 0x7fb4b83f8190>),\n",
       " ('__hash__', None),\n",
       " ('__init__', <method-wrapper '__init__' of tzutc object at 0x7fb4b83f8190>),\n",
       " ('__init_subclass__', <function tzutc.__init_subclass__>),\n",
       " ('__le__', <method-wrapper '__le__' of tzutc object at 0x7fb4b83f8190>),\n",
       " ('__lt__', <method-wrapper '__lt__' of tzutc object at 0x7fb4b83f8190>),\n",
       " ('__module__', 'dateutil.tz.tz'),\n",
       " ('__ne__', <bound method tzutc.__ne__ of tzutc()>),\n",
       " ('__new__', <function tzinfo.__new__(*args, **kwargs)>),\n",
       " ('__reduce__', <function tzutc.__reduce__()>),\n",
       " ('__reduce_ex__', <function tzutc.__reduce_ex__(protocol, /)>),\n",
       " ('__repr__', <bound method tzutc.__repr__ of tzutc()>),\n",
       " ('__setattr__',\n",
       "  <method-wrapper '__setattr__' of tzutc object at 0x7fb4b83f8190>),\n",
       " ('__sizeof__', <function tzutc.__sizeof__()>),\n",
       " ('__str__', <method-wrapper '__str__' of tzutc object at 0x7fb4b83f8190>),\n",
       " ('__subclasshook__', <function tzutc.__subclasshook__>),\n",
       " ('__weakref__', None),\n",
       " ('dst', <bound method tzutc.dst of tzutc()>),\n",
       " ('fromutc', <bound method tzutc.fromutc of tzutc()>),\n",
       " ('is_ambiguous', <bound method tzutc.is_ambiguous of tzutc()>),\n",
       " ('tzname', <bound method tzutc.tzname of tzutc()>),\n",
       " ('utcoffset', <bound method tzutc.utcoffset of tzutc()>)]"
      ]
     },
     "execution_count": 24,
     "metadata": {},
     "output_type": "execute_result"
    }
   ],
   "source": [
    "import inspect\n",
    "inspect.getmembers(tz)"
   ]
  },
  {
   "cell_type": "code",
   "execution_count": 29,
   "metadata": {},
   "outputs": [
    {
     "data": {
      "text/plain": [
       "'UTC'"
      ]
     },
     "execution_count": 29,
     "metadata": {},
     "output_type": "execute_result"
    }
   ],
   "source": [
    "tz.tzname(completed_at)"
   ]
  },
  {
   "cell_type": "code",
   "execution_count": 31,
   "metadata": {},
   "outputs": [
    {
     "name": "stdout",
     "output_type": "stream",
     "text": [
      "\n",
      "    This is a tzinfo object that represents the UTC time zone.\n",
      "\n",
      "    **Examples:**\n",
      "\n",
      "    .. doctest::\n",
      "\n",
      "        >>> from datetime import *\n",
      "        >>> from dateutil.tz import *\n",
      "\n",
      "        >>> datetime.now()\n",
      "        datetime.datetime(2003, 9, 27, 9, 40, 1, 521290)\n",
      "\n",
      "        >>> datetime.now(tzutc())\n",
      "        datetime.datetime(2003, 9, 27, 12, 40, 12, 156379, tzinfo=tzutc())\n",
      "\n",
      "        >>> datetime.now(tzutc()).tzname()\n",
      "        'UTC'\n",
      "\n",
      "    .. versionchanged:: 2.7.0\n",
      "        ``tzutc()`` is now a singleton, so the result of ``tzutc()`` will\n",
      "        always return the same object.\n",
      "\n",
      "        .. doctest::\n",
      "\n",
      "            >>> from dateutil.tz import tzutc, UTC\n",
      "            >>> tzutc() is tzutc()\n",
      "            True\n",
      "            >>> tzutc() is UTC\n",
      "            True\n",
      "    \n"
     ]
    }
   ],
   "source": [
    "print(tz.__doc__)"
   ]
  },
  {
   "cell_type": "code",
   "execution_count": 34,
   "metadata": {},
   "outputs": [
    {
     "data": {
      "text/plain": [
       "tzutc()"
      ]
     },
     "execution_count": 34,
     "metadata": {},
     "output_type": "execute_result"
    }
   ],
   "source": [
    "from dateutil.tz import UTC\n",
    "UTC"
   ]
  },
  {
   "cell_type": "code",
   "execution_count": null,
   "metadata": {},
   "outputs": [],
   "source": []
  }
 ],
 "metadata": {
  "kernelspec": {
   "display_name": "Python 3",
   "language": "python",
   "name": "python3"
  },
  "language_info": {
   "codemirror_mode": {
    "name": "ipython",
    "version": 3
   },
   "file_extension": ".py",
   "mimetype": "text/x-python",
   "name": "python",
   "nbconvert_exporter": "python",
   "pygments_lexer": "ipython3",
   "version": "3.7.6"
  }
 },
 "nbformat": 4,
 "nbformat_minor": 4
}
