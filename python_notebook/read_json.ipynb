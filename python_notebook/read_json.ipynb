{
 "cells": [
  {
   "cell_type": "code",
   "execution_count": 4,
   "metadata": {},
   "outputs": [
    {
     "data": {
      "text/plain": [
       "'{\"id\":706,\"closest_regional_office\":null,\"created_at\":\"2020-06-15T13:43:16.685Z\",\"docket_range_date\":null,\"docket_type\":\"evidence_submission\",\"established_at\":\"2020-06-15T13:43:16.685Z\",\"establishment_attempted_at\":null,\"establishment_canceled_at\":null,\"establishment_error\":null,\"establishment_last_submitted_at\":null,\"establishment_processed_at\":null,\"establishment_submitted_at\":null,\"legacy_opt_in_approved\":null,\"poa_participant_id\":null,\"receipt_date\":\"2020-06-14\",\"stream_docket_number\":\"200614-704\",\"stream_type\":\"de_novo\",\"target_decision_date\":null,\"updated_at\":\"2020-06-15T13:43:16.685Z\",\"uuid\":\"af1fad01-4a10-4591-8a39-2d8c1a807a56\",\"veteran_file_number\":\"000100039\",\"veteran_is_not_claimant\":null}'"
      ]
     },
     "execution_count": 4,
     "metadata": {},
     "output_type": "execute_result"
    }
   ],
   "source": [
    "j=\"{\\\"id\\\":706,\\\"closest_regional_office\\\":null,\\\"created_at\\\":\\\"2020-06-15T13:43:16.685Z\\\",\\\"docket_range_date\\\":null,\\\"docket_type\\\":\\\"evidence_submission\\\",\\\"established_at\\\":\\\"2020-06-15T13:43:16.685Z\\\",\\\"establishment_attempted_at\\\":null,\\\"establishment_canceled_at\\\":null,\\\"establishment_error\\\":null,\\\"establishment_last_submitted_at\\\":null,\\\"establishment_processed_at\\\":null,\\\"establishment_submitted_at\\\":null,\\\"legacy_opt_in_approved\\\":null,\\\"poa_participant_id\\\":null,\\\"receipt_date\\\":\\\"2020-06-14\\\",\\\"stream_docket_number\\\":\\\"200614-704\\\",\\\"stream_type\\\":\\\"de_novo\\\",\\\"target_decision_date\\\":null,\\\"updated_at\\\":\\\"2020-06-15T13:43:16.685Z\\\",\\\"uuid\\\":\\\"af1fad01-4a10-4591-8a39-2d8c1a807a56\\\",\\\"veteran_file_number\\\":\\\"000100039\\\",\\\"veteran_is_not_claimant\\\":null}\"\n",
    "j"
   ]
  },
  {
   "cell_type": "code",
   "execution_count": 10,
   "metadata": {},
   "outputs": [
    {
     "data": {
      "text/plain": [
       "{'id': 706,\n",
       " 'closest_regional_office': None,\n",
       " 'created_at': '2020-06-15T13:43:16.685Z',\n",
       " 'docket_range_date': None,\n",
       " 'docket_type': 'evidence_submission',\n",
       " 'established_at': '2020-06-15T13:43:16.685Z',\n",
       " 'establishment_attempted_at': None,\n",
       " 'establishment_canceled_at': None,\n",
       " 'establishment_error': None,\n",
       " 'establishment_last_submitted_at': None,\n",
       " 'establishment_processed_at': None,\n",
       " 'establishment_submitted_at': None,\n",
       " 'legacy_opt_in_approved': None,\n",
       " 'poa_participant_id': None,\n",
       " 'receipt_date': '2020-06-14',\n",
       " 'stream_docket_number': '200614-704',\n",
       " 'stream_type': 'de_novo',\n",
       " 'target_decision_date': None,\n",
       " 'updated_at': '2020-06-15T13:43:16.685Z',\n",
       " 'uuid': 'af1fad01-4a10-4591-8a39-2d8c1a807a56',\n",
       " 'veteran_file_number': '000100039',\n",
       " 'veteran_is_not_claimant': None}"
      ]
     },
     "execution_count": 10,
     "metadata": {},
     "output_type": "execute_result"
    }
   ],
   "source": [
    "import json\n",
    "t = json.loads(j)\n",
    "t"
   ]
  },
  {
   "cell_type": "code",
   "execution_count": 7,
   "metadata": {},
   "outputs": [
    {
     "data": {
      "text/plain": [
       "706"
      ]
     },
     "execution_count": 7,
     "metadata": {},
     "output_type": "execute_result"
    }
   ],
   "source": [
    "t[\"id\"]"
   ]
  },
  {
   "cell_type": "code",
   "execution_count": 9,
   "metadata": {},
   "outputs": [
    {
     "data": {
      "text/plain": [
       "dict_keys(['id', 'closest_regional_office', 'created_at', 'docket_range_date', 'docket_type', 'established_at', 'establishment_attempted_at', 'establishment_canceled_at', 'establishment_error', 'establishment_last_submitted_at', 'establishment_processed_at', 'establishment_submitted_at', 'legacy_opt_in_approved', 'poa_participant_id', 'receipt_date', 'stream_docket_number', 'stream_type', 'target_decision_date', 'updated_at', 'uuid', 'veteran_file_number', 'veteran_is_not_claimant'])"
      ]
     },
     "execution_count": 9,
     "metadata": {},
     "output_type": "execute_result"
    }
   ],
   "source": [
    "t.keys()"
   ]
  },
  {
   "cell_type": "code",
   "execution_count": 13,
   "metadata": {},
   "outputs": [],
   "source": [
    "j2=\"{ \\\"appeal_id\\\":706, \\\"docket_type\\\":\\\"evidence_submission\\\", \\\"updated_at\\\":\\\"2020-06-15 13:43:16 UTC\\\", \\\"tasks\\\":\" +\\\n",
    "  \"[{\\\"id\\\":2154,\\\"assigned_to_type\\\":\\\"Organization\\\",\\\"created_at\\\":\\\"2020-06-15T13:43:16.832Z\\\",\\\"parent_id\\\":null,\\\"status\\\":\\\"on_hold\\\",\\\"type\\\":\\\"RootTask\\\",\\\"updated_at\\\":\\\"2020-06-15T13:43:16.898Z\\\"},{\\\"id\\\":2155,\\\"assigned_to_type\\\":\\\"User\\\",\\\"created_at\\\":\\\"2020-06-15T13:43:16.872Z\\\",\\\"parent_id\\\":2154,\\\"status\\\":\\\"on_hold\\\",\\\"type\\\":\\\"JudgeDecisionReviewTask\\\",\\\"updated_at\\\":\\\"2020-06-15T13:43:16.962Z\\\"},{\\\"id\\\":2156,\\\"assigned_to_type\\\":\\\"User\\\",\\\"created_at\\\":\\\"2020-06-15T13:43:16.945Z\\\",\\\"parent_id\\\":2155,\\\"status\\\":\\\"assigned\\\",\\\"type\\\":\\\"AttorneyTask\\\",\\\"updated_at\\\":\\\"2020-06-15T13:43:16.945Z\\\"}]\" +\\\n",
    "  \"}\""
   ]
  },
  {
   "cell_type": "code",
   "execution_count": 15,
   "metadata": {},
   "outputs": [
    {
     "data": {
      "text/plain": [
       "{'appeal_id': 706,\n",
       " 'docket_type': 'evidence_submission',\n",
       " 'updated_at': '2020-06-15 13:43:16 UTC',\n",
       " 'tasks': [{'id': 2154,\n",
       "   'assigned_to_type': 'Organization',\n",
       "   'created_at': '2020-06-15T13:43:16.832Z',\n",
       "   'parent_id': None,\n",
       "   'status': 'on_hold',\n",
       "   'type': 'RootTask',\n",
       "   'updated_at': '2020-06-15T13:43:16.898Z'},\n",
       "  {'id': 2155,\n",
       "   'assigned_to_type': 'User',\n",
       "   'created_at': '2020-06-15T13:43:16.872Z',\n",
       "   'parent_id': 2154,\n",
       "   'status': 'on_hold',\n",
       "   'type': 'JudgeDecisionReviewTask',\n",
       "   'updated_at': '2020-06-15T13:43:16.962Z'},\n",
       "  {'id': 2156,\n",
       "   'assigned_to_type': 'User',\n",
       "   'created_at': '2020-06-15T13:43:16.945Z',\n",
       "   'parent_id': 2155,\n",
       "   'status': 'assigned',\n",
       "   'type': 'AttorneyTask',\n",
       "   'updated_at': '2020-06-15T13:43:16.945Z'}]}"
      ]
     },
     "execution_count": 15,
     "metadata": {},
     "output_type": "execute_result"
    }
   ],
   "source": [
    "a = json.loads(j2)\n",
    "a"
   ]
  },
  {
   "cell_type": "code",
   "execution_count": 16,
   "metadata": {},
   "outputs": [
    {
     "data": {
      "text/plain": [
       "[{'id': 2154,\n",
       "  'assigned_to_type': 'Organization',\n",
       "  'created_at': '2020-06-15T13:43:16.832Z',\n",
       "  'parent_id': None,\n",
       "  'status': 'on_hold',\n",
       "  'type': 'RootTask',\n",
       "  'updated_at': '2020-06-15T13:43:16.898Z'},\n",
       " {'id': 2155,\n",
       "  'assigned_to_type': 'User',\n",
       "  'created_at': '2020-06-15T13:43:16.872Z',\n",
       "  'parent_id': 2154,\n",
       "  'status': 'on_hold',\n",
       "  'type': 'JudgeDecisionReviewTask',\n",
       "  'updated_at': '2020-06-15T13:43:16.962Z'},\n",
       " {'id': 2156,\n",
       "  'assigned_to_type': 'User',\n",
       "  'created_at': '2020-06-15T13:43:16.945Z',\n",
       "  'parent_id': 2155,\n",
       "  'status': 'assigned',\n",
       "  'type': 'AttorneyTask',\n",
       "  'updated_at': '2020-06-15T13:43:16.945Z'}]"
      ]
     },
     "execution_count": 16,
     "metadata": {},
     "output_type": "execute_result"
    }
   ],
   "source": [
    "a[\"tasks\"]"
   ]
  },
  {
   "cell_type": "code",
   "execution_count": null,
   "metadata": {},
   "outputs": [],
   "source": []
  }
 ],
 "metadata": {
  "kernelspec": {
   "display_name": "Python 3",
   "language": "python",
   "name": "python3"
  },
  "language_info": {
   "codemirror_mode": {
    "name": "ipython",
    "version": 3
   },
   "file_extension": ".py",
   "mimetype": "text/x-python",
   "name": "python",
   "nbconvert_exporter": "python",
   "pygments_lexer": "ipython3",
   "version": "3.7.6"
  }
 },
 "nbformat": 4,
 "nbformat_minor": 4
}
