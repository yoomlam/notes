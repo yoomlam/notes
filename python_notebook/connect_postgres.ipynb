{
 "cells": [
  {
   "cell_type": "code",
   "execution_count": null,
   "metadata": {},
   "outputs": [],
   "source": [
    "from IPython import get_ipython"
   ]
  },
  {
   "cell_type": "code",
   "execution_count": 4,
   "metadata": {},
   "outputs": [
    {
     "name": "stdout",
     "output_type": "stream",
     "text": [
      "Collecting package metadata (current_repodata.json): done\n",
      "Solving environment: done\n",
      "\n",
      "\n",
      "==> WARNING: A newer version of conda exists. <==\n",
      "  current version: 4.8.2\n",
      "  latest version: 4.8.3\n",
      "\n",
      "Please update conda by running\n",
      "\n",
      "    $ conda update -n base conda\n",
      "\n",
      "\n",
      "\n",
      "## Package Plan ##\n",
      "\n",
      "  environment location: /opt/conda\n",
      "\n",
      "  added / updated specs:\n",
      "    - psycopg2\n",
      "\n",
      "\n",
      "The following packages will be downloaded:\n",
      "\n",
      "    package                    |            build\n",
      "    ---------------------------|-----------------\n",
      "    ca-certificates-2020.6.20  |       hecda079_0         145 KB  conda-forge\n",
      "    certifi-2020.6.20          |   py37hc8dfbb8_0         151 KB  conda-forge\n",
      "    libpq-12.3                 |       h5513abc_0         2.6 MB  conda-forge\n",
      "    openssl-1.1.1g             |       h516909a_1         2.1 MB  conda-forge\n",
      "    psycopg2-2.8.5             |   py37hb09aad4_1         166 KB  conda-forge\n",
      "    ------------------------------------------------------------\n",
      "                                           Total:         5.2 MB\n",
      "\n",
      "The following NEW packages will be INSTALLED:\n",
      "\n",
      "  libpq              conda-forge/linux-64::libpq-12.3-h5513abc_0\n",
      "  psycopg2           conda-forge/linux-64::psycopg2-2.8.5-py37hb09aad4_1\n",
      "\n",
      "The following packages will be UPDATED:\n",
      "\n",
      "  ca-certificates                     2020.4.5.2-hecda079_0 --> 2020.6.20-hecda079_0\n",
      "  certifi                         2020.4.5.2-py37hc8dfbb8_0 --> 2020.6.20-py37hc8dfbb8_0\n",
      "  openssl                                 1.1.1g-h516909a_0 --> 1.1.1g-h516909a_1\n",
      "\n",
      "\n",
      "\n",
      "Downloading and Extracting Packages\n",
      "psycopg2-2.8.5       | 166 KB    | ##################################### | 100% \n",
      "openssl-1.1.1g       | 2.1 MB    | ##################################### | 100% \n",
      "libpq-12.3           | 2.6 MB    | ##################################### | 100% \n",
      "ca-certificates-2020 | 145 KB    | ##################################### | 100% \n",
      "certifi-2020.6.20    | 151 KB    | ##################################### | 100% \n",
      "Preparing transaction: done\n",
      "Verifying transaction: done\n",
      "Executing transaction: done\n"
     ]
    }
   ],
   "source": [
    "import sys\n",
    "# psycopg2 is needed to connect to Postgres or Redshift\n",
    "!conda install --yes psycopg2"
   ]
  },
  {
   "cell_type": "code",
   "execution_count": 5,
   "metadata": {},
   "outputs": [
    {
     "data": {
      "text/plain": [
       "'All set!'"
      ]
     },
     "execution_count": 5,
     "metadata": {},
     "output_type": "execute_result"
    }
   ],
   "source": [
    "import os\n",
    "redshiftUrl=os.environ['REDSHIFT_CONNECT_URL']\n",
    "replicaUrl=os.environ['REPLICA_CONNECT_URL']\n",
    "etlUrl=os.environ['ETL_CONNECT_URL']\n",
    "bool(redshiftUrl and replicaUrl and etlUrl) and \"All set!\""
   ]
  },
  {
   "cell_type": "code",
   "execution_count": 6,
   "metadata": {},
   "outputs": [
    {
     "data": {
      "text/plain": [
       "<sqlalchemy.engine.base.Connection at 0x7fa4100e8090>"
      ]
     },
     "execution_count": 6,
     "metadata": {},
     "output_type": "execute_result"
    }
   ],
   "source": [
    "from sqlalchemy import create_engine\n",
    "# Remember to configure firewall to allow Docker to access ports\n",
    "engine = create_engine(replicaUrl)\n",
    "engine.connect()"
   ]
  },
  {
   "cell_type": "code",
   "execution_count": 7,
   "metadata": {},
   "outputs": [],
   "source": [
    "import pandas as pd"
   ]
  },
  {
   "cell_type": "code",
   "execution_count": 20,
   "metadata": {},
   "outputs": [],
   "source": [
    "appealDf = pd.read_sql_query(\"select * from appeals where uuid='98e18b45-cacc-4765-aa01-72d54f6d7469'\",con=engine)"
   ]
  },
  {
   "cell_type": "code",
   "execution_count": 21,
   "metadata": {},
   "outputs": [
    {
     "data": {
      "text/html": [
       "<div>\n",
       "<style scoped>\n",
       "    .dataframe tbody tr th:only-of-type {\n",
       "        vertical-align: middle;\n",
       "    }\n",
       "\n",
       "    .dataframe tbody tr th {\n",
       "        vertical-align: top;\n",
       "    }\n",
       "\n",
       "    .dataframe thead th {\n",
       "        text-align: right;\n",
       "    }\n",
       "</style>\n",
       "<table border=\"1\" class=\"dataframe\">\n",
       "  <thead>\n",
       "    <tr style=\"text-align: right;\">\n",
       "      <th></th>\n",
       "      <th>id</th>\n",
       "      <th>veteran_file_number</th>\n",
       "      <th>receipt_date</th>\n",
       "      <th>docket_type</th>\n",
       "      <th>established_at</th>\n",
       "      <th>uuid</th>\n",
       "      <th>legacy_opt_in_approved</th>\n",
       "      <th>veteran_is_not_claimant</th>\n",
       "      <th>establishment_submitted_at</th>\n",
       "      <th>establishment_processed_at</th>\n",
       "      <th>...</th>\n",
       "      <th>target_decision_date</th>\n",
       "      <th>closest_regional_office</th>\n",
       "      <th>establishment_canceled_at</th>\n",
       "      <th>docket_range_date</th>\n",
       "      <th>poa_participant_id</th>\n",
       "      <th>created_at</th>\n",
       "      <th>updated_at</th>\n",
       "      <th>stream_docket_number</th>\n",
       "      <th>stream_type</th>\n",
       "      <th>aod_based_on_age</th>\n",
       "    </tr>\n",
       "  </thead>\n",
       "  <tbody>\n",
       "    <tr>\n",
       "      <th>0</th>\n",
       "      <td>30161</td>\n",
       "      <td>316662418</td>\n",
       "      <td>2019-08-26</td>\n",
       "      <td>direct_review</td>\n",
       "      <td>2019-09-18 13:25:11.734061</td>\n",
       "      <td>98e18b45-cacc-4765-aa01-72d54f6d7469</td>\n",
       "      <td>False</td>\n",
       "      <td>False</td>\n",
       "      <td>2019-09-18 13:25:13.521351</td>\n",
       "      <td>2019-09-18 13:25:13.641030</td>\n",
       "      <td>...</td>\n",
       "      <td>2020-08-25</td>\n",
       "      <td>None</td>\n",
       "      <td>None</td>\n",
       "      <td>None</td>\n",
       "      <td>None</td>\n",
       "      <td>2019-09-18 13:25:11.734061</td>\n",
       "      <td>2020-07-29 15:18:11.430125</td>\n",
       "      <td>190826-30161</td>\n",
       "      <td>original</td>\n",
       "      <td>False</td>\n",
       "    </tr>\n",
       "  </tbody>\n",
       "</table>\n",
       "<p>1 rows × 23 columns</p>\n",
       "</div>"
      ],
      "text/plain": [
       "      id veteran_file_number receipt_date    docket_type  \\\n",
       "0  30161           316662418   2019-08-26  direct_review   \n",
       "\n",
       "              established_at                                  uuid  \\\n",
       "0 2019-09-18 13:25:11.734061  98e18b45-cacc-4765-aa01-72d54f6d7469   \n",
       "\n",
       "   legacy_opt_in_approved  veteran_is_not_claimant establishment_submitted_at  \\\n",
       "0                   False                    False 2019-09-18 13:25:13.521351   \n",
       "\n",
       "  establishment_processed_at  ... target_decision_date  \\\n",
       "0 2019-09-18 13:25:13.641030  ...           2020-08-25   \n",
       "\n",
       "  closest_regional_office establishment_canceled_at docket_range_date  \\\n",
       "0                    None                      None              None   \n",
       "\n",
       "  poa_participant_id                 created_at                 updated_at  \\\n",
       "0               None 2019-09-18 13:25:11.734061 2020-07-29 15:18:11.430125   \n",
       "\n",
       "  stream_docket_number stream_type aod_based_on_age  \n",
       "0         190826-30161    original            False  \n",
       "\n",
       "[1 rows x 23 columns]"
      ]
     },
     "execution_count": 21,
     "metadata": {},
     "output_type": "execute_result"
    }
   ],
   "source": [
    "appealDf"
   ]
  },
  {
   "cell_type": "code",
   "execution_count": 23,
   "metadata": {},
   "outputs": [],
   "source": [
    "appeal_id=appealDf.loc[0,\"id\"]"
   ]
  },
  {
   "cell_type": "code",
   "execution_count": 24,
   "metadata": {},
   "outputs": [
    {
     "data": {
      "text/plain": [
       "\"select * from tasks where appeal_id=30161 and appeal_type='Appeal'\""
      ]
     },
     "execution_count": 24,
     "metadata": {},
     "output_type": "execute_result"
    }
   ],
   "source": [
    "f\"select * from tasks where appeal_id={appeal_id} and appeal_type='Appeal'\""
   ]
  },
  {
   "cell_type": "code",
   "execution_count": 27,
   "metadata": {},
   "outputs": [
    {
     "data": {
      "text/html": [
       "<div>\n",
       "<style scoped>\n",
       "    .dataframe tbody tr th:only-of-type {\n",
       "        vertical-align: middle;\n",
       "    }\n",
       "\n",
       "    .dataframe tbody tr th {\n",
       "        vertical-align: top;\n",
       "    }\n",
       "\n",
       "    .dataframe thead th {\n",
       "        text-align: right;\n",
       "    }\n",
       "</style>\n",
       "<table border=\"1\" class=\"dataframe\">\n",
       "  <thead>\n",
       "    <tr style=\"text-align: right;\">\n",
       "      <th></th>\n",
       "      <th>id</th>\n",
       "      <th>appeal_id</th>\n",
       "      <th>status</th>\n",
       "      <th>type</th>\n",
       "      <th>instructions</th>\n",
       "      <th>assigned_to_id</th>\n",
       "      <th>assigned_by_id</th>\n",
       "      <th>assigned_at</th>\n",
       "      <th>started_at</th>\n",
       "      <th>created_at</th>\n",
       "      <th>updated_at</th>\n",
       "      <th>appeal_type</th>\n",
       "      <th>placed_on_hold_at</th>\n",
       "      <th>assigned_to_type</th>\n",
       "      <th>parent_id</th>\n",
       "      <th>closed_at</th>\n",
       "    </tr>\n",
       "  </thead>\n",
       "  <tbody>\n",
       "    <tr>\n",
       "      <th>0</th>\n",
       "      <td>963590</td>\n",
       "      <td>30161</td>\n",
       "      <td>in_progress</td>\n",
       "      <td>AttorneyQualityReviewTask</td>\n",
       "      <td>[QR review--return to atty for admin action pe...</td>\n",
       "      <td>1063</td>\n",
       "      <td>824.0</td>\n",
       "      <td>2020-06-24 14:34:31.465660</td>\n",
       "      <td>2020-06-24 15:57:48.040644</td>\n",
       "      <td>2020-06-18 19:08:33.004488</td>\n",
       "      <td>2020-06-24 15:57:48.040795</td>\n",
       "      <td>Appeal</td>\n",
       "      <td>2020-06-18 20:32:41.774427</td>\n",
       "      <td>User</td>\n",
       "      <td>963377.0</td>\n",
       "      <td>NaT</td>\n",
       "    </tr>\n",
       "    <tr>\n",
       "      <th>1</th>\n",
       "      <td>963917</td>\n",
       "      <td>30161</td>\n",
       "      <td>completed</td>\n",
       "      <td>OtherColocatedTask</td>\n",
       "      <td>[The fiduciary file is missing, if this contai...</td>\n",
       "      <td>23</td>\n",
       "      <td>1063.0</td>\n",
       "      <td>2020-06-18 20:32:41.683567</td>\n",
       "      <td>NaT</td>\n",
       "      <td>2020-06-18 20:32:41.683567</td>\n",
       "      <td>2020-06-24 14:34:31.437936</td>\n",
       "      <td>Appeal</td>\n",
       "      <td>2020-06-18 20:32:41.749501</td>\n",
       "      <td>Organization</td>\n",
       "      <td>963590.0</td>\n",
       "      <td>2020-06-24 14:34:31.437796</td>\n",
       "    </tr>\n",
       "    <tr>\n",
       "      <th>2</th>\n",
       "      <td>969559</td>\n",
       "      <td>30161</td>\n",
       "      <td>completed</td>\n",
       "      <td>OtherColocatedTask</td>\n",
       "      <td>[The fiduciary file is missing, if this contai...</td>\n",
       "      <td>803</td>\n",
       "      <td>1888.0</td>\n",
       "      <td>2020-06-18 20:32:41.683567</td>\n",
       "      <td>2020-06-22 19:50:48.858797</td>\n",
       "      <td>2020-06-22 15:57:05.591825</td>\n",
       "      <td>2020-06-24 14:34:31.412580</td>\n",
       "      <td>Appeal</td>\n",
       "      <td>NaT</td>\n",
       "      <td>User</td>\n",
       "      <td>963917.0</td>\n",
       "      <td>2020-06-24 14:34:31.412441</td>\n",
       "    </tr>\n",
       "    <tr>\n",
       "      <th>3</th>\n",
       "      <td>963918</td>\n",
       "      <td>30161</td>\n",
       "      <td>cancelled</td>\n",
       "      <td>OtherColocatedTask</td>\n",
       "      <td>[The fiduciary file is missing, if this contai...</td>\n",
       "      <td>10627</td>\n",
       "      <td>1063.0</td>\n",
       "      <td>2020-06-18 20:32:41.683567</td>\n",
       "      <td>NaT</td>\n",
       "      <td>2020-06-18 20:32:41.743112</td>\n",
       "      <td>2020-06-22 15:57:05.605936</td>\n",
       "      <td>Appeal</td>\n",
       "      <td>NaT</td>\n",
       "      <td>User</td>\n",
       "      <td>963917.0</td>\n",
       "      <td>2020-06-22 15:57:05.605778</td>\n",
       "    </tr>\n",
       "    <tr>\n",
       "      <th>4</th>\n",
       "      <td>963377</td>\n",
       "      <td>30161</td>\n",
       "      <td>on_hold</td>\n",
       "      <td>JudgeQualityReviewTask</td>\n",
       "      <td>[QR review]</td>\n",
       "      <td>824</td>\n",
       "      <td>1071.0</td>\n",
       "      <td>2020-06-18 18:24:26.192867</td>\n",
       "      <td>2020-06-18 19:08:09.163009</td>\n",
       "      <td>2020-06-18 18:24:26.192867</td>\n",
       "      <td>2020-06-18 19:08:33.022475</td>\n",
       "      <td>Appeal</td>\n",
       "      <td>2020-06-18 19:08:33.022370</td>\n",
       "      <td>User</td>\n",
       "      <td>941750.0</td>\n",
       "      <td>NaT</td>\n",
       "    </tr>\n",
       "    <tr>\n",
       "      <th>5</th>\n",
       "      <td>941750</td>\n",
       "      <td>30161</td>\n",
       "      <td>on_hold</td>\n",
       "      <td>QualityReviewTask</td>\n",
       "      <td>[QR review]</td>\n",
       "      <td>1071</td>\n",
       "      <td>1071.0</td>\n",
       "      <td>2020-06-09 10:55:28.500488</td>\n",
       "      <td>2020-06-10 13:15:26.733851</td>\n",
       "      <td>2020-06-09 10:55:28.500488</td>\n",
       "      <td>2020-06-18 18:24:26.209587</td>\n",
       "      <td>Appeal</td>\n",
       "      <td>2020-06-18 18:24:26.209472</td>\n",
       "      <td>User</td>\n",
       "      <td>934712.0</td>\n",
       "      <td>NaT</td>\n",
       "    </tr>\n",
       "    <tr>\n",
       "      <th>6</th>\n",
       "      <td>934712</td>\n",
       "      <td>30161</td>\n",
       "      <td>on_hold</td>\n",
       "      <td>QualityReviewTask</td>\n",
       "      <td>[]</td>\n",
       "      <td>17</td>\n",
       "      <td>NaN</td>\n",
       "      <td>2020-06-04 16:24:33.199688</td>\n",
       "      <td>NaT</td>\n",
       "      <td>2020-06-04 16:24:33.199688</td>\n",
       "      <td>2020-06-09 10:55:28.515286</td>\n",
       "      <td>Appeal</td>\n",
       "      <td>2020-06-09 10:55:28.515202</td>\n",
       "      <td>Organization</td>\n",
       "      <td>416398.0</td>\n",
       "      <td>NaT</td>\n",
       "    </tr>\n",
       "    <tr>\n",
       "      <th>7</th>\n",
       "      <td>826278</td>\n",
       "      <td>30161</td>\n",
       "      <td>completed</td>\n",
       "      <td>JudgeDecisionReviewTask</td>\n",
       "      <td>[]</td>\n",
       "      <td>824</td>\n",
       "      <td>546.0</td>\n",
       "      <td>2020-06-03 22:50:23.406136</td>\n",
       "      <td>2020-06-04 16:09:35.771066</td>\n",
       "      <td>2020-04-14 17:18:11.863861</td>\n",
       "      <td>2020-06-04 16:24:32.803765</td>\n",
       "      <td>Appeal</td>\n",
       "      <td>2020-04-28 20:31:47.230969</td>\n",
       "      <td>User</td>\n",
       "      <td>416398.0</td>\n",
       "      <td>2020-06-04 16:24:32.803592</td>\n",
       "    </tr>\n",
       "    <tr>\n",
       "      <th>8</th>\n",
       "      <td>861921</td>\n",
       "      <td>30161</td>\n",
       "      <td>completed</td>\n",
       "      <td>AttorneyRewriteTask</td>\n",
       "      <td>[Please check 10182-  does not look like signe...</td>\n",
       "      <td>1063</td>\n",
       "      <td>824.0</td>\n",
       "      <td>2020-05-26 17:01:31.822484</td>\n",
       "      <td>2020-05-26 20:38:56.005740</td>\n",
       "      <td>2020-04-28 20:31:47.202939</td>\n",
       "      <td>2020-06-03 22:50:23.384759</td>\n",
       "      <td>Appeal</td>\n",
       "      <td>2020-05-26 15:43:53.389492</td>\n",
       "      <td>User</td>\n",
       "      <td>826278.0</td>\n",
       "      <td>2020-06-03 22:50:23.384594</td>\n",
       "    </tr>\n",
       "    <tr>\n",
       "      <th>9</th>\n",
       "      <td>914540</td>\n",
       "      <td>30161</td>\n",
       "      <td>completed</td>\n",
       "      <td>NewRepArgumentsColocatedTask</td>\n",
       "      <td>[DAV is the rep in this case.  The vet is inco...</td>\n",
       "      <td>23</td>\n",
       "      <td>1063.0</td>\n",
       "      <td>2020-05-26 15:43:53.322659</td>\n",
       "      <td>NaT</td>\n",
       "      <td>2020-05-26 15:43:53.322659</td>\n",
       "      <td>2020-05-26 17:01:31.796092</td>\n",
       "      <td>Appeal</td>\n",
       "      <td>2020-05-26 15:43:53.371420</td>\n",
       "      <td>Organization</td>\n",
       "      <td>861921.0</td>\n",
       "      <td>2020-05-26 17:01:31.795879</td>\n",
       "    </tr>\n",
       "    <tr>\n",
       "      <th>10</th>\n",
       "      <td>914541</td>\n",
       "      <td>30161</td>\n",
       "      <td>completed</td>\n",
       "      <td>NewRepArgumentsColocatedTask</td>\n",
       "      <td>[DAV is the rep in this case.  The vet is inco...</td>\n",
       "      <td>1829</td>\n",
       "      <td>1063.0</td>\n",
       "      <td>2020-05-26 15:43:53.322659</td>\n",
       "      <td>2020-05-26 16:59:31.747782</td>\n",
       "      <td>2020-05-26 15:43:53.366353</td>\n",
       "      <td>2020-05-26 17:01:31.753799</td>\n",
       "      <td>Appeal</td>\n",
       "      <td>NaT</td>\n",
       "      <td>User</td>\n",
       "      <td>914540.0</td>\n",
       "      <td>2020-05-26 17:01:31.753616</td>\n",
       "    </tr>\n",
       "    <tr>\n",
       "      <th>11</th>\n",
       "      <td>826279</td>\n",
       "      <td>30161</td>\n",
       "      <td>completed</td>\n",
       "      <td>AttorneyTask</td>\n",
       "      <td>[]</td>\n",
       "      <td>1063</td>\n",
       "      <td>546.0</td>\n",
       "      <td>2020-04-14 17:18:11.983759</td>\n",
       "      <td>NaT</td>\n",
       "      <td>2020-04-14 17:18:11.983759</td>\n",
       "      <td>2020-04-28 19:18:12.272309</td>\n",
       "      <td>Appeal</td>\n",
       "      <td>NaT</td>\n",
       "      <td>User</td>\n",
       "      <td>826278.0</td>\n",
       "      <td>2020-04-28 19:18:12.272145</td>\n",
       "    </tr>\n",
       "    <tr>\n",
       "      <th>12</th>\n",
       "      <td>819661</td>\n",
       "      <td>30161</td>\n",
       "      <td>completed</td>\n",
       "      <td>JudgeAssignTask</td>\n",
       "      <td>[This appears to be a specialty case - removal...</td>\n",
       "      <td>546</td>\n",
       "      <td>1342.0</td>\n",
       "      <td>2020-04-01 11:50:26.258360</td>\n",
       "      <td>NaT</td>\n",
       "      <td>2020-04-10 18:24:37.079392</td>\n",
       "      <td>2020-04-14 17:18:11.898383</td>\n",
       "      <td>Appeal</td>\n",
       "      <td>NaT</td>\n",
       "      <td>User</td>\n",
       "      <td>416398.0</td>\n",
       "      <td>2020-04-14 17:18:11.898217</td>\n",
       "    </tr>\n",
       "    <tr>\n",
       "      <th>13</th>\n",
       "      <td>796324</td>\n",
       "      <td>30161</td>\n",
       "      <td>cancelled</td>\n",
       "      <td>JudgeAssignTask</td>\n",
       "      <td>[This appears to be a specialty case - removal...</td>\n",
       "      <td>1342</td>\n",
       "      <td>NaN</td>\n",
       "      <td>2020-04-01 11:50:26.258360</td>\n",
       "      <td>NaT</td>\n",
       "      <td>2020-04-01 11:50:26.258360</td>\n",
       "      <td>2020-04-10 18:24:37.092734</td>\n",
       "      <td>Appeal</td>\n",
       "      <td>NaT</td>\n",
       "      <td>User</td>\n",
       "      <td>416398.0</td>\n",
       "      <td>2020-04-10 18:24:37.092610</td>\n",
       "    </tr>\n",
       "    <tr>\n",
       "      <th>14</th>\n",
       "      <td>416400</td>\n",
       "      <td>30161</td>\n",
       "      <td>completed</td>\n",
       "      <td>DistributionTask</td>\n",
       "      <td>[]</td>\n",
       "      <td>2</td>\n",
       "      <td>NaN</td>\n",
       "      <td>2020-04-01 11:46:28.954678</td>\n",
       "      <td>NaT</td>\n",
       "      <td>2019-09-18 13:25:12.216959</td>\n",
       "      <td>2020-04-01 11:50:26.269381</td>\n",
       "      <td>Appeal</td>\n",
       "      <td>2019-09-18 13:25:12.229691</td>\n",
       "      <td>Organization</td>\n",
       "      <td>416398.0</td>\n",
       "      <td>2020-04-01 11:50:26.269241</td>\n",
       "    </tr>\n",
       "    <tr>\n",
       "      <th>15</th>\n",
       "      <td>416401</td>\n",
       "      <td>30161</td>\n",
       "      <td>completed</td>\n",
       "      <td>InformalHearingPresentationTask</td>\n",
       "      <td>[]</td>\n",
       "      <td>8</td>\n",
       "      <td>NaN</td>\n",
       "      <td>2019-09-18 13:25:12.225048</td>\n",
       "      <td>NaT</td>\n",
       "      <td>2019-09-18 13:25:12.225048</td>\n",
       "      <td>2020-04-01 11:46:28.938323</td>\n",
       "      <td>Appeal</td>\n",
       "      <td>2020-01-20 16:32:10.389322</td>\n",
       "      <td>Organization</td>\n",
       "      <td>416400.0</td>\n",
       "      <td>2020-04-01 11:46:28.938187</td>\n",
       "    </tr>\n",
       "    <tr>\n",
       "      <th>16</th>\n",
       "      <td>790949</td>\n",
       "      <td>30161</td>\n",
       "      <td>completed</td>\n",
       "      <td>InformalHearingPresentationTask</td>\n",
       "      <td>[Brief, Brief]</td>\n",
       "      <td>2255</td>\n",
       "      <td>2124.0</td>\n",
       "      <td>2020-01-20 16:32:10.376452</td>\n",
       "      <td>NaT</td>\n",
       "      <td>2020-03-30 18:16:25.938178</td>\n",
       "      <td>2020-04-01 11:46:28.918153</td>\n",
       "      <td>Appeal</td>\n",
       "      <td>NaT</td>\n",
       "      <td>User</td>\n",
       "      <td>416401.0</td>\n",
       "      <td>2020-04-01 11:46:28.918011</td>\n",
       "    </tr>\n",
       "    <tr>\n",
       "      <th>17</th>\n",
       "      <td>629098</td>\n",
       "      <td>30161</td>\n",
       "      <td>cancelled</td>\n",
       "      <td>InformalHearingPresentationTask</td>\n",
       "      <td>[Brief, Brief]</td>\n",
       "      <td>2172</td>\n",
       "      <td>2124.0</td>\n",
       "      <td>2020-01-20 16:32:10.376452</td>\n",
       "      <td>NaT</td>\n",
       "      <td>2020-01-20 16:32:10.376452</td>\n",
       "      <td>2020-03-30 18:16:26.017189</td>\n",
       "      <td>Appeal</td>\n",
       "      <td>NaT</td>\n",
       "      <td>User</td>\n",
       "      <td>416401.0</td>\n",
       "      <td>2020-03-30 18:16:26.017004</td>\n",
       "    </tr>\n",
       "    <tr>\n",
       "      <th>18</th>\n",
       "      <td>416402</td>\n",
       "      <td>30161</td>\n",
       "      <td>assigned</td>\n",
       "      <td>VeteranRecordRequest</td>\n",
       "      <td>[]</td>\n",
       "      <td>217</td>\n",
       "      <td>NaN</td>\n",
       "      <td>2019-09-18 13:25:12.233668</td>\n",
       "      <td>NaT</td>\n",
       "      <td>2019-09-18 13:25:12.234462</td>\n",
       "      <td>2019-09-18 13:25:12.234462</td>\n",
       "      <td>Appeal</td>\n",
       "      <td>NaT</td>\n",
       "      <td>Organization</td>\n",
       "      <td>416398.0</td>\n",
       "      <td>NaT</td>\n",
       "    </tr>\n",
       "    <tr>\n",
       "      <th>19</th>\n",
       "      <td>416398</td>\n",
       "      <td>30161</td>\n",
       "      <td>on_hold</td>\n",
       "      <td>RootTask</td>\n",
       "      <td>[]</td>\n",
       "      <td>2</td>\n",
       "      <td>NaN</td>\n",
       "      <td>2019-09-18 13:25:11.740577</td>\n",
       "      <td>NaT</td>\n",
       "      <td>2019-09-18 13:25:11.740577</td>\n",
       "      <td>2019-09-18 13:25:12.213775</td>\n",
       "      <td>Appeal</td>\n",
       "      <td>2019-09-18 13:25:12.213707</td>\n",
       "      <td>Organization</td>\n",
       "      <td>NaN</td>\n",
       "      <td>NaT</td>\n",
       "    </tr>\n",
       "    <tr>\n",
       "      <th>20</th>\n",
       "      <td>416399</td>\n",
       "      <td>30161</td>\n",
       "      <td>in_progress</td>\n",
       "      <td>TrackVeteranTask</td>\n",
       "      <td>[]</td>\n",
       "      <td>8</td>\n",
       "      <td>NaN</td>\n",
       "      <td>2019-09-18 13:25:12.210025</td>\n",
       "      <td>NaT</td>\n",
       "      <td>2019-09-18 13:25:12.210025</td>\n",
       "      <td>2019-09-18 13:25:12.210025</td>\n",
       "      <td>Appeal</td>\n",
       "      <td>NaT</td>\n",
       "      <td>Organization</td>\n",
       "      <td>416398.0</td>\n",
       "      <td>NaT</td>\n",
       "    </tr>\n",
       "  </tbody>\n",
       "</table>\n",
       "</div>"
      ],
      "text/plain": [
       "        id  appeal_id       status                             type  \\\n",
       "0   963590      30161  in_progress        AttorneyQualityReviewTask   \n",
       "1   963917      30161    completed               OtherColocatedTask   \n",
       "2   969559      30161    completed               OtherColocatedTask   \n",
       "3   963918      30161    cancelled               OtherColocatedTask   \n",
       "4   963377      30161      on_hold           JudgeQualityReviewTask   \n",
       "5   941750      30161      on_hold                QualityReviewTask   \n",
       "6   934712      30161      on_hold                QualityReviewTask   \n",
       "7   826278      30161    completed          JudgeDecisionReviewTask   \n",
       "8   861921      30161    completed              AttorneyRewriteTask   \n",
       "9   914540      30161    completed     NewRepArgumentsColocatedTask   \n",
       "10  914541      30161    completed     NewRepArgumentsColocatedTask   \n",
       "11  826279      30161    completed                     AttorneyTask   \n",
       "12  819661      30161    completed                  JudgeAssignTask   \n",
       "13  796324      30161    cancelled                  JudgeAssignTask   \n",
       "14  416400      30161    completed                 DistributionTask   \n",
       "15  416401      30161    completed  InformalHearingPresentationTask   \n",
       "16  790949      30161    completed  InformalHearingPresentationTask   \n",
       "17  629098      30161    cancelled  InformalHearingPresentationTask   \n",
       "18  416402      30161     assigned             VeteranRecordRequest   \n",
       "19  416398      30161      on_hold                         RootTask   \n",
       "20  416399      30161  in_progress                 TrackVeteranTask   \n",
       "\n",
       "                                         instructions  assigned_to_id  \\\n",
       "0   [QR review--return to atty for admin action pe...            1063   \n",
       "1   [The fiduciary file is missing, if this contai...              23   \n",
       "2   [The fiduciary file is missing, if this contai...             803   \n",
       "3   [The fiduciary file is missing, if this contai...           10627   \n",
       "4                                         [QR review]             824   \n",
       "5                                         [QR review]            1071   \n",
       "6                                                  []              17   \n",
       "7                                                  []             824   \n",
       "8   [Please check 10182-  does not look like signe...            1063   \n",
       "9   [DAV is the rep in this case.  The vet is inco...              23   \n",
       "10  [DAV is the rep in this case.  The vet is inco...            1829   \n",
       "11                                                 []            1063   \n",
       "12  [This appears to be a specialty case - removal...             546   \n",
       "13  [This appears to be a specialty case - removal...            1342   \n",
       "14                                                 []               2   \n",
       "15                                                 []               8   \n",
       "16                                     [Brief, Brief]            2255   \n",
       "17                                     [Brief, Brief]            2172   \n",
       "18                                                 []             217   \n",
       "19                                                 []               2   \n",
       "20                                                 []               8   \n",
       "\n",
       "    assigned_by_id                assigned_at                 started_at  \\\n",
       "0            824.0 2020-06-24 14:34:31.465660 2020-06-24 15:57:48.040644   \n",
       "1           1063.0 2020-06-18 20:32:41.683567                        NaT   \n",
       "2           1888.0 2020-06-18 20:32:41.683567 2020-06-22 19:50:48.858797   \n",
       "3           1063.0 2020-06-18 20:32:41.683567                        NaT   \n",
       "4           1071.0 2020-06-18 18:24:26.192867 2020-06-18 19:08:09.163009   \n",
       "5           1071.0 2020-06-09 10:55:28.500488 2020-06-10 13:15:26.733851   \n",
       "6              NaN 2020-06-04 16:24:33.199688                        NaT   \n",
       "7            546.0 2020-06-03 22:50:23.406136 2020-06-04 16:09:35.771066   \n",
       "8            824.0 2020-05-26 17:01:31.822484 2020-05-26 20:38:56.005740   \n",
       "9           1063.0 2020-05-26 15:43:53.322659                        NaT   \n",
       "10          1063.0 2020-05-26 15:43:53.322659 2020-05-26 16:59:31.747782   \n",
       "11           546.0 2020-04-14 17:18:11.983759                        NaT   \n",
       "12          1342.0 2020-04-01 11:50:26.258360                        NaT   \n",
       "13             NaN 2020-04-01 11:50:26.258360                        NaT   \n",
       "14             NaN 2020-04-01 11:46:28.954678                        NaT   \n",
       "15             NaN 2019-09-18 13:25:12.225048                        NaT   \n",
       "16          2124.0 2020-01-20 16:32:10.376452                        NaT   \n",
       "17          2124.0 2020-01-20 16:32:10.376452                        NaT   \n",
       "18             NaN 2019-09-18 13:25:12.233668                        NaT   \n",
       "19             NaN 2019-09-18 13:25:11.740577                        NaT   \n",
       "20             NaN 2019-09-18 13:25:12.210025                        NaT   \n",
       "\n",
       "                   created_at                 updated_at appeal_type  \\\n",
       "0  2020-06-18 19:08:33.004488 2020-06-24 15:57:48.040795      Appeal   \n",
       "1  2020-06-18 20:32:41.683567 2020-06-24 14:34:31.437936      Appeal   \n",
       "2  2020-06-22 15:57:05.591825 2020-06-24 14:34:31.412580      Appeal   \n",
       "3  2020-06-18 20:32:41.743112 2020-06-22 15:57:05.605936      Appeal   \n",
       "4  2020-06-18 18:24:26.192867 2020-06-18 19:08:33.022475      Appeal   \n",
       "5  2020-06-09 10:55:28.500488 2020-06-18 18:24:26.209587      Appeal   \n",
       "6  2020-06-04 16:24:33.199688 2020-06-09 10:55:28.515286      Appeal   \n",
       "7  2020-04-14 17:18:11.863861 2020-06-04 16:24:32.803765      Appeal   \n",
       "8  2020-04-28 20:31:47.202939 2020-06-03 22:50:23.384759      Appeal   \n",
       "9  2020-05-26 15:43:53.322659 2020-05-26 17:01:31.796092      Appeal   \n",
       "10 2020-05-26 15:43:53.366353 2020-05-26 17:01:31.753799      Appeal   \n",
       "11 2020-04-14 17:18:11.983759 2020-04-28 19:18:12.272309      Appeal   \n",
       "12 2020-04-10 18:24:37.079392 2020-04-14 17:18:11.898383      Appeal   \n",
       "13 2020-04-01 11:50:26.258360 2020-04-10 18:24:37.092734      Appeal   \n",
       "14 2019-09-18 13:25:12.216959 2020-04-01 11:50:26.269381      Appeal   \n",
       "15 2019-09-18 13:25:12.225048 2020-04-01 11:46:28.938323      Appeal   \n",
       "16 2020-03-30 18:16:25.938178 2020-04-01 11:46:28.918153      Appeal   \n",
       "17 2020-01-20 16:32:10.376452 2020-03-30 18:16:26.017189      Appeal   \n",
       "18 2019-09-18 13:25:12.234462 2019-09-18 13:25:12.234462      Appeal   \n",
       "19 2019-09-18 13:25:11.740577 2019-09-18 13:25:12.213775      Appeal   \n",
       "20 2019-09-18 13:25:12.210025 2019-09-18 13:25:12.210025      Appeal   \n",
       "\n",
       "            placed_on_hold_at assigned_to_type  parent_id  \\\n",
       "0  2020-06-18 20:32:41.774427             User   963377.0   \n",
       "1  2020-06-18 20:32:41.749501     Organization   963590.0   \n",
       "2                         NaT             User   963917.0   \n",
       "3                         NaT             User   963917.0   \n",
       "4  2020-06-18 19:08:33.022370             User   941750.0   \n",
       "5  2020-06-18 18:24:26.209472             User   934712.0   \n",
       "6  2020-06-09 10:55:28.515202     Organization   416398.0   \n",
       "7  2020-04-28 20:31:47.230969             User   416398.0   \n",
       "8  2020-05-26 15:43:53.389492             User   826278.0   \n",
       "9  2020-05-26 15:43:53.371420     Organization   861921.0   \n",
       "10                        NaT             User   914540.0   \n",
       "11                        NaT             User   826278.0   \n",
       "12                        NaT             User   416398.0   \n",
       "13                        NaT             User   416398.0   \n",
       "14 2019-09-18 13:25:12.229691     Organization   416398.0   \n",
       "15 2020-01-20 16:32:10.389322     Organization   416400.0   \n",
       "16                        NaT             User   416401.0   \n",
       "17                        NaT             User   416401.0   \n",
       "18                        NaT     Organization   416398.0   \n",
       "19 2019-09-18 13:25:12.213707     Organization        NaN   \n",
       "20                        NaT     Organization   416398.0   \n",
       "\n",
       "                    closed_at  \n",
       "0                         NaT  \n",
       "1  2020-06-24 14:34:31.437796  \n",
       "2  2020-06-24 14:34:31.412441  \n",
       "3  2020-06-22 15:57:05.605778  \n",
       "4                         NaT  \n",
       "5                         NaT  \n",
       "6                         NaT  \n",
       "7  2020-06-04 16:24:32.803592  \n",
       "8  2020-06-03 22:50:23.384594  \n",
       "9  2020-05-26 17:01:31.795879  \n",
       "10 2020-05-26 17:01:31.753616  \n",
       "11 2020-04-28 19:18:12.272145  \n",
       "12 2020-04-14 17:18:11.898217  \n",
       "13 2020-04-10 18:24:37.092610  \n",
       "14 2020-04-01 11:50:26.269241  \n",
       "15 2020-04-01 11:46:28.938187  \n",
       "16 2020-04-01 11:46:28.918011  \n",
       "17 2020-03-30 18:16:26.017004  \n",
       "18                        NaT  \n",
       "19                        NaT  \n",
       "20                        NaT  "
      ]
     },
     "execution_count": 27,
     "metadata": {},
     "output_type": "execute_result"
    }
   ],
   "source": [
    "tasksDf = pd.read_sql_query(f\"select * from tasks where appeal_id={appeal_id} and appeal_type='Appeal'\",con=engine)\n",
    "tasksDf"
   ]
  },
  {
   "cell_type": "code",
   "execution_count": 31,
   "metadata": {},
   "outputs": [
    {
     "data": {
      "text/html": [
       "<div>\n",
       "<style scoped>\n",
       "    .dataframe tbody tr th:only-of-type {\n",
       "        vertical-align: middle;\n",
       "    }\n",
       "\n",
       "    .dataframe tbody tr th {\n",
       "        vertical-align: top;\n",
       "    }\n",
       "\n",
       "    .dataframe thead th {\n",
       "        text-align: right;\n",
       "    }\n",
       "</style>\n",
       "<table border=\"1\" class=\"dataframe\">\n",
       "  <thead>\n",
       "    <tr style=\"text-align: right;\">\n",
       "      <th></th>\n",
       "      <th>appeal_id</th>\n",
       "      <th>status</th>\n",
       "      <th>type</th>\n",
       "      <th>instructions</th>\n",
       "      <th>assigned_to_id</th>\n",
       "      <th>assigned_by_id</th>\n",
       "      <th>assigned_at</th>\n",
       "      <th>started_at</th>\n",
       "      <th>created_at</th>\n",
       "      <th>updated_at</th>\n",
       "      <th>appeal_type</th>\n",
       "      <th>placed_on_hold_at</th>\n",
       "      <th>assigned_to_type</th>\n",
       "      <th>parent_id</th>\n",
       "      <th>closed_at</th>\n",
       "    </tr>\n",
       "    <tr>\n",
       "      <th>id</th>\n",
       "      <th></th>\n",
       "      <th></th>\n",
       "      <th></th>\n",
       "      <th></th>\n",
       "      <th></th>\n",
       "      <th></th>\n",
       "      <th></th>\n",
       "      <th></th>\n",
       "      <th></th>\n",
       "      <th></th>\n",
       "      <th></th>\n",
       "      <th></th>\n",
       "      <th></th>\n",
       "      <th></th>\n",
       "      <th></th>\n",
       "    </tr>\n",
       "  </thead>\n",
       "  <tbody>\n",
       "    <tr>\n",
       "      <th>416398</th>\n",
       "      <td>30161</td>\n",
       "      <td>on_hold</td>\n",
       "      <td>RootTask</td>\n",
       "      <td>[]</td>\n",
       "      <td>2</td>\n",
       "      <td>NaN</td>\n",
       "      <td>2019-09-18 13:25:11.740577</td>\n",
       "      <td>NaT</td>\n",
       "      <td>2019-09-18 13:25:11.740577</td>\n",
       "      <td>2019-09-18 13:25:12.213775</td>\n",
       "      <td>Appeal</td>\n",
       "      <td>2019-09-18 13:25:12.213707</td>\n",
       "      <td>Organization</td>\n",
       "      <td>NaN</td>\n",
       "      <td>NaT</td>\n",
       "    </tr>\n",
       "    <tr>\n",
       "      <th>416399</th>\n",
       "      <td>30161</td>\n",
       "      <td>in_progress</td>\n",
       "      <td>TrackVeteranTask</td>\n",
       "      <td>[]</td>\n",
       "      <td>8</td>\n",
       "      <td>NaN</td>\n",
       "      <td>2019-09-18 13:25:12.210025</td>\n",
       "      <td>NaT</td>\n",
       "      <td>2019-09-18 13:25:12.210025</td>\n",
       "      <td>2019-09-18 13:25:12.210025</td>\n",
       "      <td>Appeal</td>\n",
       "      <td>NaT</td>\n",
       "      <td>Organization</td>\n",
       "      <td>416398.0</td>\n",
       "      <td>NaT</td>\n",
       "    </tr>\n",
       "    <tr>\n",
       "      <th>416400</th>\n",
       "      <td>30161</td>\n",
       "      <td>completed</td>\n",
       "      <td>DistributionTask</td>\n",
       "      <td>[]</td>\n",
       "      <td>2</td>\n",
       "      <td>NaN</td>\n",
       "      <td>2020-04-01 11:46:28.954678</td>\n",
       "      <td>NaT</td>\n",
       "      <td>2019-09-18 13:25:12.216959</td>\n",
       "      <td>2020-04-01 11:50:26.269381</td>\n",
       "      <td>Appeal</td>\n",
       "      <td>2019-09-18 13:25:12.229691</td>\n",
       "      <td>Organization</td>\n",
       "      <td>416398.0</td>\n",
       "      <td>2020-04-01 11:50:26.269241</td>\n",
       "    </tr>\n",
       "    <tr>\n",
       "      <th>416401</th>\n",
       "      <td>30161</td>\n",
       "      <td>completed</td>\n",
       "      <td>InformalHearingPresentationTask</td>\n",
       "      <td>[]</td>\n",
       "      <td>8</td>\n",
       "      <td>NaN</td>\n",
       "      <td>2019-09-18 13:25:12.225048</td>\n",
       "      <td>NaT</td>\n",
       "      <td>2019-09-18 13:25:12.225048</td>\n",
       "      <td>2020-04-01 11:46:28.938323</td>\n",
       "      <td>Appeal</td>\n",
       "      <td>2020-01-20 16:32:10.389322</td>\n",
       "      <td>Organization</td>\n",
       "      <td>416400.0</td>\n",
       "      <td>2020-04-01 11:46:28.938187</td>\n",
       "    </tr>\n",
       "    <tr>\n",
       "      <th>416402</th>\n",
       "      <td>30161</td>\n",
       "      <td>assigned</td>\n",
       "      <td>VeteranRecordRequest</td>\n",
       "      <td>[]</td>\n",
       "      <td>217</td>\n",
       "      <td>NaN</td>\n",
       "      <td>2019-09-18 13:25:12.233668</td>\n",
       "      <td>NaT</td>\n",
       "      <td>2019-09-18 13:25:12.234462</td>\n",
       "      <td>2019-09-18 13:25:12.234462</td>\n",
       "      <td>Appeal</td>\n",
       "      <td>NaT</td>\n",
       "      <td>Organization</td>\n",
       "      <td>416398.0</td>\n",
       "      <td>NaT</td>\n",
       "    </tr>\n",
       "    <tr>\n",
       "      <th>629098</th>\n",
       "      <td>30161</td>\n",
       "      <td>cancelled</td>\n",
       "      <td>InformalHearingPresentationTask</td>\n",
       "      <td>[Brief, Brief]</td>\n",
       "      <td>2172</td>\n",
       "      <td>2124.0</td>\n",
       "      <td>2020-01-20 16:32:10.376452</td>\n",
       "      <td>NaT</td>\n",
       "      <td>2020-01-20 16:32:10.376452</td>\n",
       "      <td>2020-03-30 18:16:26.017189</td>\n",
       "      <td>Appeal</td>\n",
       "      <td>NaT</td>\n",
       "      <td>User</td>\n",
       "      <td>416401.0</td>\n",
       "      <td>2020-03-30 18:16:26.017004</td>\n",
       "    </tr>\n",
       "    <tr>\n",
       "      <th>790949</th>\n",
       "      <td>30161</td>\n",
       "      <td>completed</td>\n",
       "      <td>InformalHearingPresentationTask</td>\n",
       "      <td>[Brief, Brief]</td>\n",
       "      <td>2255</td>\n",
       "      <td>2124.0</td>\n",
       "      <td>2020-01-20 16:32:10.376452</td>\n",
       "      <td>NaT</td>\n",
       "      <td>2020-03-30 18:16:25.938178</td>\n",
       "      <td>2020-04-01 11:46:28.918153</td>\n",
       "      <td>Appeal</td>\n",
       "      <td>NaT</td>\n",
       "      <td>User</td>\n",
       "      <td>416401.0</td>\n",
       "      <td>2020-04-01 11:46:28.918011</td>\n",
       "    </tr>\n",
       "    <tr>\n",
       "      <th>796324</th>\n",
       "      <td>30161</td>\n",
       "      <td>cancelled</td>\n",
       "      <td>JudgeAssignTask</td>\n",
       "      <td>[This appears to be a specialty case - removal...</td>\n",
       "      <td>1342</td>\n",
       "      <td>NaN</td>\n",
       "      <td>2020-04-01 11:50:26.258360</td>\n",
       "      <td>NaT</td>\n",
       "      <td>2020-04-01 11:50:26.258360</td>\n",
       "      <td>2020-04-10 18:24:37.092734</td>\n",
       "      <td>Appeal</td>\n",
       "      <td>NaT</td>\n",
       "      <td>User</td>\n",
       "      <td>416398.0</td>\n",
       "      <td>2020-04-10 18:24:37.092610</td>\n",
       "    </tr>\n",
       "    <tr>\n",
       "      <th>819661</th>\n",
       "      <td>30161</td>\n",
       "      <td>completed</td>\n",
       "      <td>JudgeAssignTask</td>\n",
       "      <td>[This appears to be a specialty case - removal...</td>\n",
       "      <td>546</td>\n",
       "      <td>1342.0</td>\n",
       "      <td>2020-04-01 11:50:26.258360</td>\n",
       "      <td>NaT</td>\n",
       "      <td>2020-04-10 18:24:37.079392</td>\n",
       "      <td>2020-04-14 17:18:11.898383</td>\n",
       "      <td>Appeal</td>\n",
       "      <td>NaT</td>\n",
       "      <td>User</td>\n",
       "      <td>416398.0</td>\n",
       "      <td>2020-04-14 17:18:11.898217</td>\n",
       "    </tr>\n",
       "    <tr>\n",
       "      <th>826278</th>\n",
       "      <td>30161</td>\n",
       "      <td>completed</td>\n",
       "      <td>JudgeDecisionReviewTask</td>\n",
       "      <td>[]</td>\n",
       "      <td>824</td>\n",
       "      <td>546.0</td>\n",
       "      <td>2020-06-03 22:50:23.406136</td>\n",
       "      <td>2020-06-04 16:09:35.771066</td>\n",
       "      <td>2020-04-14 17:18:11.863861</td>\n",
       "      <td>2020-06-04 16:24:32.803765</td>\n",
       "      <td>Appeal</td>\n",
       "      <td>2020-04-28 20:31:47.230969</td>\n",
       "      <td>User</td>\n",
       "      <td>416398.0</td>\n",
       "      <td>2020-06-04 16:24:32.803592</td>\n",
       "    </tr>\n",
       "    <tr>\n",
       "      <th>826279</th>\n",
       "      <td>30161</td>\n",
       "      <td>completed</td>\n",
       "      <td>AttorneyTask</td>\n",
       "      <td>[]</td>\n",
       "      <td>1063</td>\n",
       "      <td>546.0</td>\n",
       "      <td>2020-04-14 17:18:11.983759</td>\n",
       "      <td>NaT</td>\n",
       "      <td>2020-04-14 17:18:11.983759</td>\n",
       "      <td>2020-04-28 19:18:12.272309</td>\n",
       "      <td>Appeal</td>\n",
       "      <td>NaT</td>\n",
       "      <td>User</td>\n",
       "      <td>826278.0</td>\n",
       "      <td>2020-04-28 19:18:12.272145</td>\n",
       "    </tr>\n",
       "    <tr>\n",
       "      <th>861921</th>\n",
       "      <td>30161</td>\n",
       "      <td>completed</td>\n",
       "      <td>AttorneyRewriteTask</td>\n",
       "      <td>[Please check 10182-  does not look like signe...</td>\n",
       "      <td>1063</td>\n",
       "      <td>824.0</td>\n",
       "      <td>2020-05-26 17:01:31.822484</td>\n",
       "      <td>2020-05-26 20:38:56.005740</td>\n",
       "      <td>2020-04-28 20:31:47.202939</td>\n",
       "      <td>2020-06-03 22:50:23.384759</td>\n",
       "      <td>Appeal</td>\n",
       "      <td>2020-05-26 15:43:53.389492</td>\n",
       "      <td>User</td>\n",
       "      <td>826278.0</td>\n",
       "      <td>2020-06-03 22:50:23.384594</td>\n",
       "    </tr>\n",
       "    <tr>\n",
       "      <th>914540</th>\n",
       "      <td>30161</td>\n",
       "      <td>completed</td>\n",
       "      <td>NewRepArgumentsColocatedTask</td>\n",
       "      <td>[DAV is the rep in this case.  The vet is inco...</td>\n",
       "      <td>23</td>\n",
       "      <td>1063.0</td>\n",
       "      <td>2020-05-26 15:43:53.322659</td>\n",
       "      <td>NaT</td>\n",
       "      <td>2020-05-26 15:43:53.322659</td>\n",
       "      <td>2020-05-26 17:01:31.796092</td>\n",
       "      <td>Appeal</td>\n",
       "      <td>2020-05-26 15:43:53.371420</td>\n",
       "      <td>Organization</td>\n",
       "      <td>861921.0</td>\n",
       "      <td>2020-05-26 17:01:31.795879</td>\n",
       "    </tr>\n",
       "    <tr>\n",
       "      <th>914541</th>\n",
       "      <td>30161</td>\n",
       "      <td>completed</td>\n",
       "      <td>NewRepArgumentsColocatedTask</td>\n",
       "      <td>[DAV is the rep in this case.  The vet is inco...</td>\n",
       "      <td>1829</td>\n",
       "      <td>1063.0</td>\n",
       "      <td>2020-05-26 15:43:53.322659</td>\n",
       "      <td>2020-05-26 16:59:31.747782</td>\n",
       "      <td>2020-05-26 15:43:53.366353</td>\n",
       "      <td>2020-05-26 17:01:31.753799</td>\n",
       "      <td>Appeal</td>\n",
       "      <td>NaT</td>\n",
       "      <td>User</td>\n",
       "      <td>914540.0</td>\n",
       "      <td>2020-05-26 17:01:31.753616</td>\n",
       "    </tr>\n",
       "    <tr>\n",
       "      <th>934712</th>\n",
       "      <td>30161</td>\n",
       "      <td>on_hold</td>\n",
       "      <td>QualityReviewTask</td>\n",
       "      <td>[]</td>\n",
       "      <td>17</td>\n",
       "      <td>NaN</td>\n",
       "      <td>2020-06-04 16:24:33.199688</td>\n",
       "      <td>NaT</td>\n",
       "      <td>2020-06-04 16:24:33.199688</td>\n",
       "      <td>2020-06-09 10:55:28.515286</td>\n",
       "      <td>Appeal</td>\n",
       "      <td>2020-06-09 10:55:28.515202</td>\n",
       "      <td>Organization</td>\n",
       "      <td>416398.0</td>\n",
       "      <td>NaT</td>\n",
       "    </tr>\n",
       "    <tr>\n",
       "      <th>941750</th>\n",
       "      <td>30161</td>\n",
       "      <td>on_hold</td>\n",
       "      <td>QualityReviewTask</td>\n",
       "      <td>[QR review]</td>\n",
       "      <td>1071</td>\n",
       "      <td>1071.0</td>\n",
       "      <td>2020-06-09 10:55:28.500488</td>\n",
       "      <td>2020-06-10 13:15:26.733851</td>\n",
       "      <td>2020-06-09 10:55:28.500488</td>\n",
       "      <td>2020-06-18 18:24:26.209587</td>\n",
       "      <td>Appeal</td>\n",
       "      <td>2020-06-18 18:24:26.209472</td>\n",
       "      <td>User</td>\n",
       "      <td>934712.0</td>\n",
       "      <td>NaT</td>\n",
       "    </tr>\n",
       "    <tr>\n",
       "      <th>963377</th>\n",
       "      <td>30161</td>\n",
       "      <td>on_hold</td>\n",
       "      <td>JudgeQualityReviewTask</td>\n",
       "      <td>[QR review]</td>\n",
       "      <td>824</td>\n",
       "      <td>1071.0</td>\n",
       "      <td>2020-06-18 18:24:26.192867</td>\n",
       "      <td>2020-06-18 19:08:09.163009</td>\n",
       "      <td>2020-06-18 18:24:26.192867</td>\n",
       "      <td>2020-06-18 19:08:33.022475</td>\n",
       "      <td>Appeal</td>\n",
       "      <td>2020-06-18 19:08:33.022370</td>\n",
       "      <td>User</td>\n",
       "      <td>941750.0</td>\n",
       "      <td>NaT</td>\n",
       "    </tr>\n",
       "    <tr>\n",
       "      <th>963590</th>\n",
       "      <td>30161</td>\n",
       "      <td>in_progress</td>\n",
       "      <td>AttorneyQualityReviewTask</td>\n",
       "      <td>[QR review--return to atty for admin action pe...</td>\n",
       "      <td>1063</td>\n",
       "      <td>824.0</td>\n",
       "      <td>2020-06-24 14:34:31.465660</td>\n",
       "      <td>2020-06-24 15:57:48.040644</td>\n",
       "      <td>2020-06-18 19:08:33.004488</td>\n",
       "      <td>2020-06-24 15:57:48.040795</td>\n",
       "      <td>Appeal</td>\n",
       "      <td>2020-06-18 20:32:41.774427</td>\n",
       "      <td>User</td>\n",
       "      <td>963377.0</td>\n",
       "      <td>NaT</td>\n",
       "    </tr>\n",
       "    <tr>\n",
       "      <th>963917</th>\n",
       "      <td>30161</td>\n",
       "      <td>completed</td>\n",
       "      <td>OtherColocatedTask</td>\n",
       "      <td>[The fiduciary file is missing, if this contai...</td>\n",
       "      <td>23</td>\n",
       "      <td>1063.0</td>\n",
       "      <td>2020-06-18 20:32:41.683567</td>\n",
       "      <td>NaT</td>\n",
       "      <td>2020-06-18 20:32:41.683567</td>\n",
       "      <td>2020-06-24 14:34:31.437936</td>\n",
       "      <td>Appeal</td>\n",
       "      <td>2020-06-18 20:32:41.749501</td>\n",
       "      <td>Organization</td>\n",
       "      <td>963590.0</td>\n",
       "      <td>2020-06-24 14:34:31.437796</td>\n",
       "    </tr>\n",
       "    <tr>\n",
       "      <th>963918</th>\n",
       "      <td>30161</td>\n",
       "      <td>cancelled</td>\n",
       "      <td>OtherColocatedTask</td>\n",
       "      <td>[The fiduciary file is missing, if this contai...</td>\n",
       "      <td>10627</td>\n",
       "      <td>1063.0</td>\n",
       "      <td>2020-06-18 20:32:41.683567</td>\n",
       "      <td>NaT</td>\n",
       "      <td>2020-06-18 20:32:41.743112</td>\n",
       "      <td>2020-06-22 15:57:05.605936</td>\n",
       "      <td>Appeal</td>\n",
       "      <td>NaT</td>\n",
       "      <td>User</td>\n",
       "      <td>963917.0</td>\n",
       "      <td>2020-06-22 15:57:05.605778</td>\n",
       "    </tr>\n",
       "    <tr>\n",
       "      <th>969559</th>\n",
       "      <td>30161</td>\n",
       "      <td>completed</td>\n",
       "      <td>OtherColocatedTask</td>\n",
       "      <td>[The fiduciary file is missing, if this contai...</td>\n",
       "      <td>803</td>\n",
       "      <td>1888.0</td>\n",
       "      <td>2020-06-18 20:32:41.683567</td>\n",
       "      <td>2020-06-22 19:50:48.858797</td>\n",
       "      <td>2020-06-22 15:57:05.591825</td>\n",
       "      <td>2020-06-24 14:34:31.412580</td>\n",
       "      <td>Appeal</td>\n",
       "      <td>NaT</td>\n",
       "      <td>User</td>\n",
       "      <td>963917.0</td>\n",
       "      <td>2020-06-24 14:34:31.412441</td>\n",
       "    </tr>\n",
       "  </tbody>\n",
       "</table>\n",
       "</div>"
      ],
      "text/plain": [
       "        appeal_id       status                             type  \\\n",
       "id                                                                \n",
       "416398      30161      on_hold                         RootTask   \n",
       "416399      30161  in_progress                 TrackVeteranTask   \n",
       "416400      30161    completed                 DistributionTask   \n",
       "416401      30161    completed  InformalHearingPresentationTask   \n",
       "416402      30161     assigned             VeteranRecordRequest   \n",
       "629098      30161    cancelled  InformalHearingPresentationTask   \n",
       "790949      30161    completed  InformalHearingPresentationTask   \n",
       "796324      30161    cancelled                  JudgeAssignTask   \n",
       "819661      30161    completed                  JudgeAssignTask   \n",
       "826278      30161    completed          JudgeDecisionReviewTask   \n",
       "826279      30161    completed                     AttorneyTask   \n",
       "861921      30161    completed              AttorneyRewriteTask   \n",
       "914540      30161    completed     NewRepArgumentsColocatedTask   \n",
       "914541      30161    completed     NewRepArgumentsColocatedTask   \n",
       "934712      30161      on_hold                QualityReviewTask   \n",
       "941750      30161      on_hold                QualityReviewTask   \n",
       "963377      30161      on_hold           JudgeQualityReviewTask   \n",
       "963590      30161  in_progress        AttorneyQualityReviewTask   \n",
       "963917      30161    completed               OtherColocatedTask   \n",
       "963918      30161    cancelled               OtherColocatedTask   \n",
       "969559      30161    completed               OtherColocatedTask   \n",
       "\n",
       "                                             instructions  assigned_to_id  \\\n",
       "id                                                                          \n",
       "416398                                                 []               2   \n",
       "416399                                                 []               8   \n",
       "416400                                                 []               2   \n",
       "416401                                                 []               8   \n",
       "416402                                                 []             217   \n",
       "629098                                     [Brief, Brief]            2172   \n",
       "790949                                     [Brief, Brief]            2255   \n",
       "796324  [This appears to be a specialty case - removal...            1342   \n",
       "819661  [This appears to be a specialty case - removal...             546   \n",
       "826278                                                 []             824   \n",
       "826279                                                 []            1063   \n",
       "861921  [Please check 10182-  does not look like signe...            1063   \n",
       "914540  [DAV is the rep in this case.  The vet is inco...              23   \n",
       "914541  [DAV is the rep in this case.  The vet is inco...            1829   \n",
       "934712                                                 []              17   \n",
       "941750                                        [QR review]            1071   \n",
       "963377                                        [QR review]             824   \n",
       "963590  [QR review--return to atty for admin action pe...            1063   \n",
       "963917  [The fiduciary file is missing, if this contai...              23   \n",
       "963918  [The fiduciary file is missing, if this contai...           10627   \n",
       "969559  [The fiduciary file is missing, if this contai...             803   \n",
       "\n",
       "        assigned_by_id                assigned_at                 started_at  \\\n",
       "id                                                                             \n",
       "416398             NaN 2019-09-18 13:25:11.740577                        NaT   \n",
       "416399             NaN 2019-09-18 13:25:12.210025                        NaT   \n",
       "416400             NaN 2020-04-01 11:46:28.954678                        NaT   \n",
       "416401             NaN 2019-09-18 13:25:12.225048                        NaT   \n",
       "416402             NaN 2019-09-18 13:25:12.233668                        NaT   \n",
       "629098          2124.0 2020-01-20 16:32:10.376452                        NaT   \n",
       "790949          2124.0 2020-01-20 16:32:10.376452                        NaT   \n",
       "796324             NaN 2020-04-01 11:50:26.258360                        NaT   \n",
       "819661          1342.0 2020-04-01 11:50:26.258360                        NaT   \n",
       "826278           546.0 2020-06-03 22:50:23.406136 2020-06-04 16:09:35.771066   \n",
       "826279           546.0 2020-04-14 17:18:11.983759                        NaT   \n",
       "861921           824.0 2020-05-26 17:01:31.822484 2020-05-26 20:38:56.005740   \n",
       "914540          1063.0 2020-05-26 15:43:53.322659                        NaT   \n",
       "914541          1063.0 2020-05-26 15:43:53.322659 2020-05-26 16:59:31.747782   \n",
       "934712             NaN 2020-06-04 16:24:33.199688                        NaT   \n",
       "941750          1071.0 2020-06-09 10:55:28.500488 2020-06-10 13:15:26.733851   \n",
       "963377          1071.0 2020-06-18 18:24:26.192867 2020-06-18 19:08:09.163009   \n",
       "963590           824.0 2020-06-24 14:34:31.465660 2020-06-24 15:57:48.040644   \n",
       "963917          1063.0 2020-06-18 20:32:41.683567                        NaT   \n",
       "963918          1063.0 2020-06-18 20:32:41.683567                        NaT   \n",
       "969559          1888.0 2020-06-18 20:32:41.683567 2020-06-22 19:50:48.858797   \n",
       "\n",
       "                       created_at                 updated_at appeal_type  \\\n",
       "id                                                                         \n",
       "416398 2019-09-18 13:25:11.740577 2019-09-18 13:25:12.213775      Appeal   \n",
       "416399 2019-09-18 13:25:12.210025 2019-09-18 13:25:12.210025      Appeal   \n",
       "416400 2019-09-18 13:25:12.216959 2020-04-01 11:50:26.269381      Appeal   \n",
       "416401 2019-09-18 13:25:12.225048 2020-04-01 11:46:28.938323      Appeal   \n",
       "416402 2019-09-18 13:25:12.234462 2019-09-18 13:25:12.234462      Appeal   \n",
       "629098 2020-01-20 16:32:10.376452 2020-03-30 18:16:26.017189      Appeal   \n",
       "790949 2020-03-30 18:16:25.938178 2020-04-01 11:46:28.918153      Appeal   \n",
       "796324 2020-04-01 11:50:26.258360 2020-04-10 18:24:37.092734      Appeal   \n",
       "819661 2020-04-10 18:24:37.079392 2020-04-14 17:18:11.898383      Appeal   \n",
       "826278 2020-04-14 17:18:11.863861 2020-06-04 16:24:32.803765      Appeal   \n",
       "826279 2020-04-14 17:18:11.983759 2020-04-28 19:18:12.272309      Appeal   \n",
       "861921 2020-04-28 20:31:47.202939 2020-06-03 22:50:23.384759      Appeal   \n",
       "914540 2020-05-26 15:43:53.322659 2020-05-26 17:01:31.796092      Appeal   \n",
       "914541 2020-05-26 15:43:53.366353 2020-05-26 17:01:31.753799      Appeal   \n",
       "934712 2020-06-04 16:24:33.199688 2020-06-09 10:55:28.515286      Appeal   \n",
       "941750 2020-06-09 10:55:28.500488 2020-06-18 18:24:26.209587      Appeal   \n",
       "963377 2020-06-18 18:24:26.192867 2020-06-18 19:08:33.022475      Appeal   \n",
       "963590 2020-06-18 19:08:33.004488 2020-06-24 15:57:48.040795      Appeal   \n",
       "963917 2020-06-18 20:32:41.683567 2020-06-24 14:34:31.437936      Appeal   \n",
       "963918 2020-06-18 20:32:41.743112 2020-06-22 15:57:05.605936      Appeal   \n",
       "969559 2020-06-22 15:57:05.591825 2020-06-24 14:34:31.412580      Appeal   \n",
       "\n",
       "                placed_on_hold_at assigned_to_type  parent_id  \\\n",
       "id                                                              \n",
       "416398 2019-09-18 13:25:12.213707     Organization        NaN   \n",
       "416399                        NaT     Organization   416398.0   \n",
       "416400 2019-09-18 13:25:12.229691     Organization   416398.0   \n",
       "416401 2020-01-20 16:32:10.389322     Organization   416400.0   \n",
       "416402                        NaT     Organization   416398.0   \n",
       "629098                        NaT             User   416401.0   \n",
       "790949                        NaT             User   416401.0   \n",
       "796324                        NaT             User   416398.0   \n",
       "819661                        NaT             User   416398.0   \n",
       "826278 2020-04-28 20:31:47.230969             User   416398.0   \n",
       "826279                        NaT             User   826278.0   \n",
       "861921 2020-05-26 15:43:53.389492             User   826278.0   \n",
       "914540 2020-05-26 15:43:53.371420     Organization   861921.0   \n",
       "914541                        NaT             User   914540.0   \n",
       "934712 2020-06-09 10:55:28.515202     Organization   416398.0   \n",
       "941750 2020-06-18 18:24:26.209472             User   934712.0   \n",
       "963377 2020-06-18 19:08:33.022370             User   941750.0   \n",
       "963590 2020-06-18 20:32:41.774427             User   963377.0   \n",
       "963917 2020-06-18 20:32:41.749501     Organization   963590.0   \n",
       "963918                        NaT             User   963917.0   \n",
       "969559                        NaT             User   963917.0   \n",
       "\n",
       "                        closed_at  \n",
       "id                                 \n",
       "416398                        NaT  \n",
       "416399                        NaT  \n",
       "416400 2020-04-01 11:50:26.269241  \n",
       "416401 2020-04-01 11:46:28.938187  \n",
       "416402                        NaT  \n",
       "629098 2020-03-30 18:16:26.017004  \n",
       "790949 2020-04-01 11:46:28.918011  \n",
       "796324 2020-04-10 18:24:37.092610  \n",
       "819661 2020-04-14 17:18:11.898217  \n",
       "826278 2020-06-04 16:24:32.803592  \n",
       "826279 2020-04-28 19:18:12.272145  \n",
       "861921 2020-06-03 22:50:23.384594  \n",
       "914540 2020-05-26 17:01:31.795879  \n",
       "914541 2020-05-26 17:01:31.753616  \n",
       "934712                        NaT  \n",
       "941750                        NaT  \n",
       "963377                        NaT  \n",
       "963590                        NaT  \n",
       "963917 2020-06-24 14:34:31.437796  \n",
       "963918 2020-06-22 15:57:05.605778  \n",
       "969559 2020-06-24 14:34:31.412441  "
      ]
     },
     "execution_count": 31,
     "metadata": {},
     "output_type": "execute_result"
    }
   ],
   "source": [
    "sortedTasksDf=tasksDf.set_index('id').sort_values(by=['id','created_at'])\n",
    "sortedTasksDf"
   ]
  },
  {
   "cell_type": "code",
   "execution_count": 32,
   "metadata": {},
   "outputs": [
    {
     "name": "stdout",
     "output_type": "stream",
     "text": [
      "Collecting package metadata (current_repodata.json): done\n",
      "Solving environment: done\n",
      "\n",
      "\n",
      "==> WARNING: A newer version of conda exists. <==\n",
      "  current version: 4.8.2\n",
      "  latest version: 4.8.3\n",
      "\n",
      "Please update conda by running\n",
      "\n",
      "    $ conda update -n base conda\n",
      "\n",
      "\n",
      "\n",
      "## Package Plan ##\n",
      "\n",
      "  environment location: /opt/conda\n",
      "\n",
      "  added / updated specs:\n",
      "    - plotly\n",
      "\n",
      "\n",
      "The following packages will be downloaded:\n",
      "\n",
      "    package                    |            build\n",
      "    ---------------------------|-----------------\n",
      "    plotly-4.9.0               |     pyh9f0ad1d_0         5.7 MB  conda-forge\n",
      "    retrying-1.3.3             |             py_2          11 KB  conda-forge\n",
      "    ------------------------------------------------------------\n",
      "                                           Total:         5.8 MB\n",
      "\n",
      "The following NEW packages will be INSTALLED:\n",
      "\n",
      "  plotly             conda-forge/noarch::plotly-4.9.0-pyh9f0ad1d_0\n",
      "  retrying           conda-forge/noarch::retrying-1.3.3-py_2\n",
      "\n",
      "\n",
      "\n",
      "Downloading and Extracting Packages\n",
      "plotly-4.9.0         | 5.7 MB    | ##################################### | 100% \n",
      "retrying-1.3.3       | 11 KB     | ##################################### | 100% \n",
      "Preparing transaction: done\n",
      "Verifying transaction: done\n",
      "Executing transaction: done\n"
     ]
    }
   ],
   "source": [
    "!conda install --yes plotly"
   ]
  },
  {
   "cell_type": "code",
   "execution_count": 45,
   "metadata": {},
   "outputs": [],
   "source": [
    "import plotly.express as px\n",
    "import pandas as pd\n",
    "from datetime import timedelta"
   ]
  },
  {
   "cell_type": "code",
   "execution_count": 46,
   "metadata": {},
   "outputs": [],
   "source": [
    "filteredDf=sortedTasksDf[sortedTasksDf['updated_at']-sortedTasksDf['created_at'] > timedelta(minutes=1)]"
   ]
  },
  {
   "cell_type": "code",
   "execution_count": 47,
   "metadata": {},
   "outputs": [
    {
     "data": {
      "text/plain": [
       "id\n",
       "416398    False\n",
       "416399    False\n",
       "416400     True\n",
       "416401     True\n",
       "416402    False\n",
       "629098     True\n",
       "790949     True\n",
       "796324     True\n",
       "819661     True\n",
       "826278     True\n",
       "826279     True\n",
       "861921     True\n",
       "914540     True\n",
       "914541     True\n",
       "934712     True\n",
       "941750     True\n",
       "963377     True\n",
       "963590     True\n",
       "963917     True\n",
       "963918     True\n",
       "969559     True\n",
       "dtype: bool"
      ]
     },
     "execution_count": 47,
     "metadata": {},
     "output_type": "execute_result"
    }
   ],
   "source": [
    "sortedTasksDf['updated_at']-sortedTasksDf['created_at'] > timedelta(minutes=1)"
   ]
  },
  {
   "cell_type": "code",
   "execution_count": 50,
   "metadata": {},
   "outputs": [
    {
     "data": {
      "application/vnd.plotly.v1+json": {
       "config": {
        "plotlyServerURL": "https://plot.ly"
       },
       "data": [
        {
         "alignmentgroup": "True",
         "base": [
          "2019-09-18T13:25:12.216959",
          "2019-09-18T13:25:12.225048",
          "2020-05-26T15:43:53.322659",
          "2020-06-04T16:24:33.199688",
          "2020-06-18T20:32:41.683567"
         ],
         "hovertemplate": "assigned_to_type=Organization<br>created_at=%{base}<br>updated_at=%{x}<br>type=%{y}<extra></extra>",
         "legendgroup": "Organization",
         "marker": {
          "color": "#636efa"
         },
         "name": "Organization",
         "offsetgroup": "Organization",
         "orientation": "h",
         "showlegend": true,
         "textposition": "auto",
         "type": "bar",
         "x": [
          16928714052,
          16928476713,
          4658473,
          412255315,
          496909754
         ],
         "xaxis": "x",
         "y": [
          "DistributionTask",
          "InformalHearingPresentationTask",
          "NewRepArgumentsColocatedTask",
          "QualityReviewTask",
          "OtherColocatedTask"
         ],
         "yaxis": "y"
        },
        {
         "alignmentgroup": "True",
         "base": [
          "2020-01-20T16:32:10.376452",
          "2020-03-30T18:16:25.938178",
          "2020-04-01T11:50:26.258360",
          "2020-04-10T18:24:37.079392",
          "2020-04-14T17:18:11.863861",
          "2020-04-14T17:18:11.983759",
          "2020-04-28T20:31:47.202939",
          "2020-05-26T15:43:53.366353",
          "2020-06-09T10:55:28.500488",
          "2020-06-18T18:24:26.192867",
          "2020-06-18T19:08:33.004488",
          "2020-06-18T20:32:41.743112",
          "2020-06-22T15:57:05.591825"
         ],
         "hovertemplate": "assigned_to_type=User<br>created_at=%{base}<br>updated_at=%{x}<br>type=%{y}<extra></extra>",
         "legendgroup": "User",
         "marker": {
          "color": "#EF553B"
         },
         "name": "User",
         "offsetgroup": "User",
         "orientation": "h",
         "showlegend": true,
         "textposition": "auto",
         "type": "bar",
         "x": [
          6054255640,
          149402979,
          801250834,
          341614818,
          4403180939,
          1216800288,
          3118716181,
          4658387,
          804537709,
          2646829,
          506955036,
          329063862,
          167845820
         ],
         "xaxis": "x",
         "y": [
          "InformalHearingPresentationTask",
          "InformalHearingPresentationTask",
          "JudgeAssignTask",
          "JudgeAssignTask",
          "JudgeDecisionReviewTask",
          "AttorneyTask",
          "AttorneyRewriteTask",
          "NewRepArgumentsColocatedTask",
          "QualityReviewTask",
          "JudgeQualityReviewTask",
          "AttorneyQualityReviewTask",
          "OtherColocatedTask",
          "OtherColocatedTask"
         ],
         "yaxis": "y"
        }
       ],
       "layout": {
        "barmode": "overlay",
        "legend": {
         "title": {
          "text": "assigned_to_type"
         },
         "tracegroupgap": 0
        },
        "margin": {
         "t": 60
        },
        "template": {
         "data": {
          "bar": [
           {
            "error_x": {
             "color": "#2a3f5f"
            },
            "error_y": {
             "color": "#2a3f5f"
            },
            "marker": {
             "line": {
              "color": "#E5ECF6",
              "width": 0.5
             }
            },
            "type": "bar"
           }
          ],
          "barpolar": [
           {
            "marker": {
             "line": {
              "color": "#E5ECF6",
              "width": 0.5
             }
            },
            "type": "barpolar"
           }
          ],
          "carpet": [
           {
            "aaxis": {
             "endlinecolor": "#2a3f5f",
             "gridcolor": "white",
             "linecolor": "white",
             "minorgridcolor": "white",
             "startlinecolor": "#2a3f5f"
            },
            "baxis": {
             "endlinecolor": "#2a3f5f",
             "gridcolor": "white",
             "linecolor": "white",
             "minorgridcolor": "white",
             "startlinecolor": "#2a3f5f"
            },
            "type": "carpet"
           }
          ],
          "choropleth": [
           {
            "colorbar": {
             "outlinewidth": 0,
             "ticks": ""
            },
            "type": "choropleth"
           }
          ],
          "contour": [
           {
            "colorbar": {
             "outlinewidth": 0,
             "ticks": ""
            },
            "colorscale": [
             [
              0,
              "#0d0887"
             ],
             [
              0.1111111111111111,
              "#46039f"
             ],
             [
              0.2222222222222222,
              "#7201a8"
             ],
             [
              0.3333333333333333,
              "#9c179e"
             ],
             [
              0.4444444444444444,
              "#bd3786"
             ],
             [
              0.5555555555555556,
              "#d8576b"
             ],
             [
              0.6666666666666666,
              "#ed7953"
             ],
             [
              0.7777777777777778,
              "#fb9f3a"
             ],
             [
              0.8888888888888888,
              "#fdca26"
             ],
             [
              1,
              "#f0f921"
             ]
            ],
            "type": "contour"
           }
          ],
          "contourcarpet": [
           {
            "colorbar": {
             "outlinewidth": 0,
             "ticks": ""
            },
            "type": "contourcarpet"
           }
          ],
          "heatmap": [
           {
            "colorbar": {
             "outlinewidth": 0,
             "ticks": ""
            },
            "colorscale": [
             [
              0,
              "#0d0887"
             ],
             [
              0.1111111111111111,
              "#46039f"
             ],
             [
              0.2222222222222222,
              "#7201a8"
             ],
             [
              0.3333333333333333,
              "#9c179e"
             ],
             [
              0.4444444444444444,
              "#bd3786"
             ],
             [
              0.5555555555555556,
              "#d8576b"
             ],
             [
              0.6666666666666666,
              "#ed7953"
             ],
             [
              0.7777777777777778,
              "#fb9f3a"
             ],
             [
              0.8888888888888888,
              "#fdca26"
             ],
             [
              1,
              "#f0f921"
             ]
            ],
            "type": "heatmap"
           }
          ],
          "heatmapgl": [
           {
            "colorbar": {
             "outlinewidth": 0,
             "ticks": ""
            },
            "colorscale": [
             [
              0,
              "#0d0887"
             ],
             [
              0.1111111111111111,
              "#46039f"
             ],
             [
              0.2222222222222222,
              "#7201a8"
             ],
             [
              0.3333333333333333,
              "#9c179e"
             ],
             [
              0.4444444444444444,
              "#bd3786"
             ],
             [
              0.5555555555555556,
              "#d8576b"
             ],
             [
              0.6666666666666666,
              "#ed7953"
             ],
             [
              0.7777777777777778,
              "#fb9f3a"
             ],
             [
              0.8888888888888888,
              "#fdca26"
             ],
             [
              1,
              "#f0f921"
             ]
            ],
            "type": "heatmapgl"
           }
          ],
          "histogram": [
           {
            "marker": {
             "colorbar": {
              "outlinewidth": 0,
              "ticks": ""
             }
            },
            "type": "histogram"
           }
          ],
          "histogram2d": [
           {
            "colorbar": {
             "outlinewidth": 0,
             "ticks": ""
            },
            "colorscale": [
             [
              0,
              "#0d0887"
             ],
             [
              0.1111111111111111,
              "#46039f"
             ],
             [
              0.2222222222222222,
              "#7201a8"
             ],
             [
              0.3333333333333333,
              "#9c179e"
             ],
             [
              0.4444444444444444,
              "#bd3786"
             ],
             [
              0.5555555555555556,
              "#d8576b"
             ],
             [
              0.6666666666666666,
              "#ed7953"
             ],
             [
              0.7777777777777778,
              "#fb9f3a"
             ],
             [
              0.8888888888888888,
              "#fdca26"
             ],
             [
              1,
              "#f0f921"
             ]
            ],
            "type": "histogram2d"
           }
          ],
          "histogram2dcontour": [
           {
            "colorbar": {
             "outlinewidth": 0,
             "ticks": ""
            },
            "colorscale": [
             [
              0,
              "#0d0887"
             ],
             [
              0.1111111111111111,
              "#46039f"
             ],
             [
              0.2222222222222222,
              "#7201a8"
             ],
             [
              0.3333333333333333,
              "#9c179e"
             ],
             [
              0.4444444444444444,
              "#bd3786"
             ],
             [
              0.5555555555555556,
              "#d8576b"
             ],
             [
              0.6666666666666666,
              "#ed7953"
             ],
             [
              0.7777777777777778,
              "#fb9f3a"
             ],
             [
              0.8888888888888888,
              "#fdca26"
             ],
             [
              1,
              "#f0f921"
             ]
            ],
            "type": "histogram2dcontour"
           }
          ],
          "mesh3d": [
           {
            "colorbar": {
             "outlinewidth": 0,
             "ticks": ""
            },
            "type": "mesh3d"
           }
          ],
          "parcoords": [
           {
            "line": {
             "colorbar": {
              "outlinewidth": 0,
              "ticks": ""
             }
            },
            "type": "parcoords"
           }
          ],
          "pie": [
           {
            "automargin": true,
            "type": "pie"
           }
          ],
          "scatter": [
           {
            "marker": {
             "colorbar": {
              "outlinewidth": 0,
              "ticks": ""
             }
            },
            "type": "scatter"
           }
          ],
          "scatter3d": [
           {
            "line": {
             "colorbar": {
              "outlinewidth": 0,
              "ticks": ""
             }
            },
            "marker": {
             "colorbar": {
              "outlinewidth": 0,
              "ticks": ""
             }
            },
            "type": "scatter3d"
           }
          ],
          "scattercarpet": [
           {
            "marker": {
             "colorbar": {
              "outlinewidth": 0,
              "ticks": ""
             }
            },
            "type": "scattercarpet"
           }
          ],
          "scattergeo": [
           {
            "marker": {
             "colorbar": {
              "outlinewidth": 0,
              "ticks": ""
             }
            },
            "type": "scattergeo"
           }
          ],
          "scattergl": [
           {
            "marker": {
             "colorbar": {
              "outlinewidth": 0,
              "ticks": ""
             }
            },
            "type": "scattergl"
           }
          ],
          "scattermapbox": [
           {
            "marker": {
             "colorbar": {
              "outlinewidth": 0,
              "ticks": ""
             }
            },
            "type": "scattermapbox"
           }
          ],
          "scatterpolar": [
           {
            "marker": {
             "colorbar": {
              "outlinewidth": 0,
              "ticks": ""
             }
            },
            "type": "scatterpolar"
           }
          ],
          "scatterpolargl": [
           {
            "marker": {
             "colorbar": {
              "outlinewidth": 0,
              "ticks": ""
             }
            },
            "type": "scatterpolargl"
           }
          ],
          "scatterternary": [
           {
            "marker": {
             "colorbar": {
              "outlinewidth": 0,
              "ticks": ""
             }
            },
            "type": "scatterternary"
           }
          ],
          "surface": [
           {
            "colorbar": {
             "outlinewidth": 0,
             "ticks": ""
            },
            "colorscale": [
             [
              0,
              "#0d0887"
             ],
             [
              0.1111111111111111,
              "#46039f"
             ],
             [
              0.2222222222222222,
              "#7201a8"
             ],
             [
              0.3333333333333333,
              "#9c179e"
             ],
             [
              0.4444444444444444,
              "#bd3786"
             ],
             [
              0.5555555555555556,
              "#d8576b"
             ],
             [
              0.6666666666666666,
              "#ed7953"
             ],
             [
              0.7777777777777778,
              "#fb9f3a"
             ],
             [
              0.8888888888888888,
              "#fdca26"
             ],
             [
              1,
              "#f0f921"
             ]
            ],
            "type": "surface"
           }
          ],
          "table": [
           {
            "cells": {
             "fill": {
              "color": "#EBF0F8"
             },
             "line": {
              "color": "white"
             }
            },
            "header": {
             "fill": {
              "color": "#C8D4E3"
             },
             "line": {
              "color": "white"
             }
            },
            "type": "table"
           }
          ]
         },
         "layout": {
          "annotationdefaults": {
           "arrowcolor": "#2a3f5f",
           "arrowhead": 0,
           "arrowwidth": 1
          },
          "coloraxis": {
           "colorbar": {
            "outlinewidth": 0,
            "ticks": ""
           }
          },
          "colorscale": {
           "diverging": [
            [
             0,
             "#8e0152"
            ],
            [
             0.1,
             "#c51b7d"
            ],
            [
             0.2,
             "#de77ae"
            ],
            [
             0.3,
             "#f1b6da"
            ],
            [
             0.4,
             "#fde0ef"
            ],
            [
             0.5,
             "#f7f7f7"
            ],
            [
             0.6,
             "#e6f5d0"
            ],
            [
             0.7,
             "#b8e186"
            ],
            [
             0.8,
             "#7fbc41"
            ],
            [
             0.9,
             "#4d9221"
            ],
            [
             1,
             "#276419"
            ]
           ],
           "sequential": [
            [
             0,
             "#0d0887"
            ],
            [
             0.1111111111111111,
             "#46039f"
            ],
            [
             0.2222222222222222,
             "#7201a8"
            ],
            [
             0.3333333333333333,
             "#9c179e"
            ],
            [
             0.4444444444444444,
             "#bd3786"
            ],
            [
             0.5555555555555556,
             "#d8576b"
            ],
            [
             0.6666666666666666,
             "#ed7953"
            ],
            [
             0.7777777777777778,
             "#fb9f3a"
            ],
            [
             0.8888888888888888,
             "#fdca26"
            ],
            [
             1,
             "#f0f921"
            ]
           ],
           "sequentialminus": [
            [
             0,
             "#0d0887"
            ],
            [
             0.1111111111111111,
             "#46039f"
            ],
            [
             0.2222222222222222,
             "#7201a8"
            ],
            [
             0.3333333333333333,
             "#9c179e"
            ],
            [
             0.4444444444444444,
             "#bd3786"
            ],
            [
             0.5555555555555556,
             "#d8576b"
            ],
            [
             0.6666666666666666,
             "#ed7953"
            ],
            [
             0.7777777777777778,
             "#fb9f3a"
            ],
            [
             0.8888888888888888,
             "#fdca26"
            ],
            [
             1,
             "#f0f921"
            ]
           ]
          },
          "colorway": [
           "#636efa",
           "#EF553B",
           "#00cc96",
           "#ab63fa",
           "#FFA15A",
           "#19d3f3",
           "#FF6692",
           "#B6E880",
           "#FF97FF",
           "#FECB52"
          ],
          "font": {
           "color": "#2a3f5f"
          },
          "geo": {
           "bgcolor": "white",
           "lakecolor": "white",
           "landcolor": "#E5ECF6",
           "showlakes": true,
           "showland": true,
           "subunitcolor": "white"
          },
          "hoverlabel": {
           "align": "left"
          },
          "hovermode": "closest",
          "mapbox": {
           "style": "light"
          },
          "paper_bgcolor": "white",
          "plot_bgcolor": "#E5ECF6",
          "polar": {
           "angularaxis": {
            "gridcolor": "white",
            "linecolor": "white",
            "ticks": ""
           },
           "bgcolor": "#E5ECF6",
           "radialaxis": {
            "gridcolor": "white",
            "linecolor": "white",
            "ticks": ""
           }
          },
          "scene": {
           "xaxis": {
            "backgroundcolor": "#E5ECF6",
            "gridcolor": "white",
            "gridwidth": 2,
            "linecolor": "white",
            "showbackground": true,
            "ticks": "",
            "zerolinecolor": "white"
           },
           "yaxis": {
            "backgroundcolor": "#E5ECF6",
            "gridcolor": "white",
            "gridwidth": 2,
            "linecolor": "white",
            "showbackground": true,
            "ticks": "",
            "zerolinecolor": "white"
           },
           "zaxis": {
            "backgroundcolor": "#E5ECF6",
            "gridcolor": "white",
            "gridwidth": 2,
            "linecolor": "white",
            "showbackground": true,
            "ticks": "",
            "zerolinecolor": "white"
           }
          },
          "shapedefaults": {
           "line": {
            "color": "#2a3f5f"
           }
          },
          "ternary": {
           "aaxis": {
            "gridcolor": "white",
            "linecolor": "white",
            "ticks": ""
           },
           "baxis": {
            "gridcolor": "white",
            "linecolor": "white",
            "ticks": ""
           },
           "bgcolor": "#E5ECF6",
           "caxis": {
            "gridcolor": "white",
            "linecolor": "white",
            "ticks": ""
           }
          },
          "title": {
           "x": 0.05
          },
          "xaxis": {
           "automargin": true,
           "gridcolor": "white",
           "linecolor": "white",
           "ticks": "",
           "title": {
            "standoff": 15
           },
           "zerolinecolor": "white",
           "zerolinewidth": 2
          },
          "yaxis": {
           "automargin": true,
           "gridcolor": "white",
           "linecolor": "white",
           "ticks": "",
           "title": {
            "standoff": 15
           },
           "zerolinecolor": "white",
           "zerolinewidth": 2
          }
         }
        },
        "xaxis": {
         "anchor": "y",
         "domain": [
          0,
          1
         ],
         "type": "date"
        },
        "yaxis": {
         "anchor": "x",
         "autorange": "reversed",
         "domain": [
          0,
          1
         ],
         "title": {
          "text": "type"
         }
        }
       }
      },
      "text/html": [
       "<div>\n",
       "        \n",
       "        \n",
       "            <div id=\"4fc5f3e4-c06f-4aa1-9e9f-db7e2a358290\" class=\"plotly-graph-div\" style=\"height:525px; width:100%;\"></div>\n",
       "            <script type=\"text/javascript\">\n",
       "                require([\"plotly\"], function(Plotly) {\n",
       "                    window.PLOTLYENV=window.PLOTLYENV || {};\n",
       "                    \n",
       "                if (document.getElementById(\"4fc5f3e4-c06f-4aa1-9e9f-db7e2a358290\")) {\n",
       "                    Plotly.newPlot(\n",
       "                        '4fc5f3e4-c06f-4aa1-9e9f-db7e2a358290',\n",
       "                        [{\"alignmentgroup\": \"True\", \"base\": [\"2019-09-18T13:25:12.216959\", \"2019-09-18T13:25:12.225048\", \"2020-05-26T15:43:53.322659\", \"2020-06-04T16:24:33.199688\", \"2020-06-18T20:32:41.683567\"], \"hovertemplate\": \"assigned_to_type=Organization<br>created_at=%{base}<br>updated_at=%{x}<br>type=%{y}<extra></extra>\", \"legendgroup\": \"Organization\", \"marker\": {\"color\": \"#636efa\"}, \"name\": \"Organization\", \"offsetgroup\": \"Organization\", \"orientation\": \"h\", \"showlegend\": true, \"textposition\": \"auto\", \"type\": \"bar\", \"x\": [16928714052.0, 16928476713.0, 4658473.0, 412255315.0, 496909754.0], \"xaxis\": \"x\", \"y\": [\"DistributionTask\", \"InformalHearingPresentationTask\", \"NewRepArgumentsColocatedTask\", \"QualityReviewTask\", \"OtherColocatedTask\"], \"yaxis\": \"y\"}, {\"alignmentgroup\": \"True\", \"base\": [\"2020-01-20T16:32:10.376452\", \"2020-03-30T18:16:25.938178\", \"2020-04-01T11:50:26.258360\", \"2020-04-10T18:24:37.079392\", \"2020-04-14T17:18:11.863861\", \"2020-04-14T17:18:11.983759\", \"2020-04-28T20:31:47.202939\", \"2020-05-26T15:43:53.366353\", \"2020-06-09T10:55:28.500488\", \"2020-06-18T18:24:26.192867\", \"2020-06-18T19:08:33.004488\", \"2020-06-18T20:32:41.743112\", \"2020-06-22T15:57:05.591825\"], \"hovertemplate\": \"assigned_to_type=User<br>created_at=%{base}<br>updated_at=%{x}<br>type=%{y}<extra></extra>\", \"legendgroup\": \"User\", \"marker\": {\"color\": \"#EF553B\"}, \"name\": \"User\", \"offsetgroup\": \"User\", \"orientation\": \"h\", \"showlegend\": true, \"textposition\": \"auto\", \"type\": \"bar\", \"x\": [6054255640.0, 149402979.0, 801250834.0, 341614818.0, 4403180939.0, 1216800288.0, 3118716181.0, 4658387.0, 804537709.0, 2646829.0, 506955036.0, 329063862.0, 167845820.0], \"xaxis\": \"x\", \"y\": [\"InformalHearingPresentationTask\", \"InformalHearingPresentationTask\", \"JudgeAssignTask\", \"JudgeAssignTask\", \"JudgeDecisionReviewTask\", \"AttorneyTask\", \"AttorneyRewriteTask\", \"NewRepArgumentsColocatedTask\", \"QualityReviewTask\", \"JudgeQualityReviewTask\", \"AttorneyQualityReviewTask\", \"OtherColocatedTask\", \"OtherColocatedTask\"], \"yaxis\": \"y\"}],\n",
       "                        {\"barmode\": \"overlay\", \"legend\": {\"title\": {\"text\": \"assigned_to_type\"}, \"tracegroupgap\": 0}, \"margin\": {\"t\": 60}, \"template\": {\"data\": {\"bar\": [{\"error_x\": {\"color\": \"#2a3f5f\"}, \"error_y\": {\"color\": \"#2a3f5f\"}, \"marker\": {\"line\": {\"color\": \"#E5ECF6\", \"width\": 0.5}}, \"type\": \"bar\"}], \"barpolar\": [{\"marker\": {\"line\": {\"color\": \"#E5ECF6\", \"width\": 0.5}}, \"type\": \"barpolar\"}], \"carpet\": [{\"aaxis\": {\"endlinecolor\": \"#2a3f5f\", \"gridcolor\": \"white\", \"linecolor\": \"white\", \"minorgridcolor\": \"white\", \"startlinecolor\": \"#2a3f5f\"}, \"baxis\": {\"endlinecolor\": \"#2a3f5f\", \"gridcolor\": \"white\", \"linecolor\": \"white\", \"minorgridcolor\": \"white\", \"startlinecolor\": \"#2a3f5f\"}, \"type\": \"carpet\"}], \"choropleth\": [{\"colorbar\": {\"outlinewidth\": 0, \"ticks\": \"\"}, \"type\": \"choropleth\"}], \"contour\": [{\"colorbar\": {\"outlinewidth\": 0, \"ticks\": \"\"}, \"colorscale\": [[0.0, \"#0d0887\"], [0.1111111111111111, \"#46039f\"], [0.2222222222222222, \"#7201a8\"], [0.3333333333333333, \"#9c179e\"], [0.4444444444444444, \"#bd3786\"], [0.5555555555555556, \"#d8576b\"], [0.6666666666666666, \"#ed7953\"], [0.7777777777777778, \"#fb9f3a\"], [0.8888888888888888, \"#fdca26\"], [1.0, \"#f0f921\"]], \"type\": \"contour\"}], \"contourcarpet\": [{\"colorbar\": {\"outlinewidth\": 0, \"ticks\": \"\"}, \"type\": \"contourcarpet\"}], \"heatmap\": [{\"colorbar\": {\"outlinewidth\": 0, \"ticks\": \"\"}, \"colorscale\": [[0.0, \"#0d0887\"], [0.1111111111111111, \"#46039f\"], [0.2222222222222222, \"#7201a8\"], [0.3333333333333333, \"#9c179e\"], [0.4444444444444444, \"#bd3786\"], [0.5555555555555556, \"#d8576b\"], [0.6666666666666666, \"#ed7953\"], [0.7777777777777778, \"#fb9f3a\"], [0.8888888888888888, \"#fdca26\"], [1.0, \"#f0f921\"]], \"type\": \"heatmap\"}], \"heatmapgl\": [{\"colorbar\": {\"outlinewidth\": 0, \"ticks\": \"\"}, \"colorscale\": [[0.0, \"#0d0887\"], [0.1111111111111111, \"#46039f\"], [0.2222222222222222, \"#7201a8\"], [0.3333333333333333, \"#9c179e\"], [0.4444444444444444, \"#bd3786\"], [0.5555555555555556, \"#d8576b\"], [0.6666666666666666, \"#ed7953\"], [0.7777777777777778, \"#fb9f3a\"], [0.8888888888888888, \"#fdca26\"], [1.0, \"#f0f921\"]], \"type\": \"heatmapgl\"}], \"histogram\": [{\"marker\": {\"colorbar\": {\"outlinewidth\": 0, \"ticks\": \"\"}}, \"type\": \"histogram\"}], \"histogram2d\": [{\"colorbar\": {\"outlinewidth\": 0, \"ticks\": \"\"}, \"colorscale\": [[0.0, \"#0d0887\"], [0.1111111111111111, \"#46039f\"], [0.2222222222222222, \"#7201a8\"], [0.3333333333333333, \"#9c179e\"], [0.4444444444444444, \"#bd3786\"], [0.5555555555555556, \"#d8576b\"], [0.6666666666666666, \"#ed7953\"], [0.7777777777777778, \"#fb9f3a\"], [0.8888888888888888, \"#fdca26\"], [1.0, \"#f0f921\"]], \"type\": \"histogram2d\"}], \"histogram2dcontour\": [{\"colorbar\": {\"outlinewidth\": 0, \"ticks\": \"\"}, \"colorscale\": [[0.0, \"#0d0887\"], [0.1111111111111111, \"#46039f\"], [0.2222222222222222, \"#7201a8\"], [0.3333333333333333, \"#9c179e\"], [0.4444444444444444, \"#bd3786\"], [0.5555555555555556, \"#d8576b\"], [0.6666666666666666, \"#ed7953\"], [0.7777777777777778, \"#fb9f3a\"], [0.8888888888888888, \"#fdca26\"], [1.0, \"#f0f921\"]], \"type\": \"histogram2dcontour\"}], \"mesh3d\": [{\"colorbar\": {\"outlinewidth\": 0, \"ticks\": \"\"}, \"type\": \"mesh3d\"}], \"parcoords\": [{\"line\": {\"colorbar\": {\"outlinewidth\": 0, \"ticks\": \"\"}}, \"type\": \"parcoords\"}], \"pie\": [{\"automargin\": true, \"type\": \"pie\"}], \"scatter\": [{\"marker\": {\"colorbar\": {\"outlinewidth\": 0, \"ticks\": \"\"}}, \"type\": \"scatter\"}], \"scatter3d\": [{\"line\": {\"colorbar\": {\"outlinewidth\": 0, \"ticks\": \"\"}}, \"marker\": {\"colorbar\": {\"outlinewidth\": 0, \"ticks\": \"\"}}, \"type\": \"scatter3d\"}], \"scattercarpet\": [{\"marker\": {\"colorbar\": {\"outlinewidth\": 0, \"ticks\": \"\"}}, \"type\": \"scattercarpet\"}], \"scattergeo\": [{\"marker\": {\"colorbar\": {\"outlinewidth\": 0, \"ticks\": \"\"}}, \"type\": \"scattergeo\"}], \"scattergl\": [{\"marker\": {\"colorbar\": {\"outlinewidth\": 0, \"ticks\": \"\"}}, \"type\": \"scattergl\"}], \"scattermapbox\": [{\"marker\": {\"colorbar\": {\"outlinewidth\": 0, \"ticks\": \"\"}}, \"type\": \"scattermapbox\"}], \"scatterpolar\": [{\"marker\": {\"colorbar\": {\"outlinewidth\": 0, \"ticks\": \"\"}}, \"type\": \"scatterpolar\"}], \"scatterpolargl\": [{\"marker\": {\"colorbar\": {\"outlinewidth\": 0, \"ticks\": \"\"}}, \"type\": \"scatterpolargl\"}], \"scatterternary\": [{\"marker\": {\"colorbar\": {\"outlinewidth\": 0, \"ticks\": \"\"}}, \"type\": \"scatterternary\"}], \"surface\": [{\"colorbar\": {\"outlinewidth\": 0, \"ticks\": \"\"}, \"colorscale\": [[0.0, \"#0d0887\"], [0.1111111111111111, \"#46039f\"], [0.2222222222222222, \"#7201a8\"], [0.3333333333333333, \"#9c179e\"], [0.4444444444444444, \"#bd3786\"], [0.5555555555555556, \"#d8576b\"], [0.6666666666666666, \"#ed7953\"], [0.7777777777777778, \"#fb9f3a\"], [0.8888888888888888, \"#fdca26\"], [1.0, \"#f0f921\"]], \"type\": \"surface\"}], \"table\": [{\"cells\": {\"fill\": {\"color\": \"#EBF0F8\"}, \"line\": {\"color\": \"white\"}}, \"header\": {\"fill\": {\"color\": \"#C8D4E3\"}, \"line\": {\"color\": \"white\"}}, \"type\": \"table\"}]}, \"layout\": {\"annotationdefaults\": {\"arrowcolor\": \"#2a3f5f\", \"arrowhead\": 0, \"arrowwidth\": 1}, \"coloraxis\": {\"colorbar\": {\"outlinewidth\": 0, \"ticks\": \"\"}}, \"colorscale\": {\"diverging\": [[0, \"#8e0152\"], [0.1, \"#c51b7d\"], [0.2, \"#de77ae\"], [0.3, \"#f1b6da\"], [0.4, \"#fde0ef\"], [0.5, \"#f7f7f7\"], [0.6, \"#e6f5d0\"], [0.7, \"#b8e186\"], [0.8, \"#7fbc41\"], [0.9, \"#4d9221\"], [1, \"#276419\"]], \"sequential\": [[0.0, \"#0d0887\"], [0.1111111111111111, \"#46039f\"], [0.2222222222222222, \"#7201a8\"], [0.3333333333333333, \"#9c179e\"], [0.4444444444444444, \"#bd3786\"], [0.5555555555555556, \"#d8576b\"], [0.6666666666666666, \"#ed7953\"], [0.7777777777777778, \"#fb9f3a\"], [0.8888888888888888, \"#fdca26\"], [1.0, \"#f0f921\"]], \"sequentialminus\": [[0.0, \"#0d0887\"], [0.1111111111111111, \"#46039f\"], [0.2222222222222222, \"#7201a8\"], [0.3333333333333333, \"#9c179e\"], [0.4444444444444444, \"#bd3786\"], [0.5555555555555556, \"#d8576b\"], [0.6666666666666666, \"#ed7953\"], [0.7777777777777778, \"#fb9f3a\"], [0.8888888888888888, \"#fdca26\"], [1.0, \"#f0f921\"]]}, \"colorway\": [\"#636efa\", \"#EF553B\", \"#00cc96\", \"#ab63fa\", \"#FFA15A\", \"#19d3f3\", \"#FF6692\", \"#B6E880\", \"#FF97FF\", \"#FECB52\"], \"font\": {\"color\": \"#2a3f5f\"}, \"geo\": {\"bgcolor\": \"white\", \"lakecolor\": \"white\", \"landcolor\": \"#E5ECF6\", \"showlakes\": true, \"showland\": true, \"subunitcolor\": \"white\"}, \"hoverlabel\": {\"align\": \"left\"}, \"hovermode\": \"closest\", \"mapbox\": {\"style\": \"light\"}, \"paper_bgcolor\": \"white\", \"plot_bgcolor\": \"#E5ECF6\", \"polar\": {\"angularaxis\": {\"gridcolor\": \"white\", \"linecolor\": \"white\", \"ticks\": \"\"}, \"bgcolor\": \"#E5ECF6\", \"radialaxis\": {\"gridcolor\": \"white\", \"linecolor\": \"white\", \"ticks\": \"\"}}, \"scene\": {\"xaxis\": {\"backgroundcolor\": \"#E5ECF6\", \"gridcolor\": \"white\", \"gridwidth\": 2, \"linecolor\": \"white\", \"showbackground\": true, \"ticks\": \"\", \"zerolinecolor\": \"white\"}, \"yaxis\": {\"backgroundcolor\": \"#E5ECF6\", \"gridcolor\": \"white\", \"gridwidth\": 2, \"linecolor\": \"white\", \"showbackground\": true, \"ticks\": \"\", \"zerolinecolor\": \"white\"}, \"zaxis\": {\"backgroundcolor\": \"#E5ECF6\", \"gridcolor\": \"white\", \"gridwidth\": 2, \"linecolor\": \"white\", \"showbackground\": true, \"ticks\": \"\", \"zerolinecolor\": \"white\"}}, \"shapedefaults\": {\"line\": {\"color\": \"#2a3f5f\"}}, \"ternary\": {\"aaxis\": {\"gridcolor\": \"white\", \"linecolor\": \"white\", \"ticks\": \"\"}, \"baxis\": {\"gridcolor\": \"white\", \"linecolor\": \"white\", \"ticks\": \"\"}, \"bgcolor\": \"#E5ECF6\", \"caxis\": {\"gridcolor\": \"white\", \"linecolor\": \"white\", \"ticks\": \"\"}}, \"title\": {\"x\": 0.05}, \"xaxis\": {\"automargin\": true, \"gridcolor\": \"white\", \"linecolor\": \"white\", \"ticks\": \"\", \"title\": {\"standoff\": 15}, \"zerolinecolor\": \"white\", \"zerolinewidth\": 2}, \"yaxis\": {\"automargin\": true, \"gridcolor\": \"white\", \"linecolor\": \"white\", \"ticks\": \"\", \"title\": {\"standoff\": 15}, \"zerolinecolor\": \"white\", \"zerolinewidth\": 2}}}, \"xaxis\": {\"anchor\": \"y\", \"domain\": [0.0, 1.0], \"type\": \"date\"}, \"yaxis\": {\"anchor\": \"x\", \"autorange\": \"reversed\", \"domain\": [0.0, 1.0], \"title\": {\"text\": \"type\"}}},\n",
       "                        {\"responsive\": true}\n",
       "                    ).then(function(){\n",
       "                            \n",
       "var gd = document.getElementById('4fc5f3e4-c06f-4aa1-9e9f-db7e2a358290');\n",
       "var x = new MutationObserver(function (mutations, observer) {{\n",
       "        var display = window.getComputedStyle(gd).display;\n",
       "        if (!display || display === 'none') {{\n",
       "            console.log([gd, 'removed!']);\n",
       "            Plotly.purge(gd);\n",
       "            observer.disconnect();\n",
       "        }}\n",
       "}});\n",
       "\n",
       "// Listen for the removal of the full notebook cells\n",
       "var notebookContainer = gd.closest('#notebook-container');\n",
       "if (notebookContainer) {{\n",
       "    x.observe(notebookContainer, {childList: true});\n",
       "}}\n",
       "\n",
       "// Listen for the clearing of the current output cell\n",
       "var outputEl = gd.closest('.output');\n",
       "if (outputEl) {{\n",
       "    x.observe(outputEl, {childList: true});\n",
       "}}\n",
       "\n",
       "                        })\n",
       "                };\n",
       "                });\n",
       "            </script>\n",
       "        </div>"
      ]
     },
     "metadata": {},
     "output_type": "display_data"
    }
   ],
   "source": [
    "fig = px.timeline(filteredDf, x_start=\"created_at\", x_end=\"updated_at\", y=\"type\", color=\"assigned_to_type\")\n",
    "fig.update_yaxes(autorange=\"reversed\") # otherwise tasks are listed from the bottom up\n",
    "fig.show()"
   ]
  },
  {
   "cell_type": "code",
   "execution_count": 52,
   "metadata": {},
   "outputs": [
    {
     "name": "stdout",
     "output_type": "stream",
     "text": [
      "Collecting package metadata (current_repodata.json): done\n",
      "Solving environment: failed with initial frozen solve. Retrying with flexible solve.\n",
      "Solving environment: failed with repodata from current_repodata.json, will retry with next repodata source.\n",
      "Collecting package metadata (repodata.json): done\n",
      "Solving environment: done\n",
      "\n",
      "\n",
      "==> WARNING: A newer version of conda exists. <==\n",
      "  current version: 4.8.2\n",
      "  latest version: 4.8.3\n",
      "\n",
      "Please update conda by running\n",
      "\n",
      "    $ conda update -n base conda\n",
      "\n",
      "\n",
      "\n",
      "## Package Plan ##\n",
      "\n",
      "  environment location: /opt/conda\n",
      "\n",
      "  added / updated specs:\n",
      "    - panel\n",
      "\n",
      "\n",
      "The following packages will be downloaded:\n",
      "\n",
      "    package                    |            build\n",
      "    ---------------------------|-----------------\n",
      "    markdown-3.2.2             |             py_0          61 KB  conda-forge\n",
      "    panel-0.9.5                |             py_1         925 KB  conda-forge\n",
      "    param-1.9.3                |             py_0          60 KB  conda-forge\n",
      "    pyct-0.4.6                 |             py_0           3 KB  conda-forge\n",
      "    pyct-core-0.4.6            |             py_0          13 KB  conda-forge\n",
      "    pyviz_comms-0.7.6          |     pyh9f0ad1d_0          13 KB  conda-forge\n",
      "    ------------------------------------------------------------\n",
      "                                           Total:         1.1 MB\n",
      "\n",
      "The following NEW packages will be INSTALLED:\n",
      "\n",
      "  markdown           conda-forge/noarch::markdown-3.2.2-py_0\n",
      "  panel              conda-forge/noarch::panel-0.9.5-py_1\n",
      "  param              conda-forge/noarch::param-1.9.3-py_0\n",
      "  pyct               conda-forge/noarch::pyct-0.4.6-py_0\n",
      "  pyct-core          conda-forge/noarch::pyct-core-0.4.6-py_0\n",
      "  pyviz_comms        conda-forge/noarch::pyviz_comms-0.7.6-pyh9f0ad1d_0\n",
      "\n",
      "\n",
      "\n",
      "Downloading and Extracting Packages\n",
      "pyct-core-0.4.6      | 13 KB     | ##################################### | 100% \n",
      "param-1.9.3          | 60 KB     | ##################################### | 100% \n",
      "markdown-3.2.2       | 61 KB     | ##################################### | 100% \n",
      "pyct-0.4.6           | 3 KB      | ##################################### | 100% \n",
      "panel-0.9.5          | 925 KB    | ##################################### | 100% \n",
      "pyviz_comms-0.7.6    | 13 KB     | ##################################### | 100% \n",
      "Preparing transaction: done\n",
      "Verifying transaction: done\n",
      "Executing transaction: done\n"
     ]
    }
   ],
   "source": [
    "!conda install --yes panel"
   ]
  },
  {
   "cell_type": "code",
   "execution_count": null,
   "metadata": {},
   "outputs": [],
   "source": [
    "import panel as pn\n",
    "pn.extension('plotly')"
   ]
  },
  {
   "cell_type": "code",
   "execution_count": 65,
   "metadata": {},
   "outputs": [
    {
     "data": {},
     "metadata": {},
     "output_type": "display_data"
    },
    {
     "data": {
      "application/vnd.holoviews_exec.v0+json": "",
      "text/html": [
       "<div id='1846'>\n",
       "\n",
       "\n",
       "\n",
       "\n",
       "\n",
       "  <div class=\"bk-root\" id=\"71af703b-f1e4-4589-98b4-f2e672f21577\" data-root-id=\"1846\"></div>\n",
       "</div>\n",
       "<script type=\"application/javascript\">(function(root) {\n",
       "  function embed_document(root) {\n",
       "  var docs_json = {\"a7839390-89ce-42b3-901b-2b47fda8d9e3\":{\"roots\":{\"references\":[{\"attributes\":{\"children\":[{\"id\":\"1847\"},{\"id\":\"1851\"}],\"margin\":[0,0,0,0],\"name\":\"Column00105\"},\"id\":\"1846\",\"type\":\"Column\"},{\"attributes\":{},\"id\":\"1856\",\"type\":\"UnionRenderers\"},{\"attributes\":{\"children\":[{\"id\":\"1854\"}],\"margin\":[0,0,0,0],\"name\":\"Row00111\"},\"id\":\"1851\",\"type\":\"Row\"},{\"attributes\":{\"margin\":[5,10,5,10],\"options\":[\"appeal_id\",\"appeal_type\",\"assigned_at\",\"assigned_by_id\",\"assigned_to_id\",\"assigned_to_type\",\"closed_at\",\"created_at\",\"instructions\",\"parent_id\",\"placed_on_hold_at\",\"started_at\",\"status\",\"type\",\"updated_at\"],\"title\":\"yaxis\",\"value\":\"type\"},\"id\":\"1849\",\"type\":\"Select\"},{\"attributes\":{\"children\":[{\"id\":\"1848\"},{\"id\":\"1849\"},{\"id\":\"1850\"}],\"margin\":[0,0,0,0],\"name\":\"Column00112\"},\"id\":\"1847\",\"type\":\"Column\"},{\"attributes\":{\"client_comm_id\":\"86d8c2b5e9dc46adbfc36f7121d3932b\",\"comm_id\":\"50ec3682ced444a990b0e9fc31662eca\",\"plot_id\":\"1846\"},\"id\":\"1867\",\"type\":\"panel.models.comm_manager.CommManager\"},{\"attributes\":{\"data\":{\"base\":[[\"2020-01-20 16:32:10.376452\",\"2020-03-30 18:16:25.938178\",\"2020-04-01 11:50:26.258360\",\"2020-04-10 18:24:37.079392\",\"2020-04-14 17:18:11.863861\",\"2020-04-14 17:18:11.983759\",\"2020-04-28 20:31:47.202939\",\"2020-05-26 15:43:53.366353\",\"2020-06-09 10:55:28.500488\",\"2020-06-18 18:24:26.192867\",\"2020-06-18 19:08:33.004488\",\"2020-06-18 20:32:41.743112\",\"2020-06-22 15:57:05.591825\"]],\"x\":[{\"__ndarray__\":\"AACAwcmN9kEAAADGas+hQQAAAAkP4cdBAAAA4qBctEEAALBYM2fwQQAAAIi5IdJBAACgono850EAAADANMVRQQAAgLYi+sdBAAAAgJYxREEAAAAchTe+QQAAALYdnbNBAAAAeD8CpEE=\",\"dtype\":\"float64\",\"shape\":[13]}],\"y\":[[\"InformalHearingPresentationTask\",\"InformalHearingPresentationTask\",\"JudgeAssignTask\",\"JudgeAssignTask\",\"JudgeDecisionReviewTask\",\"AttorneyTask\",\"AttorneyRewriteTask\",\"NewRepArgumentsColocatedTask\",\"QualityReviewTask\",\"JudgeQualityReviewTask\",\"AttorneyQualityReviewTask\",\"OtherColocatedTask\",\"OtherColocatedTask\"]]},\"selected\":{\"id\":\"1857\"},\"selection_policy\":{\"id\":\"1858\"}},\"id\":\"1853\",\"type\":\"ColumnDataSource\"},{\"attributes\":{\"data\":{\"base\":[[\"2019-09-18 13:25:12.216959\",\"2019-09-18 13:25:12.225048\",\"2020-05-26 15:43:53.322659\",\"2020-06-04 16:24:33.199688\",\"2020-06-18 20:32:41.683567\"]],\"x\":[{\"__ndarray__\":\"AAAgaj2ID0IAAEhxIIgPQgAAAEBKxVFBAAAAU4SSuEEAAAC6PZ69QQ==\",\"dtype\":\"float64\",\"shape\":[5]}],\"y\":[[\"DistributionTask\",\"InformalHearingPresentationTask\",\"NewRepArgumentsColocatedTask\",\"QualityReviewTask\",\"OtherColocatedTask\"]]},\"selected\":{\"id\":\"1855\"},\"selection_policy\":{\"id\":\"1856\"}},\"id\":\"1852\",\"type\":\"ColumnDataSource\"},{\"attributes\":{\"margin\":[5,10,5,10],\"options\":[\"appeal_id\",\"appeal_type\",\"assigned_at\",\"assigned_by_id\",\"assigned_to_id\",\"assigned_to_type\",\"closed_at\",\"created_at\",\"instructions\",\"parent_id\",\"placed_on_hold_at\",\"started_at\",\"status\",\"type\",\"updated_at\"],\"title\":\"legend\",\"value\":\"assigned_to_type\"},\"id\":\"1850\",\"type\":\"Select\"},{\"attributes\":{\"_render_count\":0,\"config\":null,\"data\":[{\"alignmentgroup\":\"True\",\"hovertemplate\":\"assigned_to_type=Organization<br>created_at=%{base}<br>updated_at=%{x}<br>type=%{y}<extra></extra>\",\"legendgroup\":\"Organization\",\"marker\":{\"color\":\"#636efa\"},\"name\":\"Organization\",\"offsetgroup\":\"Organization\",\"orientation\":\"h\",\"showlegend\":true,\"textposition\":\"auto\",\"type\":\"bar\",\"xaxis\":\"x\",\"yaxis\":\"y\"},{\"alignmentgroup\":\"True\",\"hovertemplate\":\"assigned_to_type=User<br>created_at=%{base}<br>updated_at=%{x}<br>type=%{y}<extra></extra>\",\"legendgroup\":\"User\",\"marker\":{\"color\":\"#EF553B\"},\"name\":\"User\",\"offsetgroup\":\"User\",\"orientation\":\"h\",\"showlegend\":true,\"textposition\":\"auto\",\"type\":\"bar\",\"xaxis\":\"x\",\"yaxis\":\"y\"}],\"data_sources\":[{\"id\":\"1852\"},{\"id\":\"1853\"}],\"layout\":{\"barmode\":\"overlay\",\"legend\":{\"title\":{\"text\":\"assigned_to_type\"},\"tracegroupgap\":0},\"margin\":{\"t\":60},\"template\":{\"data\":{\"bar\":[{\"error_x\":{\"color\":\"#2a3f5f\"},\"error_y\":{\"color\":\"#2a3f5f\"},\"marker\":{\"line\":{\"color\":\"#E5ECF6\",\"width\":0.5}},\"type\":\"bar\"}],\"barpolar\":[{\"marker\":{\"line\":{\"color\":\"#E5ECF6\",\"width\":0.5}},\"type\":\"barpolar\"}],\"carpet\":[{\"aaxis\":{\"endlinecolor\":\"#2a3f5f\",\"gridcolor\":\"white\",\"linecolor\":\"white\",\"minorgridcolor\":\"white\",\"startlinecolor\":\"#2a3f5f\"},\"baxis\":{\"endlinecolor\":\"#2a3f5f\",\"gridcolor\":\"white\",\"linecolor\":\"white\",\"minorgridcolor\":\"white\",\"startlinecolor\":\"#2a3f5f\"},\"type\":\"carpet\"}],\"choropleth\":[{\"colorbar\":{\"outlinewidth\":0,\"ticks\":\"\"},\"type\":\"choropleth\"}],\"contour\":[{\"colorbar\":{\"outlinewidth\":0,\"ticks\":\"\"},\"colorscale\":[[0.0,\"#0d0887\"],[0.1111111111111111,\"#46039f\"],[0.2222222222222222,\"#7201a8\"],[0.3333333333333333,\"#9c179e\"],[0.4444444444444444,\"#bd3786\"],[0.5555555555555556,\"#d8576b\"],[0.6666666666666666,\"#ed7953\"],[0.7777777777777778,\"#fb9f3a\"],[0.8888888888888888,\"#fdca26\"],[1.0,\"#f0f921\"]],\"type\":\"contour\"}],\"contourcarpet\":[{\"colorbar\":{\"outlinewidth\":0,\"ticks\":\"\"},\"type\":\"contourcarpet\"}],\"heatmap\":[{\"colorbar\":{\"outlinewidth\":0,\"ticks\":\"\"},\"colorscale\":[[0.0,\"#0d0887\"],[0.1111111111111111,\"#46039f\"],[0.2222222222222222,\"#7201a8\"],[0.3333333333333333,\"#9c179e\"],[0.4444444444444444,\"#bd3786\"],[0.5555555555555556,\"#d8576b\"],[0.6666666666666666,\"#ed7953\"],[0.7777777777777778,\"#fb9f3a\"],[0.8888888888888888,\"#fdca26\"],[1.0,\"#f0f921\"]],\"type\":\"heatmap\"}],\"heatmapgl\":[{\"colorbar\":{\"outlinewidth\":0,\"ticks\":\"\"},\"colorscale\":[[0.0,\"#0d0887\"],[0.1111111111111111,\"#46039f\"],[0.2222222222222222,\"#7201a8\"],[0.3333333333333333,\"#9c179e\"],[0.4444444444444444,\"#bd3786\"],[0.5555555555555556,\"#d8576b\"],[0.6666666666666666,\"#ed7953\"],[0.7777777777777778,\"#fb9f3a\"],[0.8888888888888888,\"#fdca26\"],[1.0,\"#f0f921\"]],\"type\":\"heatmapgl\"}],\"histogram\":[{\"marker\":{\"colorbar\":{\"outlinewidth\":0,\"ticks\":\"\"}},\"type\":\"histogram\"}],\"histogram2d\":[{\"colorbar\":{\"outlinewidth\":0,\"ticks\":\"\"},\"colorscale\":[[0.0,\"#0d0887\"],[0.1111111111111111,\"#46039f\"],[0.2222222222222222,\"#7201a8\"],[0.3333333333333333,\"#9c179e\"],[0.4444444444444444,\"#bd3786\"],[0.5555555555555556,\"#d8576b\"],[0.6666666666666666,\"#ed7953\"],[0.7777777777777778,\"#fb9f3a\"],[0.8888888888888888,\"#fdca26\"],[1.0,\"#f0f921\"]],\"type\":\"histogram2d\"}],\"histogram2dcontour\":[{\"colorbar\":{\"outlinewidth\":0,\"ticks\":\"\"},\"colorscale\":[[0.0,\"#0d0887\"],[0.1111111111111111,\"#46039f\"],[0.2222222222222222,\"#7201a8\"],[0.3333333333333333,\"#9c179e\"],[0.4444444444444444,\"#bd3786\"],[0.5555555555555556,\"#d8576b\"],[0.6666666666666666,\"#ed7953\"],[0.7777777777777778,\"#fb9f3a\"],[0.8888888888888888,\"#fdca26\"],[1.0,\"#f0f921\"]],\"type\":\"histogram2dcontour\"}],\"mesh3d\":[{\"colorbar\":{\"outlinewidth\":0,\"ticks\":\"\"},\"type\":\"mesh3d\"}],\"parcoords\":[{\"line\":{\"colorbar\":{\"outlinewidth\":0,\"ticks\":\"\"}},\"type\":\"parcoords\"}],\"pie\":[{\"automargin\":true,\"type\":\"pie\"}],\"scatter\":[{\"marker\":{\"colorbar\":{\"outlinewidth\":0,\"ticks\":\"\"}},\"type\":\"scatter\"}],\"scatter3d\":[{\"line\":{\"colorbar\":{\"outlinewidth\":0,\"ticks\":\"\"}},\"marker\":{\"colorbar\":{\"outlinewidth\":0,\"ticks\":\"\"}},\"type\":\"scatter3d\"}],\"scattercarpet\":[{\"marker\":{\"colorbar\":{\"outlinewidth\":0,\"ticks\":\"\"}},\"type\":\"scattercarpet\"}],\"scattergeo\":[{\"marker\":{\"colorbar\":{\"outlinewidth\":0,\"ticks\":\"\"}},\"type\":\"scattergeo\"}],\"scattergl\":[{\"marker\":{\"colorbar\":{\"outlinewidth\":0,\"ticks\":\"\"}},\"type\":\"scattergl\"}],\"scattermapbox\":[{\"marker\":{\"colorbar\":{\"outlinewidth\":0,\"ticks\":\"\"}},\"type\":\"scattermapbox\"}],\"scatterpolar\":[{\"marker\":{\"colorbar\":{\"outlinewidth\":0,\"ticks\":\"\"}},\"type\":\"scatterpolar\"}],\"scatterpolargl\":[{\"marker\":{\"colorbar\":{\"outlinewidth\":0,\"ticks\":\"\"}},\"type\":\"scatterpolargl\"}],\"scatterternary\":[{\"marker\":{\"colorbar\":{\"outlinewidth\":0,\"ticks\":\"\"}},\"type\":\"scatterternary\"}],\"surface\":[{\"colorbar\":{\"outlinewidth\":0,\"ticks\":\"\"},\"colorscale\":[[0.0,\"#0d0887\"],[0.1111111111111111,\"#46039f\"],[0.2222222222222222,\"#7201a8\"],[0.3333333333333333,\"#9c179e\"],[0.4444444444444444,\"#bd3786\"],[0.5555555555555556,\"#d8576b\"],[0.6666666666666666,\"#ed7953\"],[0.7777777777777778,\"#fb9f3a\"],[0.8888888888888888,\"#fdca26\"],[1.0,\"#f0f921\"]],\"type\":\"surface\"}],\"table\":[{\"cells\":{\"fill\":{\"color\":\"#EBF0F8\"},\"line\":{\"color\":\"white\"}},\"header\":{\"fill\":{\"color\":\"#C8D4E3\"},\"line\":{\"color\":\"white\"}},\"type\":\"table\"}]},\"layout\":{\"annotationdefaults\":{\"arrowcolor\":\"#2a3f5f\",\"arrowhead\":0,\"arrowwidth\":1},\"coloraxis\":{\"colorbar\":{\"outlinewidth\":0,\"ticks\":\"\"}},\"colorscale\":{\"diverging\":[[0,\"#8e0152\"],[0.1,\"#c51b7d\"],[0.2,\"#de77ae\"],[0.3,\"#f1b6da\"],[0.4,\"#fde0ef\"],[0.5,\"#f7f7f7\"],[0.6,\"#e6f5d0\"],[0.7,\"#b8e186\"],[0.8,\"#7fbc41\"],[0.9,\"#4d9221\"],[1,\"#276419\"]],\"sequential\":[[0.0,\"#0d0887\"],[0.1111111111111111,\"#46039f\"],[0.2222222222222222,\"#7201a8\"],[0.3333333333333333,\"#9c179e\"],[0.4444444444444444,\"#bd3786\"],[0.5555555555555556,\"#d8576b\"],[0.6666666666666666,\"#ed7953\"],[0.7777777777777778,\"#fb9f3a\"],[0.8888888888888888,\"#fdca26\"],[1.0,\"#f0f921\"]],\"sequentialminus\":[[0.0,\"#0d0887\"],[0.1111111111111111,\"#46039f\"],[0.2222222222222222,\"#7201a8\"],[0.3333333333333333,\"#9c179e\"],[0.4444444444444444,\"#bd3786\"],[0.5555555555555556,\"#d8576b\"],[0.6666666666666666,\"#ed7953\"],[0.7777777777777778,\"#fb9f3a\"],[0.8888888888888888,\"#fdca26\"],[1.0,\"#f0f921\"]]},\"colorway\":[\"#636efa\",\"#EF553B\",\"#00cc96\",\"#ab63fa\",\"#FFA15A\",\"#19d3f3\",\"#FF6692\",\"#B6E880\",\"#FF97FF\",\"#FECB52\"],\"font\":{\"color\":\"#2a3f5f\"},\"geo\":{\"bgcolor\":\"white\",\"lakecolor\":\"white\",\"landcolor\":\"#E5ECF6\",\"showlakes\":true,\"showland\":true,\"subunitcolor\":\"white\"},\"hoverlabel\":{\"align\":\"left\"},\"hovermode\":\"closest\",\"mapbox\":{\"style\":\"light\"},\"paper_bgcolor\":\"white\",\"plot_bgcolor\":\"#E5ECF6\",\"polar\":{\"angularaxis\":{\"gridcolor\":\"white\",\"linecolor\":\"white\",\"ticks\":\"\"},\"bgcolor\":\"#E5ECF6\",\"radialaxis\":{\"gridcolor\":\"white\",\"linecolor\":\"white\",\"ticks\":\"\"}},\"scene\":{\"xaxis\":{\"backgroundcolor\":\"#E5ECF6\",\"gridcolor\":\"white\",\"gridwidth\":2,\"linecolor\":\"white\",\"showbackground\":true,\"ticks\":\"\",\"zerolinecolor\":\"white\"},\"yaxis\":{\"backgroundcolor\":\"#E5ECF6\",\"gridcolor\":\"white\",\"gridwidth\":2,\"linecolor\":\"white\",\"showbackground\":true,\"ticks\":\"\",\"zerolinecolor\":\"white\"},\"zaxis\":{\"backgroundcolor\":\"#E5ECF6\",\"gridcolor\":\"white\",\"gridwidth\":2,\"linecolor\":\"white\",\"showbackground\":true,\"ticks\":\"\",\"zerolinecolor\":\"white\"}},\"shapedefaults\":{\"line\":{\"color\":\"#2a3f5f\"}},\"ternary\":{\"aaxis\":{\"gridcolor\":\"white\",\"linecolor\":\"white\",\"ticks\":\"\"},\"baxis\":{\"gridcolor\":\"white\",\"linecolor\":\"white\",\"ticks\":\"\"},\"bgcolor\":\"#E5ECF6\",\"caxis\":{\"gridcolor\":\"white\",\"linecolor\":\"white\",\"ticks\":\"\"}},\"title\":{\"x\":0.05},\"xaxis\":{\"automargin\":true,\"gridcolor\":\"white\",\"linecolor\":\"white\",\"ticks\":\"\",\"title\":{\"standoff\":15},\"zerolinecolor\":\"white\",\"zerolinewidth\":2},\"yaxis\":{\"automargin\":true,\"gridcolor\":\"white\",\"linecolor\":\"white\",\"ticks\":\"\",\"title\":{\"standoff\":15},\"zerolinecolor\":\"white\",\"zerolinewidth\":2}}},\"xaxis\":{\"anchor\":\"y\",\"domain\":[0.0,1.0],\"type\":\"date\"},\"yaxis\":{\"anchor\":\"x\",\"autorange\":\"reversed\",\"domain\":[0.0,1.0],\"title\":{\"text\":\"type\"}}},\"margin\":[5,5,5,5],\"name\":\"interactive00104\",\"viewport_update_throttle\":200},\"id\":\"1854\",\"type\":\"panel.models.plotly.PlotlyPlot\"},{\"attributes\":{\"active\":[0],\"labels\":[\"filtered\"],\"margin\":[5,10,5,10]},\"id\":\"1848\",\"type\":\"CheckboxGroup\"},{\"attributes\":{},\"id\":\"1855\",\"type\":\"Selection\"},{\"attributes\":{},\"id\":\"1858\",\"type\":\"UnionRenderers\"},{\"attributes\":{},\"id\":\"1857\",\"type\":\"Selection\"}],\"root_ids\":[\"1846\",\"1867\"]},\"title\":\"Bokeh Application\",\"version\":\"2.0.1\"}};\n",
       "  var render_items = [{\"docid\":\"a7839390-89ce-42b3-901b-2b47fda8d9e3\",\"root_ids\":[\"1846\"],\"roots\":{\"1846\":\"71af703b-f1e4-4589-98b4-f2e672f21577\"}}];\n",
       "  root.Bokeh.embed.embed_items_notebook(docs_json, render_items);\n",
       "  }\n",
       "if (root.Bokeh !== undefined) {\n",
       "    embed_document(root);\n",
       "  } else {\n",
       "    var attempts = 0;\n",
       "    var timer = setInterval(function(root) {\n",
       "      if (root.Bokeh !== undefined) {\n",
       "        clearInterval(timer);\n",
       "        embed_document(root);\n",
       "      } else if (document.readyState == \"complete\") {\n",
       "        attempts++;\n",
       "        if (attempts > 100) {\n",
       "          clearInterval(timer);\n",
       "          console.log(\"Bokeh: ERROR: Unable to run BokehJS code because BokehJS library is missing\");\n",
       "        }\n",
       "      }\n",
       "    }, 10, root)\n",
       "  }\n",
       "})(window);</script>"
      ],
      "text/plain": [
       "Column\n",
       "    [0] Column\n",
       "        [0] Checkbox(name='filtered', value=True)\n",
       "        [1] Select(name='yaxis', options=['appeal_id', ...], value='type')\n",
       "        [2] Select(name='legend', options=['appeal_id', ...], value='assigned_to_type')\n",
       "    [1] Row\n",
       "        [0] Plotly(Figure, name='interactive00104')"
      ]
     },
     "execution_count": 65,
     "metadata": {
      "application/vnd.holoviews_exec.v0+json": {
       "id": "1846"
      }
     },
     "output_type": "execute_result"
    }
   ],
   "source": [
    "def tasks_gantt(filtered=True, yaxis=\"type\", legend=\"assigned_to_type\"):\n",
    "    df = filteredDf if filtered else sortedTasksDf\n",
    "    fig = px.timeline(df, x_start=\"created_at\", x_end=\"updated_at\", y=yaxis, color=legend)\n",
    "    fig.update_yaxes(autorange=\"reversed\") # otherwise tasks are listed from the bottom up\n",
    "    return fig\n",
    "\n",
    "kw = dict(yaxis=sorted(list(filteredDf.columns)), legend=sorted(list(filteredDf.columns)))\n",
    "gantt = pn.interact(tasks_gantt, **kw)\n",
    "gantt"
   ]
  },
  {
   "cell_type": "code",
   "execution_count": 68,
   "metadata": {},
   "outputs": [],
   "source": [
    "gantt.servable();"
   ]
  },
  {
   "cell_type": "code",
   "execution_count": null,
   "metadata": {},
   "outputs": [],
   "source": []
  },
  {
   "cell_type": "code",
   "execution_count": 12,
   "metadata": {},
   "outputs": [],
   "source": [
    "df = pd.read_sql_query(\"select * from appeals limit 4\",con=engine)"
   ]
  },
  {
   "cell_type": "code",
   "execution_count": 13,
   "metadata": {},
   "outputs": [
    {
     "data": {
      "text/html": [
       "<div>\n",
       "<style scoped>\n",
       "    .dataframe tbody tr th:only-of-type {\n",
       "        vertical-align: middle;\n",
       "    }\n",
       "\n",
       "    .dataframe tbody tr th {\n",
       "        vertical-align: top;\n",
       "    }\n",
       "\n",
       "    .dataframe thead th {\n",
       "        text-align: right;\n",
       "    }\n",
       "</style>\n",
       "<table border=\"1\" class=\"dataframe\">\n",
       "  <thead>\n",
       "    <tr style=\"text-align: right;\">\n",
       "      <th></th>\n",
       "      <th>id</th>\n",
       "      <th>veteran_file_number</th>\n",
       "      <th>receipt_date</th>\n",
       "      <th>docket_type</th>\n",
       "      <th>established_at</th>\n",
       "      <th>uuid</th>\n",
       "      <th>legacy_opt_in_approved</th>\n",
       "      <th>veteran_is_not_claimant</th>\n",
       "      <th>establishment_submitted_at</th>\n",
       "      <th>establishment_processed_at</th>\n",
       "      <th>...</th>\n",
       "      <th>target_decision_date</th>\n",
       "      <th>closest_regional_office</th>\n",
       "      <th>establishment_canceled_at</th>\n",
       "      <th>docket_range_date</th>\n",
       "      <th>poa_participant_id</th>\n",
       "      <th>created_at</th>\n",
       "      <th>updated_at</th>\n",
       "      <th>stream_docket_number</th>\n",
       "      <th>stream_type</th>\n",
       "      <th>aod_based_on_age</th>\n",
       "    </tr>\n",
       "  </thead>\n",
       "  <tbody>\n",
       "    <tr>\n",
       "      <th>0</th>\n",
       "      <td>30161</td>\n",
       "      <td>316662418</td>\n",
       "      <td>2019-08-26</td>\n",
       "      <td>direct_review</td>\n",
       "      <td>2019-09-18 13:25:11.734061</td>\n",
       "      <td>98e18b45-cacc-4765-aa01-72d54f6d7469</td>\n",
       "      <td>False</td>\n",
       "      <td>False</td>\n",
       "      <td>2019-09-18 13:25:13.521351</td>\n",
       "      <td>2019-09-18 13:25:13.641030</td>\n",
       "      <td>...</td>\n",
       "      <td>2020-08-25</td>\n",
       "      <td>None</td>\n",
       "      <td>None</td>\n",
       "      <td>None</td>\n",
       "      <td>None</td>\n",
       "      <td>2019-09-18 13:25:11.734061</td>\n",
       "      <td>2020-07-29 15:18:11.430125</td>\n",
       "      <td>190826-30161</td>\n",
       "      <td>original</td>\n",
       "      <td>False</td>\n",
       "    </tr>\n",
       "    <tr>\n",
       "      <th>1</th>\n",
       "      <td>47798</td>\n",
       "      <td>414371458</td>\n",
       "      <td>2019-11-06</td>\n",
       "      <td>hearing</td>\n",
       "      <td>2019-12-12 16:05:52.002593</td>\n",
       "      <td>70ff6697-62ba-44f3-b5af-92e787660837</td>\n",
       "      <td>False</td>\n",
       "      <td>False</td>\n",
       "      <td>2019-12-12 16:05:53.841286</td>\n",
       "      <td>2019-12-12 16:05:53.938945</td>\n",
       "      <td>...</td>\n",
       "      <td>None</td>\n",
       "      <td>RO18</td>\n",
       "      <td>None</td>\n",
       "      <td>None</td>\n",
       "      <td>None</td>\n",
       "      <td>2019-12-12 16:02:28.554780</td>\n",
       "      <td>2020-07-29 16:26:19.218981</td>\n",
       "      <td>191106-47798</td>\n",
       "      <td>original</td>\n",
       "      <td>False</td>\n",
       "    </tr>\n",
       "    <tr>\n",
       "      <th>2</th>\n",
       "      <td>47821</td>\n",
       "      <td>548719439</td>\n",
       "      <td>2019-11-06</td>\n",
       "      <td>hearing</td>\n",
       "      <td>2019-12-12 16:45:14.530289</td>\n",
       "      <td>748c7fc4-fe39-48de-a0e6-8af3ecdb1b57</td>\n",
       "      <td>False</td>\n",
       "      <td>False</td>\n",
       "      <td>2019-12-12 16:45:16.022356</td>\n",
       "      <td>2019-12-12 16:45:16.192119</td>\n",
       "      <td>...</td>\n",
       "      <td>None</td>\n",
       "      <td>RO48</td>\n",
       "      <td>None</td>\n",
       "      <td>None</td>\n",
       "      <td>None</td>\n",
       "      <td>2019-12-12 16:43:41.206917</td>\n",
       "      <td>2020-02-08 00:21:35.330782</td>\n",
       "      <td>191106-47821</td>\n",
       "      <td>original</td>\n",
       "      <td>None</td>\n",
       "    </tr>\n",
       "    <tr>\n",
       "      <th>3</th>\n",
       "      <td>27731</td>\n",
       "      <td>29176850</td>\n",
       "      <td>2019-08-22</td>\n",
       "      <td>direct_review</td>\n",
       "      <td>2019-09-11 17:32:02.534595</td>\n",
       "      <td>27d19ea1-0edb-4aae-b32d-6f1864bf14e7</td>\n",
       "      <td>False</td>\n",
       "      <td>False</td>\n",
       "      <td>2019-09-11 17:32:04.053457</td>\n",
       "      <td>2019-09-11 17:32:04.201995</td>\n",
       "      <td>...</td>\n",
       "      <td>2020-08-21</td>\n",
       "      <td>None</td>\n",
       "      <td>None</td>\n",
       "      <td>None</td>\n",
       "      <td>2452350</td>\n",
       "      <td>2019-09-11 17:32:02.534595</td>\n",
       "      <td>2020-03-16 14:55:27.209728</td>\n",
       "      <td>190822-27731</td>\n",
       "      <td>original</td>\n",
       "      <td>None</td>\n",
       "    </tr>\n",
       "  </tbody>\n",
       "</table>\n",
       "<p>4 rows × 23 columns</p>\n",
       "</div>"
      ],
      "text/plain": [
       "      id veteran_file_number receipt_date    docket_type  \\\n",
       "0  30161           316662418   2019-08-26  direct_review   \n",
       "1  47798           414371458   2019-11-06        hearing   \n",
       "2  47821           548719439   2019-11-06        hearing   \n",
       "3  27731            29176850   2019-08-22  direct_review   \n",
       "\n",
       "              established_at                                  uuid  \\\n",
       "0 2019-09-18 13:25:11.734061  98e18b45-cacc-4765-aa01-72d54f6d7469   \n",
       "1 2019-12-12 16:05:52.002593  70ff6697-62ba-44f3-b5af-92e787660837   \n",
       "2 2019-12-12 16:45:14.530289  748c7fc4-fe39-48de-a0e6-8af3ecdb1b57   \n",
       "3 2019-09-11 17:32:02.534595  27d19ea1-0edb-4aae-b32d-6f1864bf14e7   \n",
       "\n",
       "   legacy_opt_in_approved  veteran_is_not_claimant establishment_submitted_at  \\\n",
       "0                   False                    False 2019-09-18 13:25:13.521351   \n",
       "1                   False                    False 2019-12-12 16:05:53.841286   \n",
       "2                   False                    False 2019-12-12 16:45:16.022356   \n",
       "3                   False                    False 2019-09-11 17:32:04.053457   \n",
       "\n",
       "  establishment_processed_at  ... target_decision_date  \\\n",
       "0 2019-09-18 13:25:13.641030  ...           2020-08-25   \n",
       "1 2019-12-12 16:05:53.938945  ...                 None   \n",
       "2 2019-12-12 16:45:16.192119  ...                 None   \n",
       "3 2019-09-11 17:32:04.201995  ...           2020-08-21   \n",
       "\n",
       "  closest_regional_office establishment_canceled_at docket_range_date  \\\n",
       "0                    None                      None              None   \n",
       "1                    RO18                      None              None   \n",
       "2                    RO48                      None              None   \n",
       "3                    None                      None              None   \n",
       "\n",
       "  poa_participant_id                 created_at                 updated_at  \\\n",
       "0               None 2019-09-18 13:25:11.734061 2020-07-29 15:18:11.430125   \n",
       "1               None 2019-12-12 16:02:28.554780 2020-07-29 16:26:19.218981   \n",
       "2               None 2019-12-12 16:43:41.206917 2020-02-08 00:21:35.330782   \n",
       "3            2452350 2019-09-11 17:32:02.534595 2020-03-16 14:55:27.209728   \n",
       "\n",
       "  stream_docket_number stream_type aod_based_on_age  \n",
       "0         190826-30161    original            False  \n",
       "1         191106-47798    original            False  \n",
       "2         191106-47821    original             None  \n",
       "3         190822-27731    original             None  \n",
       "\n",
       "[4 rows x 23 columns]"
      ]
     },
     "execution_count": 13,
     "metadata": {},
     "output_type": "execute_result"
    }
   ],
   "source": [
    "df"
   ]
  },
  {
   "cell_type": "code",
   "execution_count": 40,
   "metadata": {},
   "outputs": [
    {
     "name": "stdout",
     "output_type": "stream",
     "text": [
      "(65364,)\n"
     ]
    }
   ],
   "source": [
    "results=engine.execute('select count(*) from appeals')\n",
    "for row in results:\n",
    "    print(row)"
   ]
  },
  {
   "cell_type": "code",
   "execution_count": 38,
   "metadata": {},
   "outputs": [],
   "source": [
    "df = pd.read_sql_query('select count(*) from tasks',con=engine)"
   ]
  },
  {
   "cell_type": "code",
   "execution_count": null,
   "metadata": {},
   "outputs": [],
   "source": [
    "pd.read_sql_query('select * from tasks limit 5',con=engine)"
   ]
  },
  {
   "cell_type": "code",
   "execution_count": null,
   "metadata": {},
   "outputs": [],
   "source": [
    "tasks=pd.read_sql_query('SELECT  \"id\", \"type\", \"parent_id\" FROM \"tasks\" ORDER BY \"id\"',con=engine)"
   ]
  },
  {
   "cell_type": "code",
   "execution_count": 50,
   "metadata": {},
   "outputs": [
    {
     "data": {
      "text/plain": [
       "1013755"
      ]
     },
     "execution_count": 50,
     "metadata": {},
     "output_type": "execute_result"
    }
   ],
   "source": [
    "len(tasks)"
   ]
  },
  {
   "cell_type": "code",
   "execution_count": 51,
   "metadata": {},
   "outputs": [
    {
     "data": {
      "text/html": [
       "<div>\n",
       "<style scoped>\n",
       "    .dataframe tbody tr th:only-of-type {\n",
       "        vertical-align: middle;\n",
       "    }\n",
       "\n",
       "    .dataframe tbody tr th {\n",
       "        vertical-align: top;\n",
       "    }\n",
       "\n",
       "    .dataframe thead th {\n",
       "        text-align: right;\n",
       "    }\n",
       "</style>\n",
       "<table border=\"1\" class=\"dataframe\">\n",
       "  <thead>\n",
       "    <tr style=\"text-align: right;\">\n",
       "      <th></th>\n",
       "      <th>id</th>\n",
       "      <th>type</th>\n",
       "      <th>parent_id</th>\n",
       "    </tr>\n",
       "  </thead>\n",
       "  <tbody>\n",
       "    <tr>\n",
       "      <th>0</th>\n",
       "      <td>1</td>\n",
       "      <td>InformalHearingPresentationTask</td>\n",
       "      <td>1361.0</td>\n",
       "    </tr>\n",
       "    <tr>\n",
       "      <th>1</th>\n",
       "      <td>2</td>\n",
       "      <td>InformalHearingPresentationTask</td>\n",
       "      <td>1362.0</td>\n",
       "    </tr>\n",
       "    <tr>\n",
       "      <th>2</th>\n",
       "      <td>3</td>\n",
       "      <td>InformalHearingPresentationTask</td>\n",
       "      <td>1363.0</td>\n",
       "    </tr>\n",
       "    <tr>\n",
       "      <th>3</th>\n",
       "      <td>4</td>\n",
       "      <td>InformalHearingPresentationTask</td>\n",
       "      <td>1364.0</td>\n",
       "    </tr>\n",
       "    <tr>\n",
       "      <th>4</th>\n",
       "      <td>5</td>\n",
       "      <td>InformalHearingPresentationTask</td>\n",
       "      <td>1365.0</td>\n",
       "    </tr>\n",
       "    <tr>\n",
       "      <th>...</th>\n",
       "      <td>...</td>\n",
       "      <td>...</td>\n",
       "      <td>...</td>\n",
       "    </tr>\n",
       "    <tr>\n",
       "      <th>1013750</th>\n",
       "      <td>1021348</td>\n",
       "      <td>QualityReviewTask</td>\n",
       "      <td>1020406.0</td>\n",
       "    </tr>\n",
       "    <tr>\n",
       "      <th>1013751</th>\n",
       "      <td>1021349</td>\n",
       "      <td>AssignHearingDispositionTask</td>\n",
       "      <td>326450.0</td>\n",
       "    </tr>\n",
       "    <tr>\n",
       "      <th>1013752</th>\n",
       "      <td>1021350</td>\n",
       "      <td>AssignHearingDispositionTask</td>\n",
       "      <td>330137.0</td>\n",
       "    </tr>\n",
       "    <tr>\n",
       "      <th>1013753</th>\n",
       "      <td>1021351</td>\n",
       "      <td>AssignHearingDispositionTask</td>\n",
       "      <td>326027.0</td>\n",
       "    </tr>\n",
       "    <tr>\n",
       "      <th>1013754</th>\n",
       "      <td>1021352</td>\n",
       "      <td>AssignHearingDispositionTask</td>\n",
       "      <td>925016.0</td>\n",
       "    </tr>\n",
       "  </tbody>\n",
       "</table>\n",
       "<p>1013755 rows × 3 columns</p>\n",
       "</div>"
      ],
      "text/plain": [
       "              id                             type  parent_id\n",
       "0              1  InformalHearingPresentationTask     1361.0\n",
       "1              2  InformalHearingPresentationTask     1362.0\n",
       "2              3  InformalHearingPresentationTask     1363.0\n",
       "3              4  InformalHearingPresentationTask     1364.0\n",
       "4              5  InformalHearingPresentationTask     1365.0\n",
       "...          ...                              ...        ...\n",
       "1013750  1021348                QualityReviewTask  1020406.0\n",
       "1013751  1021349     AssignHearingDispositionTask   326450.0\n",
       "1013752  1021350     AssignHearingDispositionTask   330137.0\n",
       "1013753  1021351     AssignHearingDispositionTask   326027.0\n",
       "1013754  1021352     AssignHearingDispositionTask   925016.0\n",
       "\n",
       "[1013755 rows x 3 columns]"
      ]
     },
     "execution_count": 51,
     "metadata": {},
     "output_type": "execute_result"
    }
   ],
   "source": [
    "tasks"
   ]
  },
  {
   "cell_type": "code",
   "execution_count": 57,
   "metadata": {},
   "outputs": [],
   "source": [
    "df=tasks\n",
    "df2 = df.merge(how='left', right=df, left_on='parent_id', right_on='id')"
   ]
  },
  {
   "cell_type": "code",
   "execution_count": 58,
   "metadata": {},
   "outputs": [
    {
     "data": {
      "text/html": [
       "<div>\n",
       "<style scoped>\n",
       "    .dataframe tbody tr th:only-of-type {\n",
       "        vertical-align: middle;\n",
       "    }\n",
       "\n",
       "    .dataframe tbody tr th {\n",
       "        vertical-align: top;\n",
       "    }\n",
       "\n",
       "    .dataframe thead th {\n",
       "        text-align: right;\n",
       "    }\n",
       "</style>\n",
       "<table border=\"1\" class=\"dataframe\">\n",
       "  <thead>\n",
       "    <tr style=\"text-align: right;\">\n",
       "      <th></th>\n",
       "      <th>id_x</th>\n",
       "      <th>type_x</th>\n",
       "      <th>parent_id_x</th>\n",
       "      <th>id_y</th>\n",
       "      <th>type_y</th>\n",
       "      <th>parent_id_y</th>\n",
       "    </tr>\n",
       "  </thead>\n",
       "  <tbody>\n",
       "    <tr>\n",
       "      <th>0</th>\n",
       "      <td>1</td>\n",
       "      <td>InformalHearingPresentationTask</td>\n",
       "      <td>1361.0</td>\n",
       "      <td>1361.0</td>\n",
       "      <td>RootTask</td>\n",
       "      <td>NaN</td>\n",
       "    </tr>\n",
       "    <tr>\n",
       "      <th>1</th>\n",
       "      <td>2</td>\n",
       "      <td>InformalHearingPresentationTask</td>\n",
       "      <td>1362.0</td>\n",
       "      <td>1362.0</td>\n",
       "      <td>RootTask</td>\n",
       "      <td>NaN</td>\n",
       "    </tr>\n",
       "    <tr>\n",
       "      <th>2</th>\n",
       "      <td>3</td>\n",
       "      <td>InformalHearingPresentationTask</td>\n",
       "      <td>1363.0</td>\n",
       "      <td>1363.0</td>\n",
       "      <td>RootTask</td>\n",
       "      <td>NaN</td>\n",
       "    </tr>\n",
       "    <tr>\n",
       "      <th>3</th>\n",
       "      <td>4</td>\n",
       "      <td>InformalHearingPresentationTask</td>\n",
       "      <td>1364.0</td>\n",
       "      <td>1364.0</td>\n",
       "      <td>RootTask</td>\n",
       "      <td>NaN</td>\n",
       "    </tr>\n",
       "    <tr>\n",
       "      <th>4</th>\n",
       "      <td>5</td>\n",
       "      <td>InformalHearingPresentationTask</td>\n",
       "      <td>1365.0</td>\n",
       "      <td>1365.0</td>\n",
       "      <td>RootTask</td>\n",
       "      <td>NaN</td>\n",
       "    </tr>\n",
       "    <tr>\n",
       "      <th>...</th>\n",
       "      <td>...</td>\n",
       "      <td>...</td>\n",
       "      <td>...</td>\n",
       "      <td>...</td>\n",
       "      <td>...</td>\n",
       "      <td>...</td>\n",
       "    </tr>\n",
       "    <tr>\n",
       "      <th>1013750</th>\n",
       "      <td>1021348</td>\n",
       "      <td>QualityReviewTask</td>\n",
       "      <td>1020406.0</td>\n",
       "      <td>1020406.0</td>\n",
       "      <td>QualityReviewTask</td>\n",
       "      <td>987025.0</td>\n",
       "    </tr>\n",
       "    <tr>\n",
       "      <th>1013751</th>\n",
       "      <td>1021349</td>\n",
       "      <td>AssignHearingDispositionTask</td>\n",
       "      <td>326450.0</td>\n",
       "      <td>326450.0</td>\n",
       "      <td>HearingTask</td>\n",
       "      <td>326449.0</td>\n",
       "    </tr>\n",
       "    <tr>\n",
       "      <th>1013752</th>\n",
       "      <td>1021350</td>\n",
       "      <td>AssignHearingDispositionTask</td>\n",
       "      <td>330137.0</td>\n",
       "      <td>330137.0</td>\n",
       "      <td>HearingTask</td>\n",
       "      <td>330136.0</td>\n",
       "    </tr>\n",
       "    <tr>\n",
       "      <th>1013753</th>\n",
       "      <td>1021351</td>\n",
       "      <td>AssignHearingDispositionTask</td>\n",
       "      <td>326027.0</td>\n",
       "      <td>326027.0</td>\n",
       "      <td>HearingTask</td>\n",
       "      <td>326026.0</td>\n",
       "    </tr>\n",
       "    <tr>\n",
       "      <th>1013754</th>\n",
       "      <td>1021352</td>\n",
       "      <td>AssignHearingDispositionTask</td>\n",
       "      <td>925016.0</td>\n",
       "      <td>925016.0</td>\n",
       "      <td>HearingTask</td>\n",
       "      <td>481431.0</td>\n",
       "    </tr>\n",
       "  </tbody>\n",
       "</table>\n",
       "<p>1013755 rows × 6 columns</p>\n",
       "</div>"
      ],
      "text/plain": [
       "            id_x                           type_x  parent_id_x       id_y  \\\n",
       "0              1  InformalHearingPresentationTask       1361.0     1361.0   \n",
       "1              2  InformalHearingPresentationTask       1362.0     1362.0   \n",
       "2              3  InformalHearingPresentationTask       1363.0     1363.0   \n",
       "3              4  InformalHearingPresentationTask       1364.0     1364.0   \n",
       "4              5  InformalHearingPresentationTask       1365.0     1365.0   \n",
       "...          ...                              ...          ...        ...   \n",
       "1013750  1021348                QualityReviewTask    1020406.0  1020406.0   \n",
       "1013751  1021349     AssignHearingDispositionTask     326450.0   326450.0   \n",
       "1013752  1021350     AssignHearingDispositionTask     330137.0   330137.0   \n",
       "1013753  1021351     AssignHearingDispositionTask     326027.0   326027.0   \n",
       "1013754  1021352     AssignHearingDispositionTask     925016.0   925016.0   \n",
       "\n",
       "                    type_y  parent_id_y  \n",
       "0                 RootTask          NaN  \n",
       "1                 RootTask          NaN  \n",
       "2                 RootTask          NaN  \n",
       "3                 RootTask          NaN  \n",
       "4                 RootTask          NaN  \n",
       "...                    ...          ...  \n",
       "1013750  QualityReviewTask     987025.0  \n",
       "1013751        HearingTask     326449.0  \n",
       "1013752        HearingTask     330136.0  \n",
       "1013753        HearingTask     326026.0  \n",
       "1013754        HearingTask     481431.0  \n",
       "\n",
       "[1013755 rows x 6 columns]"
      ]
     },
     "execution_count": 58,
     "metadata": {},
     "output_type": "execute_result"
    }
   ],
   "source": [
    "df2"
   ]
  },
  {
   "cell_type": "code",
   "execution_count": 69,
   "metadata": {},
   "outputs": [],
   "source": [
    "childParent=df2[['id_x', 'type_x', 'type_y']]"
   ]
  },
  {
   "cell_type": "code",
   "execution_count": 70,
   "metadata": {},
   "outputs": [
    {
     "data": {
      "text/html": [
       "<div>\n",
       "<style scoped>\n",
       "    .dataframe tbody tr th:only-of-type {\n",
       "        vertical-align: middle;\n",
       "    }\n",
       "\n",
       "    .dataframe tbody tr th {\n",
       "        vertical-align: top;\n",
       "    }\n",
       "\n",
       "    .dataframe thead th {\n",
       "        text-align: right;\n",
       "    }\n",
       "</style>\n",
       "<table border=\"1\" class=\"dataframe\">\n",
       "  <thead>\n",
       "    <tr style=\"text-align: right;\">\n",
       "      <th></th>\n",
       "      <th>id_x</th>\n",
       "      <th>type_x</th>\n",
       "      <th>type_y</th>\n",
       "    </tr>\n",
       "  </thead>\n",
       "  <tbody>\n",
       "    <tr>\n",
       "      <th>0</th>\n",
       "      <td>1</td>\n",
       "      <td>InformalHearingPresentationTask</td>\n",
       "      <td>RootTask</td>\n",
       "    </tr>\n",
       "    <tr>\n",
       "      <th>1</th>\n",
       "      <td>2</td>\n",
       "      <td>InformalHearingPresentationTask</td>\n",
       "      <td>RootTask</td>\n",
       "    </tr>\n",
       "    <tr>\n",
       "      <th>2</th>\n",
       "      <td>3</td>\n",
       "      <td>InformalHearingPresentationTask</td>\n",
       "      <td>RootTask</td>\n",
       "    </tr>\n",
       "    <tr>\n",
       "      <th>3</th>\n",
       "      <td>4</td>\n",
       "      <td>InformalHearingPresentationTask</td>\n",
       "      <td>RootTask</td>\n",
       "    </tr>\n",
       "    <tr>\n",
       "      <th>4</th>\n",
       "      <td>5</td>\n",
       "      <td>InformalHearingPresentationTask</td>\n",
       "      <td>RootTask</td>\n",
       "    </tr>\n",
       "    <tr>\n",
       "      <th>...</th>\n",
       "      <td>...</td>\n",
       "      <td>...</td>\n",
       "      <td>...</td>\n",
       "    </tr>\n",
       "    <tr>\n",
       "      <th>1013750</th>\n",
       "      <td>1021348</td>\n",
       "      <td>QualityReviewTask</td>\n",
       "      <td>QualityReviewTask</td>\n",
       "    </tr>\n",
       "    <tr>\n",
       "      <th>1013751</th>\n",
       "      <td>1021349</td>\n",
       "      <td>AssignHearingDispositionTask</td>\n",
       "      <td>HearingTask</td>\n",
       "    </tr>\n",
       "    <tr>\n",
       "      <th>1013752</th>\n",
       "      <td>1021350</td>\n",
       "      <td>AssignHearingDispositionTask</td>\n",
       "      <td>HearingTask</td>\n",
       "    </tr>\n",
       "    <tr>\n",
       "      <th>1013753</th>\n",
       "      <td>1021351</td>\n",
       "      <td>AssignHearingDispositionTask</td>\n",
       "      <td>HearingTask</td>\n",
       "    </tr>\n",
       "    <tr>\n",
       "      <th>1013754</th>\n",
       "      <td>1021352</td>\n",
       "      <td>AssignHearingDispositionTask</td>\n",
       "      <td>HearingTask</td>\n",
       "    </tr>\n",
       "  </tbody>\n",
       "</table>\n",
       "<p>1013755 rows × 3 columns</p>\n",
       "</div>"
      ],
      "text/plain": [
       "            id_x                           type_x             type_y\n",
       "0              1  InformalHearingPresentationTask           RootTask\n",
       "1              2  InformalHearingPresentationTask           RootTask\n",
       "2              3  InformalHearingPresentationTask           RootTask\n",
       "3              4  InformalHearingPresentationTask           RootTask\n",
       "4              5  InformalHearingPresentationTask           RootTask\n",
       "...          ...                              ...                ...\n",
       "1013750  1021348                QualityReviewTask  QualityReviewTask\n",
       "1013751  1021349     AssignHearingDispositionTask        HearingTask\n",
       "1013752  1021350     AssignHearingDispositionTask        HearingTask\n",
       "1013753  1021351     AssignHearingDispositionTask        HearingTask\n",
       "1013754  1021352     AssignHearingDispositionTask        HearingTask\n",
       "\n",
       "[1013755 rows x 3 columns]"
      ]
     },
     "execution_count": 70,
     "metadata": {},
     "output_type": "execute_result"
    }
   ],
   "source": [
    "childParent"
   ]
  },
  {
   "cell_type": "code",
   "execution_count": null,
   "metadata": {
    "scrolled": false
   },
   "outputs": [],
   "source": [
    "trial1=childParent.where(childParent['type_x']=='AppealWithdrawalMailTask').dropna()\n",
    "trial1"
   ]
  },
  {
   "cell_type": "code",
   "execution_count": 93,
   "metadata": {},
   "outputs": [
    {
     "data": {
      "text/html": [
       "<div>\n",
       "<style scoped>\n",
       "    .dataframe tbody tr th:only-of-type {\n",
       "        vertical-align: middle;\n",
       "    }\n",
       "\n",
       "    .dataframe tbody tr th {\n",
       "        vertical-align: top;\n",
       "    }\n",
       "\n",
       "    .dataframe thead th {\n",
       "        text-align: right;\n",
       "    }\n",
       "</style>\n",
       "<table border=\"1\" class=\"dataframe\">\n",
       "  <thead>\n",
       "    <tr style=\"text-align: right;\">\n",
       "      <th></th>\n",
       "      <th></th>\n",
       "      <th>id_x</th>\n",
       "    </tr>\n",
       "    <tr>\n",
       "      <th>type_x</th>\n",
       "      <th>type_y</th>\n",
       "      <th></th>\n",
       "    </tr>\n",
       "  </thead>\n",
       "  <tbody>\n",
       "    <tr>\n",
       "      <th rowspan=\"2\" valign=\"top\">AppealWithdrawalMailTask</th>\n",
       "      <th>AppealWithdrawalMailTask</th>\n",
       "      <td>173</td>\n",
       "    </tr>\n",
       "    <tr>\n",
       "      <th>RootTask</th>\n",
       "      <td>86</td>\n",
       "    </tr>\n",
       "  </tbody>\n",
       "</table>\n",
       "</div>"
      ],
      "text/plain": [
       "                                                   id_x\n",
       "type_x                   type_y                        \n",
       "AppealWithdrawalMailTask AppealWithdrawalMailTask   173\n",
       "                         RootTask                    86"
      ]
     },
     "execution_count": 93,
     "metadata": {},
     "output_type": "execute_result"
    }
   ],
   "source": [
    "trial1.groupby(['type_x', 'type_y']).count()"
   ]
  },
  {
   "cell_type": "code",
   "execution_count": 161,
   "metadata": {},
   "outputs": [
    {
     "data": {
      "text/html": [
       "<div>\n",
       "<style scoped>\n",
       "    .dataframe tbody tr th:only-of-type {\n",
       "        vertical-align: middle;\n",
       "    }\n",
       "\n",
       "    .dataframe tbody tr th {\n",
       "        vertical-align: top;\n",
       "    }\n",
       "\n",
       "    .dataframe thead th {\n",
       "        text-align: right;\n",
       "    }\n",
       "</style>\n",
       "<table border=\"1\" class=\"dataframe\">\n",
       "  <thead>\n",
       "    <tr style=\"text-align: right;\">\n",
       "      <th></th>\n",
       "      <th>type_x</th>\n",
       "      <th>type_y</th>\n",
       "      <th>id_x</th>\n",
       "    </tr>\n",
       "  </thead>\n",
       "  <tbody>\n",
       "    <tr>\n",
       "      <th>0</th>\n",
       "      <td>AbstractMotionToVacateTask</td>\n",
       "      <td>VacateMotionMailTask</td>\n",
       "      <td>1</td>\n",
       "    </tr>\n",
       "    <tr>\n",
       "      <th>1</th>\n",
       "      <td>AddressChangeMailTask</td>\n",
       "      <td>AddressChangeMailTask</td>\n",
       "      <td>27</td>\n",
       "    </tr>\n",
       "    <tr>\n",
       "      <th>2</th>\n",
       "      <td>AddressChangeMailTask</td>\n",
       "      <td>RootTask</td>\n",
       "      <td>16</td>\n",
       "    </tr>\n",
       "    <tr>\n",
       "      <th>3</th>\n",
       "      <td>AddressVerificationColocatedTask</td>\n",
       "      <td>AddressVerificationColocatedTask</td>\n",
       "      <td>783</td>\n",
       "    </tr>\n",
       "    <tr>\n",
       "      <th>4</th>\n",
       "      <td>AddressVerificationColocatedTask</td>\n",
       "      <td>AttorneyTask</td>\n",
       "      <td>38</td>\n",
       "    </tr>\n",
       "    <tr>\n",
       "      <th>5</th>\n",
       "      <td>AddressVerificationColocatedTask</td>\n",
       "      <td>JudgeAssignTask</td>\n",
       "      <td>1</td>\n",
       "    </tr>\n",
       "    <tr>\n",
       "      <th>6</th>\n",
       "      <td>AodMotionMailTask</td>\n",
       "      <td>AodMotionMailTask</td>\n",
       "      <td>861</td>\n",
       "    </tr>\n",
       "    <tr>\n",
       "      <th>7</th>\n",
       "      <td>AodMotionMailTask</td>\n",
       "      <td>RootTask</td>\n",
       "      <td>423</td>\n",
       "    </tr>\n",
       "    <tr>\n",
       "      <th>8</th>\n",
       "      <td>AojColocatedTask</td>\n",
       "      <td>AojColocatedTask</td>\n",
       "      <td>1403</td>\n",
       "    </tr>\n",
       "    <tr>\n",
       "      <th>9</th>\n",
       "      <td>AojColocatedTask</td>\n",
       "      <td>AttorneyRewriteTask</td>\n",
       "      <td>1</td>\n",
       "    </tr>\n",
       "    <tr>\n",
       "      <th>10</th>\n",
       "      <td>AojColocatedTask</td>\n",
       "      <td>AttorneyTask</td>\n",
       "      <td>22</td>\n",
       "    </tr>\n",
       "    <tr>\n",
       "      <th>11</th>\n",
       "      <td>AppealWithdrawalMailTask</td>\n",
       "      <td>AppealWithdrawalMailTask</td>\n",
       "      <td>173</td>\n",
       "    </tr>\n",
       "    <tr>\n",
       "      <th>288</th>\n",
       "      <td>VacateMotionMailTask</td>\n",
       "      <td>VacateMotionMailTask</td>\n",
       "      <td>33</td>\n",
       "    </tr>\n",
       "    <tr>\n",
       "      <th>289</th>\n",
       "      <td>VeteranRecordRequest</td>\n",
       "      <td>RootTask</td>\n",
       "      <td>513</td>\n",
       "    </tr>\n",
       "  </tbody>\n",
       "</table>\n",
       "</div>"
      ],
      "text/plain": [
       "                                               type_x  \\\n",
       "0                          AbstractMotionToVacateTask   \n",
       "1                               AddressChangeMailTask   \n",
       "2                               AddressChangeMailTask   \n",
       "3                    AddressVerificationColocatedTask   \n",
       "4                    AddressVerificationColocatedTask   \n",
       "5                    AddressVerificationColocatedTask   \n",
       "6                                   AodMotionMailTask   \n",
       "7                                   AodMotionMailTask   \n",
       "8                                    AojColocatedTask   \n",
       "9                                    AojColocatedTask   \n",
       "10                                   AojColocatedTask   \n",
       "11                           AppealWithdrawalMailTask   \n",
       "12                           AppealWithdrawalMailTask   \n",
       "13                               ArnesonColocatedTask   \n",
       "14                       AssignHearingDispositionTask   \n",
       "15                         AttorneyDispatchReturnTask   \n",
       "16                          AttorneyQualityReviewTask   \n",
       "17                                AttorneyRewriteTask   \n",
       "18                                       AttorneyTask   \n",
       "19                                       AttorneyTask   \n",
       "20                                    BvaDispatchTask   \n",
       "21                                    BvaDispatchTask   \n",
       "22                       ChangeHearingDispositionTask   \n",
       "23                 ClearAndUnmistakeableErrorMailTask   \n",
       "24                 ClearAndUnmistakeableErrorMailTask   \n",
       "25                      CongressionalInterestMailTask   \n",
       "26                      CongressionalInterestMailTask   \n",
       "27                      CongressionalInterestMailTask   \n",
       "28                   ControlledCorrespondenceMailTask   \n",
       "29                   ControlledCorrespondenceMailTask   \n",
       "30                           DeathCertificateMailTask   \n",
       "31                           DeathCertificateMailTask   \n",
       "32                           DeniedMotionToVacateTask   \n",
       "33                           DeniedMotionToVacateTask   \n",
       "34                                   DistributionTask   \n",
       "35                         EvidenceOrArgumentMailTask   \n",
       "36                         EvidenceOrArgumentMailTask   \n",
       "37                       EvidenceSubmissionWindowTask   \n",
       "38                       EvidenceSubmissionWindowTask   \n",
       "39                       EvidenceSubmissionWindowTask   \n",
       "40                       EvidenceSubmissionWindowTask   \n",
       "41                       EvidenceSubmissionWindowTask   \n",
       "42                       EvidenceSubmissionWindowTask   \n",
       "43                             ExtensionColocatedTask   \n",
       "44                             ExtensionColocatedTask   \n",
       "45                             ExtensionColocatedTask   \n",
       "46                             ExtensionColocatedTask   \n",
       "47                             ExtensionColocatedTask   \n",
       "48                             ExtensionColocatedTask   \n",
       "49                             ExtensionColocatedTask   \n",
       "50                           ExtensionRequestMailTask   \n",
       "51                           ExtensionRequestMailTask   \n",
       "52                           ExtensionRequestMailTask   \n",
       "53                                  FoiaColocatedTask   \n",
       "54                                  FoiaColocatedTask   \n",
       "55                                  FoiaColocatedTask   \n",
       "56                                  FoiaColocatedTask   \n",
       "57                                  FoiaColocatedTask   \n",
       "58                                  FoiaColocatedTask   \n",
       "59                                  FoiaColocatedTask   \n",
       "60                                FoiaRequestMailTask   \n",
       "61                                FoiaRequestMailTask   \n",
       "62                                FoiaRequestMailTask   \n",
       "63                                           FoiaTask   \n",
       "64                                           FoiaTask   \n",
       "65            HearingAdminActionContestedClaimantTask   \n",
       "66            HearingAdminActionContestedClaimantTask   \n",
       "67           HearingAdminActionFoiaPrivacyRequestTask   \n",
       "68           HearingAdminActionFoiaPrivacyRequestTask   \n",
       "69           HearingAdminActionForeignVeteranCaseTask   \n",
       "70           HearingAdminActionForeignVeteranCaseTask   \n",
       "71          HearingAdminActionIncarceratedVeteranTask   \n",
       "72          HearingAdminActionIncarceratedVeteranTask   \n",
       "73                 HearingAdminActionMissingFormsTask   \n",
       "74                 HearingAdminActionMissingFormsTask   \n",
       "75                        HearingAdminActionOtherTask   \n",
       "76                        HearingAdminActionOtherTask   \n",
       "77                HearingAdminActionVerifyAddressTask   \n",
       "78                HearingAdminActionVerifyAddressTask   \n",
       "79                    HearingAdminActionVerifyPoaTask   \n",
       "80                    HearingAdminActionVerifyPoaTask   \n",
       "81                  HearingClarificationColocatedTask   \n",
       "82                  HearingClarificationColocatedTask   \n",
       "83                  HearingClarificationColocatedTask   \n",
       "84                  HearingClarificationColocatedTask   \n",
       "85                             HearingRelatedMailTask   \n",
       "86                             HearingRelatedMailTask   \n",
       "87                             HearingRelatedMailTask   \n",
       "88                                        HearingTask   \n",
       "89                                        HearingTask   \n",
       "90                                        HearingTask   \n",
       "91                                        HearingTask   \n",
       "92                                   IhpColocatedTask   \n",
       "93                                   IhpColocatedTask   \n",
       "94                                   IhpColocatedTask   \n",
       "95                                   IhpColocatedTask   \n",
       "96                                   IhpColocatedTask   \n",
       "97                                   IhpColocatedTask   \n",
       "98                                   IhpColocatedTask   \n",
       "99                                   IhpColocatedTask   \n",
       "100                   InformalHearingPresentationTask   \n",
       "101                   InformalHearingPresentationTask   \n",
       "102                   InformalHearingPresentationTask   \n",
       "103                   InformalHearingPresentationTask   \n",
       "104                    JudgeAddressMotionToVacateTask   \n",
       "105                                   JudgeAssignTask   \n",
       "106                           JudgeDecisionReviewTask   \n",
       "107                           JudgeDispatchReturnTask   \n",
       "108                            JudgeQualityReviewTask   \n",
       "109            MissingHearingTranscriptsColocatedTask   \n",
       "110            MissingHearingTranscriptsColocatedTask   \n",
       "111            MissingHearingTranscriptsColocatedTask   \n",
       "112            MissingHearingTranscriptsColocatedTask   \n",
       "113                       MissingRecordsColocatedTask   \n",
       "114                       MissingRecordsColocatedTask   \n",
       "115                       MissingRecordsColocatedTask   \n",
       "116                       MissingRecordsColocatedTask   \n",
       "117                       MissingRecordsColocatedTask   \n",
       "118                       MissingRecordsColocatedTask   \n",
       "119                      NewRepArgumentsColocatedTask   \n",
       "120                      NewRepArgumentsColocatedTask   \n",
       "121                      NewRepArgumentsColocatedTask   \n",
       "122                      NewRepArgumentsColocatedTask   \n",
       "123                      NewRepArgumentsColocatedTask   \n",
       "124                                 NoShowHearingTask   \n",
       "125                                 NoShowHearingTask   \n",
       "126                                 NoShowHearingTask   \n",
       "127                                OtherColocatedTask   \n",
       "128                                OtherColocatedTask   \n",
       "129                                OtherColocatedTask   \n",
       "130                                OtherColocatedTask   \n",
       "131                                OtherColocatedTask   \n",
       "132                                OtherColocatedTask   \n",
       "133                                OtherColocatedTask   \n",
       "134                                OtherColocatedTask   \n",
       "135                                OtherColocatedTask   \n",
       "136                               OtherMotionMailTask   \n",
       "137                               OtherMotionMailTask   \n",
       "138                  PendingScanningVbmsColocatedTask   \n",
       "139                  PendingScanningVbmsColocatedTask   \n",
       "140                  PendingScanningVbmsColocatedTask   \n",
       "141                     PoaClarificationColocatedTask   \n",
       "142                     PoaClarificationColocatedTask   \n",
       "143                     PoaClarificationColocatedTask   \n",
       "144                     PoaClarificationColocatedTask   \n",
       "145                     PoaClarificationColocatedTask   \n",
       "146                     PoaClarificationColocatedTask   \n",
       "147                     PoaClarificationColocatedTask   \n",
       "148                    PowerOfAttorneyRelatedMailTask   \n",
       "149                    PowerOfAttorneyRelatedMailTask   \n",
       "150                    PowerOfAttorneyRelatedMailTask   \n",
       "151                       PreRoutingFoiaColocatedTask   \n",
       "152                       PreRoutingFoiaColocatedTask   \n",
       "153                       PreRoutingFoiaColocatedTask   \n",
       "154                       PreRoutingFoiaColocatedTask   \n",
       "155  PreRoutingMissingHearingTranscriptsColocatedTask   \n",
       "156  PreRoutingMissingHearingTranscriptsColocatedTask   \n",
       "157                PreRoutingTranslationColocatedTask   \n",
       "158                PreRoutingTranslationColocatedTask   \n",
       "159                         PrivacyActRequestMailTask   \n",
       "160                         PrivacyActRequestMailTask   \n",
       "161                                    PrivacyActTask   \n",
       "162                                    PrivacyActTask   \n",
       "163                                    PrivacyActTask   \n",
       "164                                    PrivacyActTask   \n",
       "165                                    PrivacyActTask   \n",
       "166                                    PrivacyActTask   \n",
       "167                                    PrivacyActTask   \n",
       "168                                    PrivacyActTask   \n",
       "169                                    PrivacyActTask   \n",
       "170                                    PrivacyActTask   \n",
       "171                                    PrivacyActTask   \n",
       "172                                    PrivacyActTask   \n",
       "173                                    PrivacyActTask   \n",
       "174                                    PrivacyActTask   \n",
       "175                                    PrivacyActTask   \n",
       "176                                  PulacCerulloTask   \n",
       "177                                  PulacCerulloTask   \n",
       "178                                  PulacCerulloTask   \n",
       "179                                 QualityReviewTask   \n",
       "180                                 QualityReviewTask   \n",
       "181                     ReconsiderationMotionMailTask   \n",
       "182                     ReconsiderationMotionMailTask   \n",
       "183                           RetiredVljColocatedTask   \n",
       "184                           RetiredVljColocatedTask   \n",
       "185                           RetiredVljColocatedTask   \n",
       "186       ReturnedUndeliverableCorrespondenceMailTask   \n",
       "187       ReturnedUndeliverableCorrespondenceMailTask   \n",
       "188                      ScheduleHearingColocatedTask   \n",
       "189                      ScheduleHearingColocatedTask   \n",
       "190                      ScheduleHearingColocatedTask   \n",
       "191                      ScheduleHearingColocatedTask   \n",
       "192                      ScheduleHearingColocatedTask   \n",
       "193                      ScheduleHearingColocatedTask   \n",
       "194                               ScheduleHearingTask   \n",
       "195                               ScheduleHearingTask   \n",
       "196                           SpecialCaseMovementTask   \n",
       "197                             StatusInquiryMailTask   \n",
       "198                             StatusInquiryMailTask   \n",
       "199                         StayedAppealColocatedTask   \n",
       "200                         StayedAppealColocatedTask   \n",
       "201                         StayedAppealColocatedTask   \n",
       "202                         StayedAppealColocatedTask   \n",
       "203                         StayedAppealColocatedTask   \n",
       "204                                              Task   \n",
       "205                                              Task   \n",
       "206                                              Task   \n",
       "207                                              Task   \n",
       "208                                              Task   \n",
       "209                                              Task   \n",
       "210                                              Task   \n",
       "211                                              Task   \n",
       "212                                              Task   \n",
       "213                                              Task   \n",
       "214                                              Task   \n",
       "215                                              Task   \n",
       "216                                              Task   \n",
       "217                                              Task   \n",
       "218                                              Task   \n",
       "219                                              Task   \n",
       "220                                              Task   \n",
       "221                                              Task   \n",
       "222                                              Task   \n",
       "223                                              Task   \n",
       "224                                              Task   \n",
       "225                                     TimedHoldTask   \n",
       "226                                     TimedHoldTask   \n",
       "227                                     TimedHoldTask   \n",
       "228                                     TimedHoldTask   \n",
       "229                                     TimedHoldTask   \n",
       "230                                     TimedHoldTask   \n",
       "231                                     TimedHoldTask   \n",
       "232                                     TimedHoldTask   \n",
       "233                                     TimedHoldTask   \n",
       "234                                     TimedHoldTask   \n",
       "235                                     TimedHoldTask   \n",
       "236                                     TimedHoldTask   \n",
       "237                                     TimedHoldTask   \n",
       "238                                     TimedHoldTask   \n",
       "239                                     TimedHoldTask   \n",
       "240                                     TimedHoldTask   \n",
       "241                                     TimedHoldTask   \n",
       "242                                     TimedHoldTask   \n",
       "243                                     TimedHoldTask   \n",
       "244                                     TimedHoldTask   \n",
       "245                                     TimedHoldTask   \n",
       "246                                     TimedHoldTask   \n",
       "247                                     TimedHoldTask   \n",
       "248                                     TimedHoldTask   \n",
       "249                                     TimedHoldTask   \n",
       "250                                     TimedHoldTask   \n",
       "251                                     TimedHoldTask   \n",
       "252                                     TimedHoldTask   \n",
       "253                                     TimedHoldTask   \n",
       "254                                     TimedHoldTask   \n",
       "255                                     TimedHoldTask   \n",
       "256                                     TimedHoldTask   \n",
       "257                                     TimedHoldTask   \n",
       "258                                     TimedHoldTask   \n",
       "259                                     TimedHoldTask   \n",
       "260                                     TimedHoldTask   \n",
       "261                                     TimedHoldTask   \n",
       "262                                     TimedHoldTask   \n",
       "263                                     TimedHoldTask   \n",
       "264                                     TimedHoldTask   \n",
       "265                                     TimedHoldTask   \n",
       "266                                     TimedHoldTask   \n",
       "267                                     TimedHoldTask   \n",
       "268                                     TimedHoldTask   \n",
       "269                                  TrackVeteranTask   \n",
       "270                                 TranscriptionTask   \n",
       "271                                 TranscriptionTask   \n",
       "272                                 TranscriptionTask   \n",
       "273                                 TranscriptionTask   \n",
       "274                          TranslationColocatedTask   \n",
       "275                          TranslationColocatedTask   \n",
       "276                          TranslationColocatedTask   \n",
       "277                                   TranslationTask   \n",
       "278                                   TranslationTask   \n",
       "279                                   TranslationTask   \n",
       "280                                   TranslationTask   \n",
       "281                                   TranslationTask   \n",
       "282                                   TranslationTask   \n",
       "283                      UnaccreditedRepColocatedTask   \n",
       "284                      UnaccreditedRepColocatedTask   \n",
       "285                      UnaccreditedRepColocatedTask   \n",
       "286                      UnaccreditedRepColocatedTask   \n",
       "287                              VacateMotionMailTask   \n",
       "288                              VacateMotionMailTask   \n",
       "289                              VeteranRecordRequest   \n",
       "\n",
       "                                               type_y    id_x  \n",
       "0                                VacateMotionMailTask       1  \n",
       "1                               AddressChangeMailTask      27  \n",
       "2                                            RootTask      16  \n",
       "3                    AddressVerificationColocatedTask     783  \n",
       "4                                        AttorneyTask      38  \n",
       "5                                     JudgeAssignTask       1  \n",
       "6                                   AodMotionMailTask     861  \n",
       "7                                            RootTask     423  \n",
       "8                                    AojColocatedTask    1403  \n",
       "9                                 AttorneyRewriteTask       1  \n",
       "10                                       AttorneyTask      22  \n",
       "11                           AppealWithdrawalMailTask     173  \n",
       "12                                           RootTask      86  \n",
       "13                               ArnesonColocatedTask     192  \n",
       "14                                        HearingTask   46101  \n",
       "15                            JudgeDispatchReturnTask      29  \n",
       "16                             JudgeQualityReviewTask     122  \n",
       "17                            JudgeDecisionReviewTask    2218  \n",
       "18                                    JudgeAssignTask      33  \n",
       "19                            JudgeDecisionReviewTask   19875  \n",
       "20                                    BvaDispatchTask   18962  \n",
       "21                                           RootTask   15905  \n",
       "22                                        HearingTask    2343  \n",
       "23                 ClearAndUnmistakeableErrorMailTask      14  \n",
       "24                                           RootTask       9  \n",
       "25                      CongressionalInterestMailTask     249  \n",
       "26                                   DistributionTask     161  \n",
       "27                                           RootTask      58  \n",
       "28                   ControlledCorrespondenceMailTask      43  \n",
       "29                                           RootTask      17  \n",
       "30                           DeathCertificateMailTask       7  \n",
       "31                                           RootTask       3  \n",
       "32                         AbstractMotionToVacateTask       1  \n",
       "33                           DeniedMotionToVacateTask       1  \n",
       "34                                           RootTask   65091  \n",
       "35                         EvidenceOrArgumentMailTask    2056  \n",
       "36                                           RootTask    1454  \n",
       "37                       AssignHearingDispositionTask    1247  \n",
       "38                                       AttorneyTask       1  \n",
       "39                       ChangeHearingDispositionTask      80  \n",
       "40                                   DistributionTask   10581  \n",
       "41                       EvidenceSubmissionWindowTask     141  \n",
       "42                                        HearingTask     306  \n",
       "43                          AttorneyQualityReviewTask       1  \n",
       "44                                AttorneyRewriteTask       5  \n",
       "45                                       AttorneyTask      85  \n",
       "46                             ExtensionColocatedTask    5056  \n",
       "47                                    JudgeAssignTask       2  \n",
       "48                            JudgeDecisionReviewTask       2  \n",
       "49                            JudgeDispatchReturnTask       1  \n",
       "50                                   DistributionTask      47  \n",
       "51                           ExtensionRequestMailTask     143  \n",
       "52                                           RootTask      10  \n",
       "53                          AttorneyQualityReviewTask       1  \n",
       "54                                AttorneyRewriteTask      22  \n",
       "55                                       AttorneyTask     527  \n",
       "56                                    JudgeAssignTask      37  \n",
       "57                            JudgeDecisionReviewTask      15  \n",
       "58                             JudgeQualityReviewTask       2  \n",
       "59                                           RootTask       8  \n",
       "60                                   DistributionTask      49  \n",
       "61                                FoiaRequestMailTask      99  \n",
       "62                                           RootTask      14  \n",
       "63                                  FoiaColocatedTask    3839  \n",
       "64                                           FoiaTask    1475  \n",
       "65            HearingAdminActionContestedClaimantTask       1  \n",
       "66                                ScheduleHearingTask       1  \n",
       "67           HearingAdminActionFoiaPrivacyRequestTask       1  \n",
       "68                                ScheduleHearingTask       1  \n",
       "69           HearingAdminActionForeignVeteranCaseTask      28  \n",
       "70                                ScheduleHearingTask     459  \n",
       "71          HearingAdminActionIncarceratedVeteranTask      88  \n",
       "72                                ScheduleHearingTask      87  \n",
       "73                 HearingAdminActionMissingFormsTask      10  \n",
       "74                                ScheduleHearingTask       8  \n",
       "75                        HearingAdminActionOtherTask    1308  \n",
       "76                                ScheduleHearingTask     989  \n",
       "77                HearingAdminActionVerifyAddressTask    1077  \n",
       "78                                ScheduleHearingTask   19534  \n",
       "79                    HearingAdminActionVerifyPoaTask      10  \n",
       "80                                ScheduleHearingTask      10  \n",
       "81                                AttorneyRewriteTask       2  \n",
       "82                                       AttorneyTask     106  \n",
       "83                  HearingClarificationColocatedTask    3219  \n",
       "84                                    JudgeAssignTask      12  \n",
       "85                                   DistributionTask     155  \n",
       "86                             HearingRelatedMailTask     308  \n",
       "87                                           RootTask      58  \n",
       "88                                   DistributionTask   31703  \n",
       "89                                    JudgeAssignTask       1  \n",
       "90                            JudgeDecisionReviewTask       2  \n",
       "91                                           RootTask   81180  \n",
       "92                          AttorneyQualityReviewTask       7  \n",
       "93                                AttorneyRewriteTask      54  \n",
       "94                                       AttorneyTask     625  \n",
       "95                                   IhpColocatedTask    3043  \n",
       "96                                    JudgeAssignTask     101  \n",
       "97                            JudgeDecisionReviewTask      33  \n",
       "98                            JudgeDispatchReturnTask       1  \n",
       "99                             JudgeQualityReviewTask       9  \n",
       "100                      AssignHearingDispositionTask       1  \n",
       "101                                  DistributionTask   14040  \n",
       "102                   InformalHearingPresentationTask    8041  \n",
       "103                                          RootTask     697  \n",
       "104                              VacateMotionMailTask       6  \n",
       "105                                          RootTask   21813  \n",
       "106                                          RootTask   22453  \n",
       "107                                   BvaDispatchTask     432  \n",
       "108                                 QualityReviewTask     199  \n",
       "109                               AttorneyRewriteTask       1  \n",
       "110                                      AttorneyTask      45  \n",
       "111                                   JudgeAssignTask       4  \n",
       "112                           JudgeDecisionReviewTask       3  \n",
       "113                         AttorneyQualityReviewTask       4  \n",
       "114                               AttorneyRewriteTask       6  \n",
       "115                                      AttorneyTask     143  \n",
       "116                                   JudgeAssignTask       4  \n",
       "117                           JudgeDecisionReviewTask       1  \n",
       "118                       MissingRecordsColocatedTask     698  \n",
       "119                         AttorneyQualityReviewTask       3  \n",
       "120                               AttorneyRewriteTask       3  \n",
       "121                                      AttorneyTask      16  \n",
       "122                            JudgeQualityReviewTask       3  \n",
       "123                      NewRepArgumentsColocatedTask     190  \n",
       "124                      AssignHearingDispositionTask    3454  \n",
       "125                      ChangeHearingDispositionTask     128  \n",
       "126                                 NoShowHearingTask    2078  \n",
       "127                        AttorneyDispatchReturnTask       4  \n",
       "128                         AttorneyQualityReviewTask       9  \n",
       "129                               AttorneyRewriteTask      55  \n",
       "130                                      AttorneyTask     810  \n",
       "131                                   JudgeAssignTask     117  \n",
       "132                           JudgeDecisionReviewTask      38  \n",
       "133                           JudgeDispatchReturnTask       3  \n",
       "134                            JudgeQualityReviewTask      13  \n",
       "135                                OtherColocatedTask    8892  \n",
       "136                               OtherMotionMailTask      34  \n",
       "137                                          RootTask      18  \n",
       "138                               AttorneyRewriteTask       1  \n",
       "139                                      AttorneyTask       2  \n",
       "140                  PendingScanningVbmsColocatedTask      69  \n",
       "141                        AttorneyDispatchReturnTask       2  \n",
       "142                               AttorneyRewriteTask      12  \n",
       "143                                      AttorneyTask     108  \n",
       "144                                   JudgeAssignTask       6  \n",
       "145                           JudgeDecisionReviewTask       8  \n",
       "146                           JudgeDispatchReturnTask       1  \n",
       "147                     PoaClarificationColocatedTask    1633  \n",
       "148                                  DistributionTask      46  \n",
       "149                    PowerOfAttorneyRelatedMailTask     129  \n",
       "150                                          RootTask      20  \n",
       "151                                      AttorneyTask      22  \n",
       "152                                   JudgeAssignTask       1  \n",
       "153                           JudgeDecisionReviewTask       1  \n",
       "154                       PreRoutingFoiaColocatedTask    1143  \n",
       "155                                      AttorneyTask       2  \n",
       "156  PreRoutingMissingHearingTranscriptsColocatedTask     241  \n",
       "157                                      AttorneyTask      21  \n",
       "158                PreRoutingTranslationColocatedTask     175  \n",
       "159                                  DistributionTask      15  \n",
       "160                         PrivacyActRequestMailTask      27  \n",
       "161                  AddressVerificationColocatedTask       2  \n",
       "162                                  AojColocatedTask       7  \n",
       "163                              ArnesonColocatedTask       5  \n",
       "164                            ExtensionColocatedTask      57  \n",
       "165                                 FoiaColocatedTask     149  \n",
       "166                 HearingClarificationColocatedTask       4  \n",
       "167                                  IhpColocatedTask       2  \n",
       "168                       MissingRecordsColocatedTask       3  \n",
       "169                      NewRepArgumentsColocatedTask       3  \n",
       "170                                OtherColocatedTask     161  \n",
       "171                     PoaClarificationColocatedTask       7  \n",
       "172                       PreRoutingFoiaColocatedTask    1197  \n",
       "173  PreRoutingMissingHearingTranscriptsColocatedTask       7  \n",
       "174                                    PrivacyActTask     567  \n",
       "175                         StayedAppealColocatedTask       1  \n",
       "176                    JudgeAddressMotionToVacateTask       1  \n",
       "177                                  PulacCerulloTask       2  \n",
       "178                              VacateMotionMailTask       1  \n",
       "179                                 QualityReviewTask    1194  \n",
       "180                                          RootTask    1198  \n",
       "181                     ReconsiderationMotionMailTask      64  \n",
       "182                                          RootTask      41  \n",
       "183                                      AttorneyTask       1  \n",
       "184                                   JudgeAssignTask       2  \n",
       "185                           RetiredVljColocatedTask     472  \n",
       "186       ReturnedUndeliverableCorrespondenceMailTask     105  \n",
       "187                                          RootTask      62  \n",
       "188                         AttorneyQualityReviewTask       1  \n",
       "189                               AttorneyRewriteTask       3  \n",
       "190                                      AttorneyTask     274  \n",
       "191                                   JudgeAssignTask      53  \n",
       "192                           JudgeDecisionReviewTask       5  \n",
       "193                      ScheduleHearingColocatedTask    2150  \n",
       "194                                       HearingTask  108186  \n",
       "195                                          RootTask       1  \n",
       "196                                  DistributionTask     192  \n",
       "197                                          RootTask      84  \n",
       "198                             StatusInquiryMailTask     145  \n",
       "199                               AttorneyRewriteTask       5  \n",
       "200                                      AttorneyTask      48  \n",
       "201                                   JudgeAssignTask       6  \n",
       "202                           JudgeDecisionReviewTask       4  \n",
       "203                         StayedAppealColocatedTask     639  \n",
       "204                             AddressChangeMailTask       1  \n",
       "205                                 AodMotionMailTask       6  \n",
       "206                  ControlledCorrespondenceMailTask       1  \n",
       "207                        EvidenceOrArgumentMailTask      24  \n",
       "208                            ExtensionColocatedTask       7  \n",
       "209                          ExtensionRequestMailTask       1  \n",
       "210                                 FoiaColocatedTask       1  \n",
       "211                 HearingClarificationColocatedTask       1  \n",
       "212                            HearingRelatedMailTask       4  \n",
       "213                                OtherColocatedTask      14  \n",
       "214                               OtherMotionMailTask       2  \n",
       "215                    PowerOfAttorneyRelatedMailTask       1  \n",
       "216                       PreRoutingFoiaColocatedTask     436  \n",
       "217  PreRoutingMissingHearingTranscriptsColocatedTask       1  \n",
       "218                PreRoutingTranslationColocatedTask       2  \n",
       "219                                    PrivacyActTask       1  \n",
       "220                                 QualityReviewTask       5  \n",
       "221       ReturnedUndeliverableCorrespondenceMailTask       2  \n",
       "222                      ScheduleHearingColocatedTask       1  \n",
       "223                                              Task     336  \n",
       "224                              VacateMotionMailTask       1  \n",
       "225                  AddressVerificationColocatedTask     138  \n",
       "226                                 AodMotionMailTask      38  \n",
       "227                                  AojColocatedTask     917  \n",
       "228                          AppealWithdrawalMailTask       3  \n",
       "229                              ArnesonColocatedTask      92  \n",
       "230                                      AttorneyTask       2  \n",
       "231                                   BvaDispatchTask      48  \n",
       "232                          DeathCertificateMailTask       1  \n",
       "233                        EvidenceOrArgumentMailTask       4  \n",
       "234                            ExtensionColocatedTask    3367  \n",
       "235                          ExtensionRequestMailTask      43  \n",
       "236                               FoiaRequestMailTask       1  \n",
       "237                                          FoiaTask     161  \n",
       "238                       HearingAdminActionOtherTask       4  \n",
       "239               HearingAdminActionVerifyAddressTask       8  \n",
       "240                 HearingClarificationColocatedTask    1440  \n",
       "241                            HearingRelatedMailTask       2  \n",
       "242                                  IhpColocatedTask    2730  \n",
       "243                   InformalHearingPresentationTask      22  \n",
       "244                                   JudgeAssignTask     363  \n",
       "245                           JudgeDecisionReviewTask     113  \n",
       "246                           JudgeDispatchReturnTask       1  \n",
       "247                            JudgeQualityReviewTask       2  \n",
       "248                       MissingRecordsColocatedTask     547  \n",
       "249                      NewRepArgumentsColocatedTask     108  \n",
       "250                                 NoShowHearingTask    2759  \n",
       "251                                OtherColocatedTask    4124  \n",
       "252                  PendingScanningVbmsColocatedTask      24  \n",
       "253                     PoaClarificationColocatedTask     811  \n",
       "254                    PowerOfAttorneyRelatedMailTask       5  \n",
       "255                       PreRoutingFoiaColocatedTask      30  \n",
       "256  PreRoutingMissingHearingTranscriptsColocatedTask      72  \n",
       "257                PreRoutingTranslationColocatedTask       7  \n",
       "258                         PrivacyActRequestMailTask       1  \n",
       "259                                    PrivacyActTask     121  \n",
       "260                     ReconsiderationMotionMailTask       2  \n",
       "261                           RetiredVljColocatedTask     241  \n",
       "262                      ScheduleHearingColocatedTask     100  \n",
       "263                               ScheduleHearingTask      29  \n",
       "264                         StayedAppealColocatedTask     552  \n",
       "265                                              Task      29  \n",
       "266                                 TranscriptionTask      97  \n",
       "267                                   TranslationTask     696  \n",
       "268                      UnaccreditedRepColocatedTask      27  \n",
       "269                                          RootTask   81190  \n",
       "270                      AssignHearingDispositionTask    1405  \n",
       "271                      ChangeHearingDispositionTask     109  \n",
       "272            MissingHearingTranscriptsColocatedTask     543  \n",
       "273                                 TranscriptionTask     474  \n",
       "274                               AttorneyRewriteTask       1  \n",
       "275                                      AttorneyTask      46  \n",
       "276                                   JudgeAssignTask       2  \n",
       "277                                      AttorneyTask       2  \n",
       "278                                  DistributionTask     712  \n",
       "279                PreRoutingTranslationColocatedTask      10  \n",
       "280                                          RootTask      47  \n",
       "281                          TranslationColocatedTask     339  \n",
       "282                                   TranslationTask    1744  \n",
       "283                                      AttorneyTask       7  \n",
       "284                                   JudgeAssignTask       1  \n",
       "285                           JudgeDispatchReturnTask       1  \n",
       "286                      UnaccreditedRepColocatedTask      43  \n",
       "287                                          RootTask      16  \n",
       "288                              VacateMotionMailTask      33  \n",
       "289                                          RootTask     513  "
      ]
     },
     "execution_count": 161,
     "metadata": {},
     "output_type": "execute_result"
    }
   ],
   "source": [
    "childParentCounts=childParent.groupby(['type_x', 'type_y']).count().reset_index()\n",
    "childParentCounts"
   ]
  },
  {
   "cell_type": "code",
   "execution_count": 162,
   "metadata": {},
   "outputs": [],
   "source": [
    "pd.set_option(\"max_rows\", None)\n",
    "cpCounts=childParentCounts.rename(columns={'type_x':'child_type', 'type_y':'parent_type', 'id_x':'count'})\n",
    "cpCounts"
   ]
  },
  {
   "cell_type": "code",
   "execution_count": null,
   "metadata": {},
   "outputs": [],
   "source": [
    "!conda install --yes --prefix {sys.prefix} plotly\n",
    "import plotly.graph_objects as go"
   ]
  },
  {
   "cell_type": "code",
   "execution_count": 96,
   "metadata": {},
   "outputs": [],
   "source": [
    "# Test drawing a graph\n",
    "import networkx as nx\n",
    "G = nx.random_geometric_graph(200, 0.125)\n",
    "nx.draw(G)"
   ]
  },
  {
   "cell_type": "code",
   "execution_count": 163,
   "metadata": {},
   "outputs": [
    {
     "data": {
      "image/png": "[encoded data removed]",
      "text/plain": [
       "<Figure size 432x288 with 1 Axes>"
      ]
     },
     "metadata": {},
     "output_type": "display_data"
    }
   ],
   "source": [
    "G = nx.from_pandas_edgelist(cpCounts, source='parent_type',target='child_type', edge_attr=['count'],create_using=nx.DiGraph())\n",
    "pos=nx.spring_layout(G) # positions for all nodes\n",
    "nx.draw_networkx(G, pos)"
   ]
  },
  {
   "cell_type": "code",
   "execution_count": null,
   "metadata": {
    "scrolled": false
   },
   "outputs": [],
   "source": [
    "!conda install --yes --prefix {sys.prefix} pygraphviz"
   ]
  },
  {
   "cell_type": "code",
   "execution_count": 164,
   "metadata": {},
   "outputs": [],
   "source": [
    "# https://stackoverflow.com/questions/21978487/improving-python-networkx-graph-layout\n",
    "# https://networkx.github.io/documentation/stable/reference/generated/networkx.drawing.nx_agraph.graphviz_layout.html\n",
    "pos = nx.nx_agraph.graphviz_layout(G, prog='neato')"
   ]
  },
  {
   "cell_type": "code",
   "execution_count": 167,
   "metadata": {},
   "outputs": [
    {
     "data": {
      "image/png": "[encoded data removed]",
      "text/plain": [
       "<Figure size 1440x1440 with 1 Axes>"
      ]
     },
     "metadata": {},
     "output_type": "display_data"
    }
   ],
   "source": [
    "import matplotlib.pyplot as plt\n",
    "plt.figure(figsize=(20,20))\n",
    "\n",
    "edge_labels=dict([((u,v,), d['count']) for u,v,d in G.edges(data=True)])\n",
    "nx.draw_networkx_edge_labels(G,pos,edge_labels=edge_labels)\n",
    "nx.draw_networkx(G, pos)"
   ]
  },
  {
   "cell_type": "code",
   "execution_count": null,
   "metadata": {
    "scrolled": true
   },
   "outputs": [],
   "source": [
    "# Interactive network options\n",
    "# 1. http://compbio.ucsd.edu/bringing-interactivity-network-visualization-jupyter-notebooks-visjs2jupyter/\n",
    "!conda install --yes --prefix {sys.prefix} pyvis"
   ]
  },
  {
   "cell_type": "code",
   "execution_count": 188,
   "metadata": {
    "scrolled": false
   },
   "outputs": [
    {
     "data": {
      "text/html": [
       "\n",
       "        <iframe\n",
       "            width=\"100%\"\n",
       "            height=\"800px\"\n",
       "            src=\"readyForTweaking.html\"\n",
       "            frameborder=\"0\"\n",
       "            allowfullscreen\n",
       "        ></iframe>\n",
       "        "
      ],
      "text/plain": [
       "<IPython.lib.display.IFrame at 0x7f030759b810>"
      ]
     },
     "execution_count": 188,
     "metadata": {},
     "output_type": "execute_result"
    }
   ],
   "source": [
    "from pyvis.network import Network\n",
    "nt = Network(height=\"800px\", width=\"100%\", notebook=True)\n",
    "# populates the nodes and edges data structures\n",
    "nt.from_nx(G)\n",
    "nt.show_buttons(filter_=['nodes', 'edges', 'physics'])\n",
    "nt.show(\"readyForTweaking.html\")"
   ]
  },
  {
   "cell_type": "code",
   "execution_count": 216,
   "metadata": {},
   "outputs": [
    {
     "data": {
      "text/html": [
       "\n",
       "        <iframe\n",
       "            width=\"100%\"\n",
       "            height=\"800px\"\n",
       "            src=\"example.html\"\n",
       "            frameborder=\"0\"\n",
       "            allowfullscreen\n",
       "        ></iframe>\n",
       "        "
      ],
      "text/plain": [
       "<IPython.lib.display.IFrame at 0x7f0301acb210>"
      ]
     },
     "execution_count": 216,
     "metadata": {},
     "output_type": "execute_result"
    }
   ],
   "source": [
    "nt2 = Network(height=\"800px\", width=\"100%\", notebook=True)\n",
    "# populates the nodes and edges data structures\n",
    "nt2.from_nx(G)\n",
    "my_options=\"\"\"\n",
    "var options = {\n",
    "  \"nodes\": {\n",
    "    \"size\": 10\n",
    "  },\n",
    "  \"edges\": {\n",
    "    \"arrows\": {\n",
    "      \"to\": {\n",
    "        \"enabled\": true,\n",
    "        \"scaleFactor\": 1\n",
    "      }\n",
    "    },\n",
    "    \"color\": {\n",
    "      \"inherit\": true\n",
    "    },\n",
    "    \"scaling\": {\n",
    "      \"label\": {\n",
    "        \"max\": 77,\n",
    "        \"drawThreshold\": 10\n",
    "      }\n",
    "    },\n",
    "    \"smooth\": false\n",
    "  },\n",
    "  \"physics\": {\n",
    "    \"barnesHut\": {\n",
    "      \"gravitationalConstant\": -10200,\n",
    "      \"centralGravity\": 0.05,\n",
    "      \"springLength\": 135,\n",
    "      \"springConstant\": 0.035,\n",
    "      \"damping\": 0.39,\n",
    "      \"avoidOverlap\": 0.65\n",
    "    },\n",
    "    \"maxVelocity\": 42,\n",
    "    \"minVelocity\": 0.75,\n",
    "    \"timestep\": 0.34\n",
    "  }\n",
    "}\n",
    "\"\"\"\n",
    "nt2.set_options(my_options)\n",
    "nt2.show(\"example.html\")"
   ]
  },
  {
   "cell_type": "code",
   "execution_count": 219,
   "metadata": {},
   "outputs": [],
   "source": [
    "nt3 = Network(height=\"750px\", width=\"100%\", notebook=True)\n",
    "nt3.set_options(my_options)\n",
    "# nt3.show_buttons(filter_=['edges'])\n",
    "for index, r in cpCounts.iterrows():\n",
    "    src=r['child_type']\n",
    "    dst=r['parent_type']\n",
    "    nt3.add_node(src, src, title=src)\n",
    "    nt3.add_node(dst, dst, title=dst)\n",
    "    nt3.add_edge(src, dst, title=r['count'], value=r['count']) # value sets the edge width\n",
    "# for node in nt3.nodes:\n",
    "#     print(node)\n",
    "nt3.show(\"ParentChildTaskTypeCounts.html\")"
   ]
  },
  {
   "cell_type": "code",
   "execution_count": null,
   "metadata": {},
   "outputs": [],
   "source": []
  }
 ],
 "metadata": {
  "kernelspec": {
   "display_name": "Python 3",
   "language": "python",
   "name": "python3"
  },
  "language_info": {
   "codemirror_mode": {
    "name": "ipython",
    "version": 3
   },
   "file_extension": ".py",
   "mimetype": "text/x-python",
   "name": "python",
   "nbconvert_exporter": "python",
   "pygments_lexer": "ipython3",
   "version": "3.7.8"
  }
 },
 "nbformat": 4,
 "nbformat_minor": 4
}
